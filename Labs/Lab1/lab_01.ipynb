<!DOCTYPE html><html><head>
      <title>lab_01</title>
      <meta charset="utf-8">
      <meta name="viewport" content="width=device-width, initial-scale=1.0">
      
      <link rel="stylesheet" href="file:////Users/marek/.vscode/extensions/shd101wyy.markdown-preview-enhanced-0.6.7/node_modules/@shd101wyy/mume/dependencies/katex/katex.min.css">
      
      
      
      
      
      
      
      
      
      <style>
      /**
 * prism.js Github theme based on GitHub's theme.
 * @author Sam Clarke
 */
code[class*="language-"],
pre[class*="language-"] {
  color: #333;
  background: none;
  font-family: Consolas, "Liberation Mono", Menlo, Courier, monospace;
  text-align: left;
  white-space: pre;
  word-spacing: normal;
  word-break: normal;
  word-wrap: normal;
  line-height: 1.4;

  -moz-tab-size: 8;
  -o-tab-size: 8;
  tab-size: 8;

  -webkit-hyphens: none;
  -moz-hyphens: none;
  -ms-hyphens: none;
  hyphens: none;
}

/* Code blocks */
pre[class*="language-"] {
  padding: .8em;
  overflow: auto;
  /* border: 1px solid #ddd; */
  border-radius: 3px;
  /* background: #fff; */
  background: #f5f5f5;
}

/* Inline code */
:not(pre) > code[class*="language-"] {
  padding: .1em;
  border-radius: .3em;
  white-space: normal;
  background: #f5f5f5;
}

.token.comment,
.token.blockquote {
  color: #969896;
}

.token.cdata {
  color: #183691;
}

.token.doctype,
.token.punctuation,
.token.variable,
.token.macro.property {
  color: #333;
}

.token.operator,
.token.important,
.token.keyword,
.token.rule,
.token.builtin {
  color: #a71d5d;
}

.token.string,
.token.url,
.token.regex,
.token.attr-value {
  color: #183691;
}

.token.property,
.token.number,
.token.boolean,
.token.entity,
.token.atrule,
.token.constant,
.token.symbol,
.token.command,
.token.code {
  color: #0086b3;
}

.token.tag,
.token.selector,
.token.prolog {
  color: #63a35c;
}

.token.function,
.token.namespace,
.token.pseudo-element,
.token.class,
.token.class-name,
.token.pseudo-class,
.token.id,
.token.url-reference .token.variable,
.token.attr-name {
  color: #795da3;
}

.token.entity {
  cursor: help;
}

.token.title,
.token.title .token.punctuation {
  font-weight: bold;
  color: #1d3e81;
}

.token.list {
  color: #ed6a43;
}

.token.inserted {
  background-color: #eaffea;
  color: #55a532;
}

.token.deleted {
  background-color: #ffecec;
  color: #bd2c00;
}

.token.bold {
  font-weight: bold;
}

.token.italic {
  font-style: italic;
}


/* JSON */
.language-json .token.property {
  color: #183691;
}

.language-markup .token.tag .token.punctuation {
  color: #333;
}

/* CSS */
code.language-css,
.language-css .token.function {
  color: #0086b3;
}

/* YAML */
.language-yaml .token.atrule {
  color: #63a35c;
}

code.language-yaml {
  color: #183691;
}

/* Ruby */
.language-ruby .token.function {
  color: #333;
}

/* Markdown */
.language-markdown .token.url {
  color: #795da3;
}

/* Makefile */
.language-makefile .token.symbol {
  color: #795da3;
}

.language-makefile .token.variable {
  color: #183691;
}

.language-makefile .token.builtin {
  color: #0086b3;
}

/* Bash */
.language-bash .token.keyword {
  color: #0086b3;
}

/* highlight */
pre[data-line] {
  position: relative;
  padding: 1em 0 1em 3em;
}
pre[data-line] .line-highlight-wrapper {
  position: absolute;
  top: 0;
  left: 0;
  background-color: transparent;
  display: block;
  width: 100%;
}

pre[data-line] .line-highlight {
  position: absolute;
  left: 0;
  right: 0;
  padding: inherit 0;
  margin-top: 1em;
  background: hsla(24, 20%, 50%,.08);
  background: linear-gradient(to right, hsla(24, 20%, 50%,.1) 70%, hsla(24, 20%, 50%,0));
  pointer-events: none;
  line-height: inherit;
  white-space: pre;
}

pre[data-line] .line-highlight:before, 
pre[data-line] .line-highlight[data-end]:after {
  content: attr(data-start);
  position: absolute;
  top: .4em;
  left: .6em;
  min-width: 1em;
  padding: 0 .5em;
  background-color: hsla(24, 20%, 50%,.4);
  color: hsl(24, 20%, 95%);
  font: bold 65%/1.5 sans-serif;
  text-align: center;
  vertical-align: .3em;
  border-radius: 999px;
  text-shadow: none;
  box-shadow: 0 1px white;
}

pre[data-line] .line-highlight[data-end]:after {
  content: attr(data-end);
  top: auto;
  bottom: .4em;
}html body{font-family:"Helvetica Neue",Helvetica,"Segoe UI",Arial,freesans,sans-serif;font-size:16px;line-height:1.6;color:#333;background-color:#fff;overflow:initial;box-sizing:border-box;word-wrap:break-word}html body>:first-child{margin-top:0}html body h1,html body h2,html body h3,html body h4,html body h5,html body h6{line-height:1.2;margin-top:1em;margin-bottom:16px;color:#000}html body h1{font-size:2.25em;font-weight:300;padding-bottom:.3em}html body h2{font-size:1.75em;font-weight:400;padding-bottom:.3em}html body h3{font-size:1.5em;font-weight:500}html body h4{font-size:1.25em;font-weight:600}html body h5{font-size:1.1em;font-weight:600}html body h6{font-size:1em;font-weight:600}html body h1,html body h2,html body h3,html body h4,html body h5{font-weight:600}html body h5{font-size:1em}html body h6{color:#5c5c5c}html body strong{color:#000}html body del{color:#5c5c5c}html body a:not([href]){color:inherit;text-decoration:none}html body a{color:#08c;text-decoration:none}html body a:hover{color:#00a3f5;text-decoration:none}html body img{max-width:100%}html body>p{margin-top:0;margin-bottom:16px;word-wrap:break-word}html body>ul,html body>ol{margin-bottom:16px}html body ul,html body ol{padding-left:2em}html body ul.no-list,html body ol.no-list{padding:0;list-style-type:none}html body ul ul,html body ul ol,html body ol ol,html body ol ul{margin-top:0;margin-bottom:0}html body li{margin-bottom:0}html body li.task-list-item{list-style:none}html body li>p{margin-top:0;margin-bottom:0}html body .task-list-item-checkbox{margin:0 .2em .25em -1.8em;vertical-align:middle}html body .task-list-item-checkbox:hover{cursor:pointer}html body blockquote{margin:16px 0;font-size:inherit;padding:0 15px;color:#5c5c5c;background-color:#f0f0f0;border-left:4px solid #d6d6d6}html body blockquote>:first-child{margin-top:0}html body blockquote>:last-child{margin-bottom:0}html body hr{height:4px;margin:32px 0;background-color:#d6d6d6;border:0 none}html body table{margin:10px 0 15px 0;border-collapse:collapse;border-spacing:0;display:block;width:100%;overflow:auto;word-break:normal;word-break:keep-all}html body table th{font-weight:bold;color:#000}html body table td,html body table th{border:1px solid #d6d6d6;padding:6px 13px}html body dl{padding:0}html body dl dt{padding:0;margin-top:16px;font-size:1em;font-style:italic;font-weight:bold}html body dl dd{padding:0 16px;margin-bottom:16px}html body code{font-family:Menlo,Monaco,Consolas,'Courier New',monospace;font-size:.85em !important;color:#000;background-color:#f0f0f0;border-radius:3px;padding:.2em 0}html body code::before,html body code::after{letter-spacing:-0.2em;content:"\00a0"}html body pre>code{padding:0;margin:0;font-size:.85em !important;word-break:normal;white-space:pre;background:transparent;border:0}html body .highlight{margin-bottom:16px}html body .highlight pre,html body pre{padding:1em;overflow:auto;font-size:.85em !important;line-height:1.45;border:#d6d6d6;border-radius:3px}html body .highlight pre{margin-bottom:0;word-break:normal}html body pre code,html body pre tt{display:inline;max-width:initial;padding:0;margin:0;overflow:initial;line-height:inherit;word-wrap:normal;background-color:transparent;border:0}html body pre code:before,html body pre tt:before,html body pre code:after,html body pre tt:after{content:normal}html body p,html body blockquote,html body ul,html body ol,html body dl,html body pre{margin-top:0;margin-bottom:16px}html body kbd{color:#000;border:1px solid #d6d6d6;border-bottom:2px solid #c7c7c7;padding:2px 4px;background-color:#f0f0f0;border-radius:3px}@media print{html body{background-color:#fff}html body h1,html body h2,html body h3,html body h4,html body h5,html body h6{color:#000;page-break-after:avoid}html body blockquote{color:#5c5c5c}html body pre{page-break-inside:avoid}html body table{display:table}html body img{display:block;max-width:100%;max-height:100%}html body pre,html body code{word-wrap:break-word;white-space:pre}}.markdown-preview{width:100%;height:100%;box-sizing:border-box}.markdown-preview .pagebreak,.markdown-preview .newpage{page-break-before:always}.markdown-preview pre.line-numbers{position:relative;padding-left:3.8em;counter-reset:linenumber}.markdown-preview pre.line-numbers>code{position:relative}.markdown-preview pre.line-numbers .line-numbers-rows{position:absolute;pointer-events:none;top:1em;font-size:100%;left:0;width:3em;letter-spacing:-1px;border-right:1px solid #999;-webkit-user-select:none;-moz-user-select:none;-ms-user-select:none;user-select:none}.markdown-preview pre.line-numbers .line-numbers-rows>span{pointer-events:none;display:block;counter-increment:linenumber}.markdown-preview pre.line-numbers .line-numbers-rows>span:before{content:counter(linenumber);color:#999;display:block;padding-right:.8em;text-align:right}.markdown-preview .mathjax-exps .MathJax_Display{text-align:center !important}.markdown-preview:not([for="preview"]) .code-chunk .btn-group{display:none}.markdown-preview:not([for="preview"]) .code-chunk .status{display:none}.markdown-preview:not([for="preview"]) .code-chunk .output-div{margin-bottom:16px}.markdown-preview .md-toc{padding:0}.markdown-preview .md-toc .md-toc-link-wrapper .md-toc-link{display:inline;padding:.25rem 0}.markdown-preview .md-toc .md-toc-link-wrapper .md-toc-link p,.markdown-preview .md-toc .md-toc-link-wrapper .md-toc-link div{display:inline}.markdown-preview .md-toc .md-toc-link-wrapper.highlighted .md-toc-link{font-weight:800}.scrollbar-style::-webkit-scrollbar{width:8px}.scrollbar-style::-webkit-scrollbar-track{border-radius:10px;background-color:transparent}.scrollbar-style::-webkit-scrollbar-thumb{border-radius:5px;background-color:rgba(150,150,150,0.66);border:4px solid rgba(150,150,150,0.66);background-clip:content-box}html body[for="html-export"]:not([data-presentation-mode]){position:relative;width:100%;height:100%;top:0;left:0;margin:0;padding:0;overflow:auto}html body[for="html-export"]:not([data-presentation-mode]) .markdown-preview{position:relative;top:0}@media screen and (min-width:914px){html body[for="html-export"]:not([data-presentation-mode]) .markdown-preview{padding:2em calc(50% - 457px + 2em)}}@media screen and (max-width:914px){html body[for="html-export"]:not([data-presentation-mode]) .markdown-preview{padding:2em}}@media screen and (max-width:450px){html body[for="html-export"]:not([data-presentation-mode]) .markdown-preview{font-size:14px !important;padding:1em}}@media print{html body[for="html-export"]:not([data-presentation-mode]) #sidebar-toc-btn{display:none}}html body[for="html-export"]:not([data-presentation-mode]) #sidebar-toc-btn{position:fixed;bottom:8px;left:8px;font-size:28px;cursor:pointer;color:inherit;z-index:99;width:32px;text-align:center;opacity:.4}html body[for="html-export"]:not([data-presentation-mode])[html-show-sidebar-toc] #sidebar-toc-btn{opacity:1}html body[for="html-export"]:not([data-presentation-mode])[html-show-sidebar-toc] .md-sidebar-toc{position:fixed;top:0;left:0;width:300px;height:100%;padding:32px 0 48px 0;font-size:14px;box-shadow:0 0 4px rgba(150,150,150,0.33);box-sizing:border-box;overflow:auto;background-color:inherit}html body[for="html-export"]:not([data-presentation-mode])[html-show-sidebar-toc] .md-sidebar-toc::-webkit-scrollbar{width:8px}html body[for="html-export"]:not([data-presentation-mode])[html-show-sidebar-toc] .md-sidebar-toc::-webkit-scrollbar-track{border-radius:10px;background-color:transparent}html body[for="html-export"]:not([data-presentation-mode])[html-show-sidebar-toc] .md-sidebar-toc::-webkit-scrollbar-thumb{border-radius:5px;background-color:rgba(150,150,150,0.66);border:4px solid rgba(150,150,150,0.66);background-clip:content-box}html body[for="html-export"]:not([data-presentation-mode])[html-show-sidebar-toc] .md-sidebar-toc a{text-decoration:none}html body[for="html-export"]:not([data-presentation-mode])[html-show-sidebar-toc] .md-sidebar-toc .md-toc{padding:0 16px}html body[for="html-export"]:not([data-presentation-mode])[html-show-sidebar-toc] .md-sidebar-toc .md-toc .md-toc-link-wrapper .md-toc-link{display:inline;padding:.25rem 0}html body[for="html-export"]:not([data-presentation-mode])[html-show-sidebar-toc] .md-sidebar-toc .md-toc .md-toc-link-wrapper .md-toc-link p,html body[for="html-export"]:not([data-presentation-mode])[html-show-sidebar-toc] .md-sidebar-toc .md-toc .md-toc-link-wrapper .md-toc-link div{display:inline}html body[for="html-export"]:not([data-presentation-mode])[html-show-sidebar-toc] .md-sidebar-toc .md-toc .md-toc-link-wrapper.highlighted .md-toc-link{font-weight:800}html body[for="html-export"]:not([data-presentation-mode])[html-show-sidebar-toc] .markdown-preview{left:300px;width:calc(100% -  300px);padding:2em calc(50% - 457px -  300px/2);margin:0;box-sizing:border-box}@media screen and (max-width:1274px){html body[for="html-export"]:not([data-presentation-mode])[html-show-sidebar-toc] .markdown-preview{padding:2em}}@media screen and (max-width:450px){html body[for="html-export"]:not([data-presentation-mode])[html-show-sidebar-toc] .markdown-preview{width:100%}}html body[for="html-export"]:not([data-presentation-mode]):not([html-show-sidebar-toc]) .markdown-preview{left:50%;transform:translateX(-50%)}html body[for="html-export"]:not([data-presentation-mode]):not([html-show-sidebar-toc]) .md-sidebar-toc{display:none}
/* Please visit the URL below for more information: */
/*   https://shd101wyy.github.io/markdown-preview-enhanced/#/customize-css */

      </style>
    </head>
    <body for="html-export">
      <div class="mume markdown-preview  ">
      <h1 class="mume-header" id="-python--kurs">Python &#x2014; kurs</h1>

<h2 class="mume-header" id="-laboratorium-1">Laboratorium 1</h2>

<h3 class="mume-header" id="-pow%C5%82oka-interpreter-%C5%9Brodowiska">Pow&#x142;oka, interpreter, &#x15B;rodowiska</h3>

<p>Linia polece&#x144;:</p>
<pre data-role="codeBlock" data-info="shell" class="language-shell">python3
</pre><p>Prosty skrypt w Pythonie</p>
<pre data-role="codeBlock" data-info="python" class="language-python"><span class="token comment">#!/usr/bin/python</span>
<span class="token triple-quoted-string string">&quot;&quot;&quot;
Warto si&#x119; zastanowi&#x107;, w jaki spos&#xF3;b b&#x119;dziemy uruchamiac nasz skrypt.
&quot;&quot;&quot;</span>
<span class="token keyword keyword-print">print</span><span class="token punctuation">(</span><span class="token string">&quot;Pierwszy skrypt&quot;</span><span class="token punctuation">)</span>
</pre><p>zapisany jako plik <code>skrypt.py</code> mo&#x17C;emy uruchomi&#x107;</p>
<pre data-role="codeBlock" data-info="sh" class="language-bash">python3 ./skrypt.py
</pre><p>Przed uruchomieniem nale&#x17C;y nada&#x107; plikowi <code>skrypt.py</code> odpowiednie uprawnienia:</p>
<pre data-role="codeBlock" data-info="sh" class="language-bash"><span class="token function">chmod</span> +x skrypt.py
</pre><p>&#x15A;rodowisko <strong>Jupyter</strong>, wymagaj&#x105;ce wcze&#x15B;niejszego zainstalowania:</p>
<pre data-role="codeBlock" data-info="shell" class="language-shell">pip3 <span class="token function">install</span> jupyter
</pre><p>Jupyter pozwala na interaktywn&#x105; prac&#x119; z d&#x142;u&#x17C;szymi fragmentami kodu. Nie jest jednak &#x15B;rodowiskiem programistycznym (IDE).</p>
<p>&#x15A;rodowiska programistyczne: <strong>PyCharm</strong>, <strong>Spyder</strong>, <strong>Visual Studio Code</strong></p>
<h3 class="mume-header" id="-typy-liczbowe">Typy liczbowe</h3>

<p>Prz definicjach podobnych do poni&#x17C;szej, nie definiujemy typu zmiennej. S&#x105; to nazwy, kt&#xF3;re wskazuj&#x105; na <strong>obiekty</strong> w pami&#x119;ci.</p>
<pre data-role="codeBlock" data-info="python" class="language-python">x <span class="token operator">=</span> <span class="token number">2</span>
y<span class="token operator">=</span> <span class="token number">2.0</span>
</pre><p>Do sprawdzania typy obiektu wykorzystuje si&#x119; polecenie <code>type()</code>:</p>
<pre data-role="codeBlock" data-info="python" class="language-python"><span class="token builtin">type</span><span class="token punctuation">(</span>x<span class="token punctuation">)</span>
<span class="token builtin">type</span><span class="token punctuation">(</span>y<span class="token punctuation">)</span>
</pre><p><strong>Co nazywamy s&#x142;abym typowaniem?</strong></p>
<p>Mamy trzy typy liczbowe: <code>integer</code>, <code>float</code> i <code>compex</code></p>
<p>Dzia&#x142;ania na typach liczbowych:</p>
<pre data-role="codeBlock" data-info="pthon" class="language-pthon"><code>a += b  &#x21D4; a = a + b
a -= b  &#x21D4; a = a - b 
a *= b  &#x21D4; a = a * b 
a /= b  &#x21D4; a = a / b 
a //= b &#x21D4; a = a // b 
a %= b  &#x21D4; a = a % b 
a **= b &#x21D4; a = a ** b 
</code></pre><p>Typ <code>complex</code> sk&#x142;ad si&#x119; z dw&#xF3;ch liczb typu <code>float</code> i ma atrybuty <code>real</code> i <code>imag</code>.<br>
Sprawd&#x17A; <code>z.conjugate()</code> oraz <code>abs()</code>.</p>
<p>Operatory rzutowania na typy to <code>int</code>, <code>float</code>, <code>complex</code>.</p>
<h4 class="mume-header" id="-%C4%87wiczenie-1">&#x106;wiczenie 1</h4>

<p>Napisz program obliczaj&#x105;cy pierwiastki r&#xF3;wnania kwadratowego o wsp&#xF3;&#x142;czynnikach <code>a</code>, <code>b</code>, <code>c</code>. Program powinien dzia&#x142;a&#x107; dla dowolnych typ&#xF3;w danych (liczbowych).</p>
<h3 class="mume-header" id="-typy-sekwencyjne">Typy sekwencyjne</h3>

<p>4 typy sekwencyjne:</p>
<ol>
<li>
<p>&#x141;a&#x144;cuch znak&#xF3;w (<code>str</code>):</p>
<pre data-role="codeBlock" data-info="python" class="language-python">s <span class="token operator">=</span> <span class="token string">&apos;Ala ma kota&apos;</span>
</pre></li>
<li>
<p>&#x141;a&#x144;cuch bajt&#xF3;w:</p>
<pre data-role="codeBlock" data-info="python" class="language-python">b <span class="token operator">=</span> <span class="token string">b&apos;Ala ma kota&apos;</span>
</pre></li>
<li>
<p>Lista:</p>
<pre data-role="codeBlock" data-info="python" class="language-python">l <span class="token operator">=</span> <span class="token punctuation">[</span><span class="token number">1</span><span class="token punctuation">,</span> <span class="token number">2</span><span class="token punctuation">,</span> <span class="token string">&quot;a&quot;</span><span class="token punctuation">]</span>
</pre></li>
<li>
<p>Krotka (tupple):</p>
<pre data-role="codeBlock" data-info="ython" class="language-ython"><code>k = (1, 2, 3)
</code></pre></li>
</ol>
<p>Wsp&#xF3;lne operacje dla typ&#xF3;w sekwencyjnych:</p>
<ul>
<li>indeksowanie: <code>s[n]</code>, sprawd&#x17A; <code>s[-1]</code>,</li>
<li>wycinki: <code>s[x:y:z]</code>, <code>x</code> - pocz&#x105;tek wycinka, <code>y</code> - koniec wycinka, <code>z</code>, co kt&#xF3;ry element (mo&#x17C;liwe s&#x105; warto&#x15B;ci ujemne i puste miejsca)</li>
<li>mno&#x17C;enie przez liczb&#x119;, sprawd&#x17A; <code>3*&apos;ala</code> lub <code>3*[1,2,3]</code></li>
<li>dodawanie (konkatenacja): <code>&apos;ab&apos; + bc</code> lub <code>[1, 2] + [3, 2]</code></li>
<li>operator zawierania <code>in</code>: <code>&apos;a&apos; in &apos;Ala ma kota&apos;</code></li>
<li>d&#x142;ugo&#x15B;&#x107; <code>len(s)</code></li>
<li>elementy minimalne i maksymalne <code>nim(s)</code> i <code>max(s)</code></li>
<li>wyszukiwanie pierwszego indeksu: <code>s.index(&apos;a&apos;)</code></li>
<li>zliczanie element&#xF3;w: <code>s.count(&apos;a&apos;)</code></li>
</ul>
<p>Operatory rzutowania na typy sekwencyjne to <code>str()</code>, <code>list()</code>, <code>tupple()</code></p>
<p><strong>UWAGA</strong> Sprawd&#x17A; dzia&#x142;anie nast&#x119;puj&#x105;cych polece&#x144;:</p>
<pre data-role="codeBlock" data-info="python" class="language-python"><span class="token builtin">list</span><span class="token punctuation">(</span><span class="token string">&apos;Ala ma kota.&apos;</span><span class="token punctuation">)</span>
<span class="token builtin">str</span><span class="token punctuation">(</span><span class="token punctuation">[</span><span class="token number">1</span><span class="token punctuation">,</span><span class="token number">2</span><span class="token punctuation">,</span><span class="token number">3</span><span class="token punctuation">]</span><span class="token punctuation">)</span>
</pre><p>Rzutowanie na typ <code>bytes</code> wymaga podania kodowania:</p>
<pre data-role="codeBlock" data-info="python" class="language-python">b <span class="token operator">=</span> <span class="token string">&apos;&#x17B;&#xF3;&#x142;wi&#x105;tko&apos;</span><span class="token punctuation">.</span>encode<span class="token punctuation">(</span><span class="token string">&apos;utf8&apos;</span><span class="token punctuation">)</span>
<span class="token keyword keyword-print">print</span><span class="token punctuation">(</span>b<span class="token punctuation">)</span>
s <span class="token operator">=</span> b<span class="token punctuation">.</span>decode<span class="token punctuation">(</span><span class="token string">&apos;utf8&apos;</span><span class="token punctuation">)</span>
<span class="token keyword keyword-print">print</span><span class="token punctuation">(</span>s<span class="token punctuation">)</span>
<span class="token keyword keyword-print">print</span><span class="token punctuation">(</span><span class="token builtin">len</span><span class="token punctuation">(</span>b<span class="token punctuation">)</span><span class="token punctuation">)</span>
<span class="token keyword keyword-print">print</span><span class="token punctuation">(</span><span class="token builtin">len</span><span class="token punctuation">(</span>s<span class="token punctuation">)</span><span class="token punctuation">)</span>
</pre><p><strong>UWAGA</strong> <code>x = b&quot;Ala ma kota&quot;</code> - w takim zapisie &#x142;a&#x144;cuch musi zawiera&#x107; tylko znaki ASCII.</p>
<p>&#x141;a&#x144;cuch nieprzypisany:</p>
<pre data-role="codeBlock" data-info="python" class="language-python"><span class="token triple-quoted-string string">&apos;&apos;&apos; To jest przyk&#x142;ad &#x142;a&#x144;cycha nieprzypisanego&apos;&apos;&apos;</span>
<span class="token triple-quoted-string string">&quot;&quot;&quot; To jest przyk&#x142;ad &#x142;a&#x144;cycha nieprzypisanego&quot;&quot;&quot;</span>
</pre><p>s&#x142;u&#x17C;y do komentowania i jest przez interpreter ignorowny.</p>
<h4 class="mume-header" id="-%C4%87wiczenie-2">&#x106;wiczenie 2</h4>

<p>Napisz w C/C++ program, kt&#xF3;ry wypisuje na ekranie cyfry liczby ca&#x142;kowitej wprowadzonej przez u&#x17C;ytkownika.</p>
<p><strong>Znaki ucieczki</strong> <code>\</code></p>
<ul>
<li><code>\\</code></li>
<li><code>\&apos;</code> - konieczne przy ograniczeniach <code>&apos;</code> lub <code>&apos;&apos;&apos;</code></li>
<li><code>\&quot;</code> - podobnie jak wy&#x17C;ej</li>
<li><code>\n</code> - nowa linia</li>
<li><code>\t</code> - tabulacja pozioma</li>
<li><code>\v</code> - tabulacja pionowa</li>
<li><code>\xab</code> - znak ASCII zapisany w systemie szesnastkowym</li>
<li><code>r\</code> - <code>\</code> nie jest znakiem ucieczki</li>
</ul>
<h3 class="mume-header" id="-wybrane-metody-typu-str">Wybrane metody typu <code>str</code></h3>

<ul>
<li>
<p><code>spli()</code>, <code>rsplit()</code></p>
<pre data-role="codeBlock" data-info="python" class="language-python"><span class="token string">&apos;a1a2a3aa4aaa5a&apos;</span><span class="token punctuation">.</span>spli<span class="token punctuation">(</span><span class="token string">&apos;a&apos;</span><span class="token punctuation">)</span>
<span class="token string">&apos;a1a2a3aa4aaa5a&apos;</span>spli<span class="token punctuation">(</span><span class="token string">&apos;a&apos;</span><span class="token punctuation">,</span> <span class="token number">2</span><span class="token punctuation">)</span>
<span class="token string">&apos;a1a2a3aa4aaa5a&apos;</span><span class="token punctuation">.</span>rsplit<span class="token punctuation">(</span><span class="token string">&apos;a&apos;</span><span class="token punctuation">,</span><span class="token number">2</span><span class="token punctuation">)</span>
</pre><p>zwr&#xF3;&#x107;my uwag&#x119; na wynik dzia&#x142;ania metody <code>split</code></p>
</li>
<li>
<p><code>join()</code></p>
<pre data-role="codeBlock" data-info="python" class="language-python"><span class="token string">&apos;#&apos;</span><span class="token punctuation">.</span>join<span class="token punctuation">(</span><span class="token punctuation">[</span><span class="token string">&apos;a&apos;</span><span class="token punctuation">,</span> <span class="token string">&apos;b&apos;</span><span class="token punctuation">,</span> <span class="token string">&apos;xxx&apos;</span><span class="token punctuation">]</span><span class="token punctuation">)</span>
<span class="token comment"># bardzo przydatne:</span>
<span class="token string">&apos;&apos;</span><span class="token punctuation">.</span>join<span class="token punctuation">(</span><span class="token punctuation">.</span><span class="token punctuation">.</span><span class="token punctuation">.</span><span class="token punctuation">)</span>
</pre></li>
<li>
<p><code>startswith()</code>, <code>enswith()</code> - czy &#x142;a&#x144;cuch zaczyna si&#x119; lub ko&#x144;czy od pod&#x142;a&#x144;cucha</p>
</li>
<li>
<p><code>isalpha()</code>, <code>isdigit()</code>, <code>isalum()</code> - tylko litery, cyfry, znaki alfanumeryczne</p>
</li>
<li>
<p><code>strip()</code>, <code>rstrip()</code>, <code>lstrip()</code> - usuwa bia&#x142;e znaki</p>
</li>
<li>
<p><code>replace()</code> - zast&#x119;puje podci&#x105;g innym, mo&#x17C;na poda&#x107; ilo&#x15B;&#x107; zast&#x105;pie&#x144;</p>
</li>
<li>
<p><code>chr()</code> i <code>ord()</code> - zwracaj&#x105; znaki lub kody ASCII.</p>
</li>
</ul>
<h3 class="mume-header" id="-listy">Listy</h3>

<p>Listy to sekwencje dowolnych obiekt&#xF3;w. Metody dla list:</p>
<ul>
<li><code>append()</code> - dodaje element na ko&#x144;cu listy</li>
<li><code>remove()</code> - usuwa podan&#x105; warto&#x15B;&#x107; z listy na jej pierwszym wyst&#x105;pieniu (zwraca b&#x142;&#x105;d, je&#x15B;li nie ma takiej warto&#x15B;ci)</li>
<li><code>pop()</code> - usuwa warto&#x15B;&#x107; z listy na podanym indeksie (domy&#x15B;lny argument to -1)</li>
<li><code>insert()</code> - wstawia warto&#x15B;&#x107; na podanym miejscu: <code>l = l[:i] + [a] + l[i:]</code></li>
</ul>
<p><strong><code>sum()</code></strong>:</p>
<pre data-role="codeBlock" data-info="python" class="language-python"><span class="token builtin">sum</span><span class="token punctuation">(</span><span class="token punctuation">[</span><span class="token number">1</span><span class="token punctuation">,</span><span class="token number">2</span><span class="token punctuation">,</span><span class="token number">3</span><span class="token punctuation">,</span><span class="token number">4</span><span class="token punctuation">,</span><span class="token number">5</span><span class="token punctuation">,</span><span class="token number">6</span><span class="token punctuation">]</span><span class="token punctuation">)</span>
<span class="token builtin">sum</span><span class="token punctuation">(</span><span class="token punctuation">[</span><span class="token punctuation">[</span><span class="token number">1</span><span class="token punctuation">,</span><span class="token number">2</span><span class="token punctuation">]</span><span class="token punctuation">,</span><span class="token punctuation">[</span><span class="token number">3</span><span class="token punctuation">,</span><span class="token number">4</span><span class="token punctuation">]</span><span class="token punctuation">]</span><span class="token punctuation">,</span><span class="token punctuation">[</span><span class="token punctuation">]</span><span class="token punctuation">)</span> <span class="token comment"># tu istotny jest element pocz&#x105;tkowy</span>
</pre><p><strong><code>zip()</code></strong></p>
<pre data-role="codeBlock" data-info="python" class="language-python"><span class="token builtin">list</span><span class="token punctuation">(</span><span class="token builtin">zip</span><span class="token punctuation">(</span><span class="token punctuation">[</span><span class="token number">1</span><span class="token punctuation">,</span><span class="token number">2</span><span class="token punctuation">,</span><span class="token number">3</span><span class="token punctuation">,</span><span class="token number">4</span><span class="token punctuation">]</span><span class="token punctuation">,</span><span class="token string">&apos;ABCSEF&apos;</span><span class="token punctuation">)</span><span class="token punctuation">)</span>
</pre><blockquote>
<p>UWAGA Problem p&#x142;ytkiej kopii &#x2014; modyfikacja element&#xF3;w listy</p>
</blockquote>
<p>Sprawd&#x17A;:</p>
<pre data-role="codeBlock" data-info="python" class="language-python"><span class="token operator">&gt;&gt;</span><span class="token operator">&gt;</span> x <span class="token operator">=</span> <span class="token punctuation">[</span><span class="token number">1</span><span class="token punctuation">,</span><span class="token number">2</span><span class="token punctuation">,</span><span class="token number">3</span><span class="token punctuation">]</span>
<span class="token operator">&gt;&gt;</span><span class="token operator">&gt;</span> y <span class="token operator">=</span> x
<span class="token operator">&gt;&gt;</span><span class="token operator">&gt;</span> x<span class="token punctuation">[</span><span class="token number">1</span><span class="token punctuation">]</span> <span class="token operator">=</span> <span class="token string">&apos;a&apos;</span>
<span class="token operator">&gt;&gt;</span><span class="token operator">&gt;</span> <span class="token keyword keyword-print">print</span><span class="token punctuation">(</span>y<span class="token punctuation">)</span>
</pre><p>Problem mo&#x17C;na rozwi&#x105;za&#x107; w nast&#x119;puj&#x105;cy spos&#xF3;b:</p>
<pre data-role="codeBlock" data-info="python" class="language-python">y <span class="token operator">=</span> x<span class="token punctuation">[</span><span class="token punctuation">:</span><span class="token punctuation">]</span> <span class="token comment">#tworzymy nowa list&#x119; a nie dowi&#x105;zanie!</span>
</pre><h3 class="mume-header" id="-krotki">Krotki</h3>

<p>Krotki (tuples) to listy o ustalonej d&#x142;ugo&#x15B;ci i warto&#x15B;ciach element&#xF3;w.</p>
<pre data-role="codeBlock" data-info="python" class="language-python">x <span class="token operator">=</span> <span class="token punctuation">(</span><span class="token number">1</span><span class="token punctuation">,</span><span class="token number">2</span><span class="token punctuation">,</span><span class="token number">3</span><span class="token punctuation">)</span>
x<span class="token punctuation">.</span>append<span class="token punctuation">(</span><span class="token number">4</span><span class="token punctuation">)</span>
x <span class="token operator">+</span> <span class="token punctuation">(</span><span class="token number">4</span><span class="token punctuation">,</span><span class="token number">5</span><span class="token punctuation">)</span>
x<span class="token punctuation">[</span><span class="token number">0</span><span class="token punctuation">]</span> <span class="token operator">=</span> <span class="token string">&apos;a&apos;</span>
</pre><p>&quot;Unpacking tuples&quot;</p>
<pre data-role="codeBlock" data-info="python" class="language-python">owoce <span class="token operator">=</span> <span class="token punctuation">(</span><span class="token string">&apos;gruszki&apos;</span><span class="token punctuation">,</span> <span class="token string">&apos;banany&apos;</span><span class="token punctuation">,</span> <span class="token string">&apos;jagody&apos;</span><span class="token punctuation">)</span>
<span class="token punctuation">(</span>zielony<span class="token punctuation">,</span> zolty<span class="token punctuation">,</span> czerwony<span class="token punctuation">)</span> <span class="token operator">=</span> owoce
<span class="token keyword keyword-print">print</span><span class="token punctuation">(</span>zielony<span class="token punctuation">)</span>
<span class="token keyword keyword-print">print</span><span class="token punctuation">(</span>zolty<span class="token punctuation">)</span>
<span class="token keyword keyword-print">print</span><span class="token punctuation">(</span>czerwony<span class="token punctuation">)</span>
</pre><h2 class="mume-header" id="-laboratorium-2">Laboratorium 2</h2>

<h3 class="mume-header" id="-instrukcje-warunkowe">Instrukcje warunkowe</h3>

<pre data-role="codeBlock" data-info="python" class="language-python"><span class="token keyword keyword-if">if</span> warunek<span class="token punctuation">:</span>
    wykonaj<span class="token punctuation">(</span><span class="token punctuation">)</span>
</pre><pre data-role="codeBlock" data-info="python" class="language-python"><span class="token keyword keyword-if">if</span> warunek<span class="token punctuation">:</span>
    wykonaj_to<span class="token punctuation">(</span><span class="token punctuation">)</span>
<span class="token keyword keyword-else">else</span><span class="token punctuation">:</span>
    wykonaj_tamto<span class="token punctuation">(</span><span class="token punctuation">)</span>
</pre><pre data-role="codeBlock" data-info="python" class="language-python"><span class="token keyword keyword-if">if</span> warunek<span class="token punctuation">:</span>
    wykonaj<span class="token punctuation">(</span><span class="token punctuation">)</span>
<span class="token keyword keyword-elif">elif</span> warunek1<span class="token punctuation">:</span>
    wykonaj_1<span class="token punctuation">(</span><span class="token punctuation">)</span>
<span class="token keyword keyword-elif">elif</span> warunek2&quot;
    wykonaj_2<span class="token punctuation">(</span><span class="token punctuation">)</span>
<span class="token keyword keyword-else">else</span><span class="token punctuation">:</span>
    wykonaj_3<span class="token punctuation">(</span><span class="token punctuation">)</span>
</pre><p><strong>Operatory</strong> <code>==</code>, <code>!=</code>, <code>&lt;=</code>, <code>&gt;=</code>, <code>&lt;</code>, <code>&gt;</code></p>
<p><strong>Operator logiczne</strong> <code>and</code> i <code>or</code></p>
<p><strong>Kwantyfikatory</strong> <code>all()</code> i <code>any()</code>:</p>
<pre data-role="codeBlock" data-info="ython" class="language-ython"><code>l = [True, False, False]
all(l)
any(l)
</code></pre><p><strong>Operator zwierania</strong> <code>in</code></p>
<pre data-role="codeBlock" data-info="ython" class="language-ython"><code>if x in [1,2,3,4]:
    pritn(&quot;...&quot;)
</code></pre><p><strong>Trojargumentowy operator logiczny</strong></p>
<pre data-role="codeBlock" data-info="python" class="language-python">x <span class="token operator">=</span> A <span class="token keyword keyword-if">if</span> B <span class="token keyword keyword-else">else</span> C
</pre><p><strong>B</strong> warunek logiczny<br>
<strong>A</strong> i <strong>C</strong> to warto&#x15B;ci</p>
<h3 class="mume-header" id="-p%C4%99tla-for-i-while">P&#x119;tla <code>for</code> i <code>while</code></h3>

<p>Za&#x142;&#xF3;&#x17C;my, &#x17C;e zmienna <code>s</code> jest typu skewencyjnego, wtedy:</p>
<pre data-role="codeBlock" data-info="python" class="language-python">s <span class="token operator">=</span> <span class="token string">&apos;Ala ma kota&apos;</span>
<span class="token keyword keyword-for">for</span> i <span class="token keyword keyword-in">in</span> s<span class="token punctuation">:</span>
    <span class="token keyword keyword-print">print</span><span class="token punctuation">(</span>i<span class="token punctuation">)</span>
</pre><pre data-role="codeBlock" data-info="python" class="language-python"><span class="token keyword keyword-for">for</span> i <span class="token keyword keyword-in">in</span> <span class="token punctuation">[</span><span class="token number">1</span><span class="token punctuation">,</span><span class="token number">2</span><span class="token punctuation">,</span><span class="token number">3</span><span class="token punctuation">,</span><span class="token number">4</span><span class="token punctuation">,</span><span class="token number">5</span><span class="token punctuation">,</span><span class="token number">6</span><span class="token punctuation">]</span><span class="token punctuation">:</span>
    <span class="token keyword keyword-print">print</span><span class="token punctuation">(</span><span class="token string">&quot;*&quot;</span><span class="token operator">*</span>i<span class="token punctuation">)</span>
</pre>
      </div>
      
      
    
    
    
    
    
    
    
    
  
    </body></html>