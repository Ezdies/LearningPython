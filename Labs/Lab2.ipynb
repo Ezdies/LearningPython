{
 "cells": [
  {
   "cell_type": "code",
   "execution_count": 6,
   "metadata": {},
   "outputs": [
    {
     "data": {
      "text/plain": [
       "[[1, 2, 3, 4, 5, 6, 7, 8, 9, 10],\n",
       " [1, 4, 9, 16, 25, 36, 49, 64, 81, 100],\n",
       " [1, 8, 27, 64, 125, 216, 343, 512, 729, 1000],\n",
       " [1, 16, 81, 256, 625, 1296, 2401, 4096, 6561, 10000],\n",
       " [1, 32, 243, 1024, 3125, 7776, 16807, 32768, 59049, 100000],\n",
       " [1, 64, 729, 4096, 15625, 46656, 117649, 262144, 531441, 1000000],\n",
       " [1, 128, 2187, 16384, 78125, 279936, 823543, 2097152, 4782969, 10000000],\n",
       " [1,\n",
       "  256,\n",
       "  6561,\n",
       "  65536,\n",
       "  390625,\n",
       "  1679616,\n",
       "  5764801,\n",
       "  16777216,\n",
       "  43046721,\n",
       "  100000000],\n",
       " [1,\n",
       "  512,\n",
       "  19683,\n",
       "  262144,\n",
       "  1953125,\n",
       "  10077696,\n",
       "  40353607,\n",
       "  134217728,\n",
       "  387420489,\n",
       "  1000000000],\n",
       " [1,\n",
       "  1024,\n",
       "  59049,\n",
       "  1048576,\n",
       "  9765625,\n",
       "  60466176,\n",
       "  282475249,\n",
       "  1073741824,\n",
       "  3486784401,\n",
       "  10000000000]]"
      ]
     },
     "execution_count": 6,
     "metadata": {},
     "output_type": "execute_result"
    }
   ],
   "source": [
    "l = [[i**j for i in range (1,11)] for j in range (1,11)]\n",
    "l"
   ]
  },
  {
   "cell_type": "code",
   "execution_count": 7,
   "metadata": {},
   "outputs": [
    {
     "data": {
      "text/plain": [
       "['x', 'o', 'x', 'o', 'x', 'o', 'x', 'o', 'x', 'o']"
      ]
     },
     "execution_count": 7,
     "metadata": {},
     "output_type": "execute_result"
    }
   ],
   "source": [
    "l = [\"x\" if i%2 == 0 else \"o\" for i in range(10)]\n",
    "l"
   ]
  },
  {
   "cell_type": "code",
   "execution_count": 8,
   "metadata": {},
   "outputs": [
    {
     "data": {
      "text/plain": [
       "'x.x..x...'"
      ]
     },
     "execution_count": 8,
     "metadata": {},
     "output_type": "execute_result"
    }
   ],
   "source": [
    "\"x\".join(\".\"* i for i in range(4))"
   ]
  },
  {
   "cell_type": "code",
   "execution_count": 9,
   "metadata": {},
   "outputs": [
    {
     "data": {
      "text/plain": [
       "generator"
      ]
     },
     "execution_count": 9,
     "metadata": {},
     "output_type": "execute_result"
    }
   ],
   "source": [
    "k = (i**2 for i in range(10))\n",
    "type(k)"
   ]
  },
  {
   "cell_type": "code",
   "execution_count": 10,
   "metadata": {},
   "outputs": [
    {
     "name": "stdout",
     "output_type": "stream",
     "text": [
      "0\n",
      "1\n",
      "4\n",
      "9\n",
      "16\n",
      "25\n",
      "36\n",
      "49\n",
      "64\n",
      "81\n"
     ]
    }
   ],
   "source": [
    "for i in k:\n",
    "    print(i)"
   ]
  },
  {
   "cell_type": "code",
   "execution_count": 12,
   "metadata": {},
   "outputs": [
    {
     "name": "stdout",
     "output_type": "stream",
     "text": [
      "1\n",
      "3\n",
      "7\n",
      "15\n"
     ]
    }
   ],
   "source": [
    "i = 0\n",
    "n = 30\n",
    "x = 0\n",
    "while (x := 2*x + 1) < n:\n",
    "    print(x)\n",
    "    i += 1\n",
    "#operator przypisania w locie\n"
   ]
  },
  {
   "cell_type": "code",
   "execution_count": 13,
   "metadata": {},
   "outputs": [
    {
     "data": {
      "text/plain": [
       "2"
      ]
     },
     "execution_count": 13,
     "metadata": {},
     "output_type": "execute_result"
    }
   ],
   "source": [
    "d = {\"a\":1, \"b\":2, \"c\":3}\n",
    "d[\"b\"]"
   ]
  },
  {
   "cell_type": "code",
   "execution_count": 14,
   "metadata": {},
   "outputs": [
    {
     "data": {
      "text/plain": [
       "3"
      ]
     },
     "execution_count": 14,
     "metadata": {},
     "output_type": "execute_result"
    }
   ],
   "source": [
    "d.get(\"c\")"
   ]
  },
  {
   "cell_type": "code",
   "execution_count": 15,
   "metadata": {},
   "outputs": [],
   "source": [
    "#get lepszy, bo zwraca obiekt typu none i nie trzeba obsługiwać błędu"
   ]
  },
  {
   "cell_type": "code",
   "execution_count": 16,
   "metadata": {},
   "outputs": [
    {
     "data": {
      "text/plain": [
       "'nie ma'"
      ]
     },
     "execution_count": 16,
     "metadata": {},
     "output_type": "execute_result"
    }
   ],
   "source": [
    "d.get(\"d\", 'nie ma')"
   ]
  },
  {
   "cell_type": "code",
   "execution_count": 17,
   "metadata": {},
   "outputs": [
    {
     "data": {
      "text/plain": [
       "{'e': 4, 'f': 5}"
      ]
     },
     "execution_count": 17,
     "metadata": {},
     "output_type": "execute_result"
    }
   ],
   "source": [
    "d1 = dict(((\"e\", 4), (\"f\", 5)))\n",
    "d1"
   ]
  },
  {
   "cell_type": "code",
   "execution_count": 18,
   "metadata": {},
   "outputs": [],
   "source": [
    "d[\"a\"] = 10"
   ]
  },
  {
   "cell_type": "code",
   "execution_count": 19,
   "metadata": {},
   "outputs": [],
   "source": [
    "d.update(d1)\n",
    "#jak się klucze nie pokrywają, to dokładamy do d wartości d1\n"
   ]
  },
  {
   "cell_type": "code",
   "execution_count": 20,
   "metadata": {},
   "outputs": [
    {
     "data": {
      "text/plain": [
       "{'a': 10, 'b': 2, 'c': 3, 'e': 4, 'f': 5}"
      ]
     },
     "execution_count": 20,
     "metadata": {},
     "output_type": "execute_result"
    }
   ],
   "source": [
    "d"
   ]
  },
  {
   "cell_type": "code",
   "execution_count": 21,
   "metadata": {},
   "outputs": [
    {
     "data": {
      "text/plain": [
       "{'a': 10, 'b': 2, 'c': 3, 'e': 4, 'f': 5, 'd': 7}"
      ]
     },
     "execution_count": 21,
     "metadata": {},
     "output_type": "execute_result"
    }
   ],
   "source": [
    "d[\"d\"] = 7\n",
    "d"
   ]
  },
  {
   "cell_type": "code",
   "execution_count": 22,
   "metadata": {},
   "outputs": [],
   "source": [
    "d |= d1\n"
   ]
  },
  {
   "cell_type": "code",
   "execution_count": 23,
   "metadata": {},
   "outputs": [
    {
     "data": {
      "text/plain": [
       "{'a': 10, 'b': 2, 'c': 3, 'e': 4, 'f': 5, 'd': 7}"
      ]
     },
     "execution_count": 23,
     "metadata": {},
     "output_type": "execute_result"
    }
   ],
   "source": [
    "d"
   ]
  },
  {
   "cell_type": "code",
   "execution_count": 24,
   "metadata": {},
   "outputs": [
    {
     "data": {
      "text/plain": [
       "dict_keys(['a', 'b', 'c', 'e', 'f', 'd'])"
      ]
     },
     "execution_count": 24,
     "metadata": {},
     "output_type": "execute_result"
    }
   ],
   "source": [
    "d.keys()\n",
    "#widok kluczy - nie możemy stamtąd nic brać, ale możemy sprawdzić czy coś tam jest\n"
   ]
  },
  {
   "cell_type": "code",
   "execution_count": 25,
   "metadata": {},
   "outputs": [
    {
     "data": {
      "text/plain": [
       "['a', 'b', 'c', 'e', 'f', 'd']"
      ]
     },
     "execution_count": 25,
     "metadata": {},
     "output_type": "execute_result"
    }
   ],
   "source": [
    "list(d.keys())"
   ]
  },
  {
   "cell_type": "code",
   "execution_count": 26,
   "metadata": {},
   "outputs": [
    {
     "data": {
      "text/plain": [
       "[10, 2, 3, 4, 5, 7]"
      ]
     },
     "execution_count": 26,
     "metadata": {},
     "output_type": "execute_result"
    }
   ],
   "source": [
    "list(d.values())\n",
    "#zwraca listę wartości"
   ]
  },
  {
   "cell_type": "code",
   "execution_count": 27,
   "metadata": {},
   "outputs": [],
   "source": [
    "del d[\"a\"]\n",
    "#usuwamy element o danym kluczu"
   ]
  },
  {
   "cell_type": "code",
   "execution_count": 28,
   "metadata": {},
   "outputs": [
    {
     "data": {
      "text/plain": [
       "{'b': 2, 'c': 3, 'e': 4, 'f': 5, 'd': 7}"
      ]
     },
     "execution_count": 28,
     "metadata": {},
     "output_type": "execute_result"
    }
   ],
   "source": [
    "d"
   ]
  },
  {
   "cell_type": "code",
   "execution_count": 29,
   "metadata": {},
   "outputs": [
    {
     "data": {
      "text/plain": [
       "2"
      ]
     },
     "execution_count": 29,
     "metadata": {},
     "output_type": "execute_result"
    }
   ],
   "source": [
    "d.pop(\"b\")\n",
    "#del nic nie zwraca, ale pop usunie i zwróci wartość pod b"
   ]
  },
  {
   "cell_type": "code",
   "execution_count": 34,
   "metadata": {},
   "outputs": [
    {
     "data": {
      "text/plain": [
       "{'A': 1,\n",
       " 'l': 1,\n",
       " 'a': 5,\n",
       " ' ': 6,\n",
       " 'm': 2,\n",
       " 'k': 3,\n",
       " 'o': 2,\n",
       " 't': 1,\n",
       " ',': 2,\n",
       " 'p': 1,\n",
       " 's': 1,\n",
       " 'c': 1,\n",
       " 'h': 1,\n",
       " 'i': 3,\n",
       " 'r': 1,\n",
       " 'y': 1,\n",
       " 'b': 1,\n",
       " '.': 1}"
      ]
     },
     "execution_count": 34,
     "metadata": {},
     "output_type": "execute_result"
    }
   ],
   "source": [
    "s = \"abcdefghijklmnopqrstuvwxyz\"\n",
    "text = \"Ala ma kota, psa, chomika i rybki.\".lower()\n",
    "d = {}\n",
    "for i in text:\n",
    "    d[i] = text.count(i)\n",
    "\n",
    "d\n",
    "\n",
    "\n"
   ]
  },
  {
   "cell_type": "code",
   "execution_count": 35,
   "metadata": {},
   "outputs": [
    {
     "ename": "SyntaxError",
     "evalue": "did you forget parentheses around the comprehension target? (3040348418.py, line 1)",
     "output_type": "error",
     "traceback": [
      "\u001b[0;36m  Cell \u001b[0;32mIn[35], line 1\u001b[0;36m\u001b[0m\n\u001b[0;31m    d = dict([[i, text.count(i) for i in text]])\u001b[0m\n\u001b[0m               ^\u001b[0m\n\u001b[0;31mSyntaxError\u001b[0m\u001b[0;31m:\u001b[0m did you forget parentheses around the comprehension target?\n"
     ]
    }
   ],
   "source": [
    "d = dict([[i, text.count(i) for i in text])\n",
    "d"
   ]
  },
  {
   "cell_type": "code",
   "execution_count": null,
   "metadata": {},
   "outputs": [],
   "source": []
  },
  {
   "cell_type": "code",
   "execution_count": 36,
   "metadata": {},
   "outputs": [
    {
     "data": {
      "text/plain": [
       "{'A': 1,\n",
       " 'l': 1,\n",
       " 'a': 5,\n",
       " ' ': 6,\n",
       " 'm': 2,\n",
       " 'k': 3,\n",
       " 'o': 2,\n",
       " 't': 1,\n",
       " ',': 2,\n",
       " 'p': 1,\n",
       " 's': 1,\n",
       " 'c': 1,\n",
       " 'h': 1,\n",
       " 'i': 3,\n",
       " 'r': 1,\n",
       " 'y': 1,\n",
       " 'b': 1,\n",
       " '.': 1}"
      ]
     },
     "execution_count": 36,
     "metadata": {},
     "output_type": "execute_result"
    }
   ],
   "source": [
    "d"
   ]
  },
  {
   "cell_type": "code",
   "execution_count": 37,
   "metadata": {},
   "outputs": [],
   "source": [
    "d = {}\n",
    "\n",
    "for i in text:\n",
    "    if i not in d.keys():\n",
    "        d[i] = text.count(i)\n"
   ]
  },
  {
   "cell_type": "code",
   "execution_count": 38,
   "metadata": {},
   "outputs": [
    {
     "data": {
      "text/plain": [
       "{'A': 1,\n",
       " 'l': 1,\n",
       " 'a': 5,\n",
       " ' ': 6,\n",
       " 'm': 2,\n",
       " 'k': 3,\n",
       " 'o': 2,\n",
       " 't': 1,\n",
       " ',': 2,\n",
       " 'p': 1,\n",
       " 's': 1,\n",
       " 'c': 1,\n",
       " 'h': 1,\n",
       " 'i': 3,\n",
       " 'r': 1,\n",
       " 'y': 1,\n",
       " 'b': 1,\n",
       " '.': 1}"
      ]
     },
     "execution_count": 38,
     "metadata": {},
     "output_type": "execute_result"
    }
   ],
   "source": [
    "d"
   ]
  },
  {
   "cell_type": "code",
   "execution_count": 39,
   "metadata": {},
   "outputs": [
    {
     "data": {
      "text/plain": [
       "{'a': 6,\n",
       " 'b': 1,\n",
       " 'c': 1,\n",
       " 'h': 1,\n",
       " 'i': 3,\n",
       " 'k': 3,\n",
       " 'l': 1,\n",
       " 'm': 2,\n",
       " 'o': 2,\n",
       " 'p': 1,\n",
       " 'r': 1,\n",
       " 's': 1,\n",
       " 't': 1,\n",
       " 'y': 1}"
      ]
     },
     "execution_count": 39,
     "metadata": {},
     "output_type": "execute_result"
    }
   ],
   "source": [
    "s = \"abcdefghijklmnopqrstuvwxyz\"\n",
    "text = \"Ala ma kota, psa, chomika i rybki.\".lower()\n",
    "d = {}\n",
    "for l in s:\n",
    "    if l in text:\n",
    "        d[l] = text.count(l)\n",
    "d"
   ]
  },
  {
   "cell_type": "code",
   "execution_count": 40,
   "metadata": {},
   "outputs": [
    {
     "data": {
      "text/plain": [
       "{'a': 6,\n",
       " 'b': 1,\n",
       " 'c': 1,\n",
       " 'h': 1,\n",
       " 'i': 3,\n",
       " 'k': 3,\n",
       " 'l': 1,\n",
       " 'm': 2,\n",
       " 'o': 2,\n",
       " 'p': 1,\n",
       " 'r': 1,\n",
       " 's': 1,\n",
       " 't': 1,\n",
       " 'y': 1}"
      ]
     },
     "execution_count": 40,
     "metadata": {},
     "output_type": "execute_result"
    }
   ],
   "source": [
    "s = \"abcdefghijklmnopqrstuvwxyz\"\n",
    "text = \"Ala ma kota, psa, chomika i rybki.\".lower()\n",
    "d = dict([[i, text.count(i)] for i in s if i in text])\n",
    "d"
   ]
  },
  {
   "cell_type": "code",
   "execution_count": 42,
   "metadata": {},
   "outputs": [
    {
     "name": "stdout",
     "output_type": "stream",
     "text": [
      "POZDRAWIAM WIDZOWIE\n"
     ]
    }
   ],
   "source": [
    "print(\"POZDRAWIAM WIDZOWIE\")"
   ]
  },
  {
   "cell_type": "code",
   "execution_count": 43,
   "metadata": {},
   "outputs": [
    {
     "data": {
      "text/plain": [
       "{'A': 'T', 'C': 'G', 'T': 'A', 'G': 'C'}"
      ]
     },
     "execution_count": 43,
     "metadata": {},
     "output_type": "execute_result"
    }
   ],
   "source": [
    "dna1 = \"ACCTAGCTTA\"\n",
    "#AT CG TA GC\n",
    "\n",
    "d = {'A':'T', 'C':'G', 'T':'A', 'G':'C'}\n",
    "d"
   ]
  },
  {
   "cell_type": "code",
   "execution_count": 44,
   "metadata": {},
   "outputs": [
    {
     "data": {
      "text/plain": [
       "{'A': 'T', 'C': 'G', 'T': 'A', 'G': 'C'}"
      ]
     },
     "execution_count": 44,
     "metadata": {},
     "output_type": "execute_result"
    }
   ],
   "source": [
    "d.keys()\n",
    "d"
   ]
  },
  {
   "cell_type": "code",
   "execution_count": 45,
   "metadata": {},
   "outputs": [
    {
     "data": {
      "text/plain": [
       "dict_keys(['A', 'C', 'T', 'G'])"
      ]
     },
     "execution_count": 45,
     "metadata": {},
     "output_type": "execute_result"
    }
   ],
   "source": [
    "d.keys()"
   ]
  },
  {
   "cell_type": "code",
   "execution_count": 51,
   "metadata": {},
   "outputs": [
    {
     "name": "stdout",
     "output_type": "stream",
     "text": [
      "TGGATCGAAT\n"
     ]
    }
   ],
   "source": [
    "dna2 = \"\".join(d.get(i) for i in dna1)\n",
    "print(dna2)\n",
    "\n"
   ]
  },
  {
   "cell_type": "code",
   "execution_count": 52,
   "metadata": {},
   "outputs": [
    {
     "name": "stdout",
     "output_type": "stream",
     "text": [
      "ACCAGGATGA\n",
      "|||.||...|\n",
      "TGGACCAGGT\n"
     ]
    }
   ],
   "source": [
    "dna1 = \"ACCAGGATGA\"\n",
    "dna2 = \"TGGACCAGGT\"\n",
    "\n",
    "s = ({\"A\", \"T\"}, {\"G\", \"C\"})\n",
    "print(dna1)\n",
    "\n",
    "for i, j in zip(dna1, dna2):\n",
    "    if {i, j} in s:\n",
    "        print(\"|\", end=\"\")\n",
    "    else:\n",
    "        print(\".\", end=\"\")\n",
    "\n",
    "print(\"\\n\" + dna2)\n",
    "\n",
    "\n",
    "\n"
   ]
  },
  {
   "cell_type": "code",
   "execution_count": 54,
   "metadata": {},
   "outputs": [
    {
     "name": "stdout",
     "output_type": "stream",
     "text": [
      "ACCAGGATGA\n",
      "|||.||...|\n",
      "TGGACCAGGT\n"
     ]
    }
   ],
   "source": [
    "dna1 = \"ACCAGGATGA\"\n",
    "dna2 = \"TGGACCAGGT\"\n",
    "\n",
    "s = ({\"A\", \"T\"}, {\"G\", \"C\"})\n",
    "print(dna1)\n",
    "\n",
    "print(\"\".join(\"|\" if {i, j} in s else \".\" for i, j in zip(dna1, dna2)))\n",
    "\n",
    "print(dna2)"
   ]
  },
  {
   "cell_type": "code",
   "execution_count": 55,
   "metadata": {},
   "outputs": [
    {
     "name": "stdout",
     "output_type": "stream",
     "text": [
      "ACCAGGATGA\n",
      "|||.||...|\n",
      "TGGACCAGGT\n"
     ]
    }
   ],
   "source": [
    "dna1 = \"ACCAGGATGA\"\n",
    "dna2 = \"TGGACCAGGT\"\n",
    "\n",
    "s = ({\"A\", \"T\"}, {\"G\", \"C\"})\n",
    "print(dna1)\n",
    "\n",
    "print(\"\".join(\"|\" * ({i, j} in s) + \".\" * ({i, j} not in s) for i, j in zip(dna1, dna2)))\n",
    "\n",
    "print(dna2)"
   ]
  },
  {
   "cell_type": "code",
   "execution_count": 56,
   "metadata": {},
   "outputs": [
    {
     "name": "stdout",
     "output_type": "stream",
     "text": [
      "W domu poczytać cellular automata - przypadek jednowymiarowy - elementary cellular automata - obrazek\n"
     ]
    }
   ],
   "source": [
    "print(\"W domu poczytać cellular automata - przypadek jednowymiarowy - elementary cellular automata - obrazek\")"
   ]
  },
  {
   "cell_type": "code",
   "execution_count": null,
   "metadata": {},
   "outputs": [],
   "source": []
  }
 ],
 "metadata": {
  "kernelspec": {
   "display_name": "Python 3",
   "language": "python",
   "name": "python3"
  },
  "language_info": {
   "codemirror_mode": {
    "name": "ipython",
    "version": 3
   },
   "file_extension": ".py",
   "mimetype": "text/x-python",
   "name": "python",
   "nbconvert_exporter": "python",
   "pygments_lexer": "ipython3",
   "version": "3.10.6"
  },
  "orig_nbformat": 4
 },
 "nbformat": 4,
 "nbformat_minor": 2
}
