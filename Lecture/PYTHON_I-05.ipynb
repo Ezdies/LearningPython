{
 "cells": [
  {
   "cell_type": "markdown",
   "metadata": {},
   "source": [
    "# VPYTHON"
   ]
  },
  {
   "cell_type": "markdown",
   "metadata": {},
   "source": [
    "Numpy  \n",
    "- rozszerzenie PYTHONa do wielowymiarowych tablic (wzorowane na MATLABie) \n",
    "- bliska C wydajność\n",
    "- adresowana do obliczeń  naukowych\n",
    "Obiekty:\n",
    "- array(\\[\\[0.1, 1, 2.1\\], \\[3.1, 4, 5\\]\\])\n",
    "(ones(2,3), zeros(4), diag(array(\\[1,2,3,4\\])))\n",
    "- typy int64. float64, complex128, \n",
    "- Operacje na macierzach:\n",
    "    * Ze skalarem: 2\\*\\*a, a+1, a\\*3\n",
    "    * Macierzowo:  a+b, a-b, a.dot(b), \n",
    "    * Punktowo: a\\*b, a==b, a|b, a&b \n",
    "\n"
   ]
  },
  {
   "cell_type": "code",
   "execution_count": 2,
   "metadata": {},
   "outputs": [
    {
     "name": "stdout",
     "output_type": "stream",
     "text": [
      "a= [[0.1 1.  2.1]\n",
      " [3.1 4.  5. ]\n",
      " [9.1 5.2 0.3]]\n",
      "b= [[  1.07177346   2.           4.28709385]\n",
      " [  8.5741877   16.          32.        ]\n",
      " [548.74801282  36.75834736   1.23114441]]\n",
      "c= [[ 1.1  2.   3.1]\n",
      " [ 4.1  5.   6. ]\n",
      " [10.1  6.2  1.3]]\n",
      "d= [[10.          1.          0.47619048]\n",
      " [ 0.32258065  0.25        0.2       ]\n",
      " [ 0.10989011  0.19230769  3.33333333]]\n",
      "e= [[1. 1. 1.]\n",
      " [1. 1. 1.]\n",
      " [1. 1. 1.]]\n"
     ]
    }
   ],
   "source": [
    "from numpy import *\n",
    "a=array([[0.1,1,2.1],[3.1,4,5],[9.1,5.2,0.3]])\n",
    "b=2**a\n",
    "c=a+1\n",
    "d=1.0/a\n",
    "e=a*d\n",
    "print(\"a=\",a)\n",
    "print(\"b=\",b)\n",
    "print(\"c=\",c)\n",
    "print(\"d=\",d)\n",
    "print(\"e=\",e)"
   ]
  },
  {
   "cell_type": "markdown",
   "metadata": {},
   "source": [
    "Obiekty trójwymiarowe np.\n",
    "    v1=vector(1.1,2,5) v2=vector(3,1,0)\n",
    "do współrzędnych odwołujemy się v1.x, v1.y, v1.z lub v1\\[0\\]\n",
    "Wektory można:\n",
    "    * v1+v2 - dodawać\n",
    "    * 2\\*v1 - mnożyć przez skalar\n",
    "    * mag(v1) - długość wektora v1  $\\sqrt{v1.x^2+v1.y^2+v1.z^2}$\n",
    "    * mag2(v1) - długość do kwadratu wektora v1\n",
    "    * norm(v1) - wektor unormowany (=v1/mag(v1))\n",
    "    * v1.diff_angle(v2) – kąt pomiędzy wektorami v1 i v2\n",
    "    * cross(v1,v2) – iloczyn wektorowy (v1 x v2)\n",
    "    * dot(v1,v2) – iloczyn skalarny v1 i v2 (v1 ° v2)\n",
    "    * v2=rotate(v1, angle=theta, axis=(1,1,1)) – obrót o kąt wektora wokół osi\n"
   ]
  },
  {
   "cell_type": "code",
   "execution_count": 8,
   "metadata": {},
   "outputs": [
    {
     "name": "stdout",
     "output_type": "stream",
     "text": [
      "7.341661937191061\n",
      "1.2761115693749563\n",
      "17.46167231395664\n",
      "<4.70526, 0.375129, 3.31962>\n"
     ]
    }
   ],
   "source": [
    "from vpython import *\n",
    "v1=vector(1.1,2,5.3)\n",
    "v2=vector(3,1,0)\n",
    "print(mag(v1+v2))\n",
    "print(v1.diff_angle(v2))\n",
    "print(mag(cross(v1,v2)))\n",
    "print(rotate(v1,angle=pi/2.0, axis=vector(1,1,1)))"
   ]
  },
  {
   "cell_type": "markdown",
   "metadata": {},
   "source": [
    "#  VPYTHON\n",
    "\n",
    "## Obiekty VPYTHONA\n",
    "\n",
    "<table width=\"99%\" border=\"1\">\n",
    "        <tr>\n",
    "          <td width=\"28%\" align=\"center\" valign=\"middle\"><span class=\"Normal\">arrow<br />\n",
    "                <img src=\"Data/PYTHONI/vpython/arrow.jpg\" alt=\"arrow\" width=\"130\" height=\"127\" /></span></td>\n",
    "    <td width=\"33%\" align=\"center\"><span class=\"Normal\">box<br />\n",
    "          <img src=\"Data/PYTHONI/vpython/box.jpg\" alt=\"box\" width=\"131\" height=\"127\" /></span></td>\n",
    "    <td width=\"39%\" align=\"center\"><span class=\"Normal\">cone<br />\n",
    "          <img src=\"Data/PYTHONI/vpython/cone.jpg\" alt=\"cone\" width=\"131\" height=\"127\" /></span></td>\n",
    "        </tr>\n",
    "        <tr>\n",
    "          <td align=\"center\"><span class=\"Normal\">convex<br />\n",
    "                <img src=\"Data/PYTHONI/vpython/convex.jpg\" alt=\"convex\" width=\"130\" height=\"127\" /></span></td>\n",
    "    <td align=\"center\"><span class=\"Normal\">curve<br />\n",
    "          <img src=\"Data/PYTHONI/vpython/curve.jpg\" alt=\"curve\" width=\"131\" height=\"127\" /></span></td>\n",
    "    <td align=\"center\"><span class=\"Normal\">cylinder<br />\n",
    "          <img src=\"Data/PYTHONI/vpython/cylinder.jpg\" alt=\"cylinder\" width=\"131\" height=\"127\" /></span></td>\n",
    "        </tr>\n",
    "        <tr>\n",
    "          <td align=\"center\"><span class=\"Normal\">ellipsoid<br />\n",
    "                <img src=\"Data/PYTHONI/vpython/ellipsoid.jpg\" alt=\"ellipsoid\" width=\"130\" height=\"127\" /></span></td>\n",
    "    <td align=\"center\"><span class=\"Normal\">extrusion<br />\n",
    "      <img src=\"Data/PYTHONI/vpython/extrusion.jpg\" width=\"153\" height=\"127\" alt=\"extrusion\" /></span></td>\n",
    "    <td align=\"center\"><span class=\"Normal\">faces<br />\n",
    "          <img src=\"Data/PYTHONI/vpython/faces.jpg\" alt=\"faces\" width=\"131\" height=\"127\" /></span></td>\n",
    "        </tr>\n",
    "        <tr>\n",
    "          <td align=\"center\"><span class=\"Normal\">helix<br />\n",
    "          <img src=\"Data/PYTHONI/vpython/helix.jpg\" alt=\"helix\" width=\"131\" height=\"127\" /></span></td>\n",
    "    <td align=\"center\"><span class=\"Normal\">label<br />\n",
    "          <img src=\"Data/PYTHONI/vpython/label.jpg\" alt=\"label\" width=\"131\" height=\"127\" /></span></td>\n",
    "    <td align=\"center\"><span class=\"Normal\">points<br />\n",
    "          <img src=\"Data/PYTHONI/vpython/points.jpg\" alt=\"points\" width=\"131\" height=\"127\" /></span></td>\n",
    "        </tr>\n",
    "        <tr>\n",
    "          <td align=\"center\"><span class=\"Normal\">pyramid<br />\n",
    "          <img src=\"Data/PYTHONI/vpython/pyramid.jpg\" alt=\"pyramid\" width=\"131\" height=\"127\" /></span></td>\n",
    "    <td align=\"center\"><span class=\"Normal\">ring<br />\n",
    "          <img src=\"Data/PYTHONI/vpython/ring.jpg\" alt=\"ring\" width=\"131\" height=\"127\" /></span></td>\n",
    "          <td><p align=\"center\">sphere<br />\n",
    "                <img src=\"Data/PYTHONI/vpython/sphere.jpg\" alt=\"sphere\" width=\"131\" height=\"127\" /><br />\n",
    "            </p></td>\n",
    "        </tr>\n",
    "        <tr>\n",
    "          <td align=\"center\">text<br />\n",
    "    </a><a href=\"text.html\"><img src=\"Data/PYTHONI/vpython/text3d.jpg\" width=\"175\" height=\"137\" alt=\"text\" /></td>\n",
    "          <td align=\"center\"><p align=\"center\">frame</p>\n",
    "            <p align=\"center\"><span class=\"style3\">Do grupowania obiektow\n",
    "          </span></p></td>\n",
    "          <td><p align=\"center\">Inne udogodnienia:</p>\n",
    "            <p align=\"center\">Biblioteka \"shapes\" </p>\n",
    "          <p align=\"center\">Biblioteka \"paths\" </p></td>\n",
    "        </tr>\n",
    "      </table>\n",
    "  \n",
    "- Tworzenie i usuwanie obiektów:\n",
    "        ball.visble=0 ball.visible=True\n",
    "- Szybkość animacji:\n",
    "        rate(n) – n obrotów pętli na sekundę\n",
    "- Kolory:\n",
    "        RGB c=(1,1,0)\n",
    "        mnemoniki color.red, color.green, color.blue, color.magenta, color.yellow, color.orange, color.cyan, color.black, color.white\n",
    "        C1=color.rgb_to_hsv(C2)\n",
    "        C2=color.hsv_to_rgb(C1)"
   ]
  },
  {
   "cell_type": "code",
   "execution_count": 1,
   "metadata": {},
   "outputs": [
    {
     "data": {
      "application/javascript": [
       "require.undef(\"nbextensions/vpython_libraries/glow.min\");"
      ],
      "text/plain": [
       "<IPython.core.display.Javascript object>"
      ]
     },
     "metadata": {},
     "output_type": "display_data"
    },
    {
     "data": {
      "application/javascript": [
       "require.undef(\"nbextensions/vpython_libraries/glowcomm\");"
      ],
      "text/plain": [
       "<IPython.core.display.Javascript object>"
      ]
     },
     "metadata": {},
     "output_type": "display_data"
    },
    {
     "data": {
      "application/javascript": [
       "require.undef(\"nbextensions/vpython_libraries/jquery-ui.custom.min\");"
      ],
      "text/plain": [
       "<IPython.core.display.Javascript object>"
      ]
     },
     "metadata": {},
     "output_type": "display_data"
    },
    {
     "data": {
      "application/javascript": [
       "require([\"nbextensions/vpython_libraries/glow.min\"], function(){console.log(\"GLOW LOADED\");})"
      ],
      "text/plain": [
       "<IPython.core.display.Javascript object>"
      ]
     },
     "metadata": {},
     "output_type": "display_data"
    },
    {
     "data": {
      "application/javascript": [
       "require([\"nbextensions/vpython_libraries/glowcomm\"], function(){console.log(\"GLOWCOMM LOADED\");})"
      ],
      "text/plain": [
       "<IPython.core.display.Javascript object>"
      ]
     },
     "metadata": {},
     "output_type": "display_data"
    },
    {
     "data": {
      "application/javascript": [
       "require([\"nbextensions/vpython_libraries/jquery-ui.custom.min\"], function(){console.log(\"JQUERY LOADED\");})"
      ],
      "text/plain": [
       "<IPython.core.display.Javascript object>"
      ]
     },
     "metadata": {},
     "output_type": "display_data"
    },
    {
     "data": {
      "text/html": [
       "<div id=\"glowscript\" class=\"glowscript\"></div>"
      ],
      "text/plain": [
       "<IPython.core.display.HTML object>"
      ]
     },
     "metadata": {},
     "output_type": "display_data"
    },
    {
     "data": {
      "application/javascript": [
       "window.__context = { glowscript_container: $(\"#glowscript\").removeAttr(\"id\")}"
      ],
      "text/plain": [
       "<IPython.core.display.Javascript object>"
      ]
     },
     "metadata": {},
     "output_type": "display_data"
    }
   ],
   "source": [
    "from vpython import *\n",
    "scene=canvas\n",
    "\n",
    "\n",
    "scene.title = \"Obiekty VPythona \"\n",
    "scene.width = 640\n",
    "scene.height = 400\n",
    "#scene.range = 5\n",
    "scene.background = color.gray(0.7)\n",
    "scene.center = vector(0,0.5,0)\n",
    "scene.forward = vector(-.3,0,-1)\n",
    "gslabel = label(pos=vector(1.1,2,0), text='VPython', xoffset=40, height=16, color=color.yellow)\n",
    "box(pos=vector(-2,0,0), size=vector(.3,2.5,2.5), color=color.red)\n",
    "box(pos=vector(.25,-1.4,0), size=vector(4.8,.3,2.5), color=color.red)\n",
    "cylinder(pos=vector(-2,2,1.25), radius=0.7, axis=vector(0,0,-2.5), color=color.blue)\n",
    "ball = sphere(pos=vector(2,1,0), radius=0.5, color=color.cyan)\n",
    "ptr = arrow(pos=vector(0,0,2), axis=vector(2,0,0), color=color.yellow)\n",
    "cone(pos=vector(-2,0,0), radius=1, length=3, color=color.green, opacity=0.5)\n",
    "ring(pos=vector(.2,0,0), radius=.6, axis=vector(1,0,0), thickness=0.12, color=color.gray(0.4))\n",
    "ellipsoid(pos=vector(-.3,2,0), color=color.orange, size=vector(.3,1.5,1.5))\n",
    "pyramid(pos=vector(.3,2,0), color=vector(0,0.5,.25), size=vector(0.8,1.2,1.2))\n",
    "spring = helix(pos=vector(2,-1.25,0), radius=0.3, axis=vector(0,1.8,0), color=color.orange, thickness=.1)\n",
    "angle = 0\n",
    "da = .01\n",
    "\n",
    "trail = curve(color=color.magenta, radius= .02)\n",
    "trail.append(vector(1,0,0))\n",
    "trail.append(vector(1,0,2))\n",
    "trail.append(vector(2,0,2))\n",
    "\n",
    "while angle < 3*pi/4:\n",
    "  rate(100)\n",
    "  ptr.rotate(angle=da, axis=vector(0,0,1), origin=ptr.pos)\n",
    "  trail.append(ptr.pos+ptr.axis)\n",
    "  angle += da\n",
    "    \n",
    "sleep(1) # sleep for 1 second\n",
    "scene.autoscale = False\n",
    "\n",
    "t = 0\n",
    "dt = .01\n",
    "y0 = gslabel.pos.y\n",
    "ball_yo = ball.pos.y\n",
    "while t < 4:\n",
    "  rate(1/dt)\n",
    "  ball.pos.y = ball_yo+0.5*sin(-4*t)\n",
    "  spring.length = ball.pos.y-spring.pos.y-ball.radius+0.15\n",
    "  gslabel.yoffset = 28*sin(-4*t)\n",
    "  t += dt\n",
    "\n",
    "s = sphere(color=color.magenta, radius=0.3, visible=False)\n"
   ]
  },
  {
   "cell_type": "markdown",
   "metadata": {},
   "source": [
    "\n",
    "<table width=\"99%\" border=\"1\">\n",
    "        <tr>\n",
    "          <td width=\"28%\" align=\"center\" valign=\"middle\"><span class=\"Normal\">arrow<br />\n",
    "                <img src=\"Data/PYTHONI/vpython/arrow1.png\" alt=\"arrow\" width=\"130\" height=\"127\" /></span></td>\n",
    "    <td width=\"33%\" align=\"center\"><span class=\"Normal\">box<br />\n",
    "          <img src=\"Data/PYTHONI/vpython/box1.png\" alt=\"box\" width=\"131\" height=\"127\" /></span></td>\n",
    "    <td width=\"39%\" align=\"center\"><span class=\"Normal\">cone<br />\n",
    "          <img src=\"Data/PYTHONI/vpython/cone1.png\" alt=\"cone\" width=\"131\" height=\"127\" /></span></td>\n",
    "        </tr>\n",
    "        <tr>\n",
    "          <td align=\"center\"><span class=\"Normal\">label<br />\n",
    "                <img src=\"Data/PYTHONI/vpython/label1.png\" alt=\"convex\" width=\"130\" height=\"127\" /></span></td>\n",
    "    <td align=\"center\"><span class=\"Normal\">sphere<br />\n",
    "          <img src=\"Data/PYTHONI/vpython/sphere1.png\" alt=\"curve\" width=\"131\" height=\"127\" /></span></td>\n",
    "    <td align=\"center\"><span class=\"Normal\">cylinder<br />\n",
    "          <img src=\"Data/PYTHONI/vpython/ring1.png\" alt=\"cylinder\" width=\"131\" height=\"127\" /></span></td>\n",
    "        </tr>     \n",
    "       <tr>\n",
    "          <td align=\"center\"><span class=\"Normal\">rod<br />\n",
    "                <img src=\"Data/PYTHONI/vpython/rod1.png\" alt=\"ellipsoid\" width=\"130\" height=\"127\" /></span></td>\n",
    "    </table>\n",
    "    \n",
    " ![title](Data/PYTHONI/vpython/text1.jpg) "
   ]
  },
  {
   "cell_type": "code",
   "execution_count": 1,
   "metadata": {},
   "outputs": [
    {
     "data": {
      "application/javascript": [
       "require.undef(\"nbextensions/vpython_libraries/glow.min\");"
      ],
      "text/plain": [
       "<IPython.core.display.Javascript object>"
      ]
     },
     "metadata": {},
     "output_type": "display_data"
    },
    {
     "data": {
      "application/javascript": [
       "require.undef(\"nbextensions/vpython_libraries/glowcomm\");"
      ],
      "text/plain": [
       "<IPython.core.display.Javascript object>"
      ]
     },
     "metadata": {},
     "output_type": "display_data"
    },
    {
     "data": {
      "application/javascript": [
       "require.undef(\"nbextensions/vpython_libraries/jquery-ui.custom.min\");"
      ],
      "text/plain": [
       "<IPython.core.display.Javascript object>"
      ]
     },
     "metadata": {},
     "output_type": "display_data"
    },
    {
     "data": {
      "application/javascript": [
       "require([\"nbextensions/vpython_libraries/glow.min\"], function(){console.log(\"GLOW LOADED\");})"
      ],
      "text/plain": [
       "<IPython.core.display.Javascript object>"
      ]
     },
     "metadata": {},
     "output_type": "display_data"
    },
    {
     "data": {
      "application/javascript": [
       "require([\"nbextensions/vpython_libraries/glowcomm\"], function(){console.log(\"GLOWCOMM LOADED\");})"
      ],
      "text/plain": [
       "<IPython.core.display.Javascript object>"
      ]
     },
     "metadata": {},
     "output_type": "display_data"
    },
    {
     "data": {
      "application/javascript": [
       "require([\"nbextensions/vpython_libraries/jquery-ui.custom.min\"], function(){console.log(\"JQUERY LOADED\");})"
      ],
      "text/plain": [
       "<IPython.core.display.Javascript object>"
      ]
     },
     "metadata": {},
     "output_type": "display_data"
    },
    {
     "data": {
      "text/html": [
       "<div id=\"glowscript\" class=\"glowscript\"></div>"
      ],
      "text/plain": [
       "<IPython.core.display.HTML object>"
      ]
     },
     "metadata": {},
     "output_type": "display_data"
    },
    {
     "data": {
      "application/javascript": [
       "window.__context = { glowscript_container: $(\"#glowscript\").removeAttr(\"id\")}"
      ],
      "text/plain": [
       "<IPython.core.display.Javascript object>"
      ]
     },
     "metadata": {},
     "output_type": "display_data"
    }
   ],
   "source": [
    "from vpython import *\n",
    "scene=canvas\n",
    "scene.center = vector(5,3,0)\n",
    "field = box(pos=vector(50,0,0), size=vector(120,0.1,40), color=color.green)\n",
    "ball = sphere(pos=vector(0,0,0), radius=1, color=color.red, make_trail=True)\n",
    "\n",
    "vx = 25\n",
    "vy = 15\n",
    "dt = 0.01\n",
    "\n",
    "while ball.pos.y >= 0:\n",
    "    rate(40)            \n",
    "    ball.pos.x += vx * dt\n",
    "    ball.pos.y += vy * dt\n",
    "    vy += -9.8 * dt"
   ]
  },
  {
   "cell_type": "code",
   "execution_count": 1,
   "metadata": {},
   "outputs": [
    {
     "data": {
      "application/javascript": [
       "require.undef(\"nbextensions/vpython_libraries/glow.min\");"
      ],
      "text/plain": [
       "<IPython.core.display.Javascript object>"
      ]
     },
     "metadata": {},
     "output_type": "display_data"
    },
    {
     "data": {
      "application/javascript": [
       "require.undef(\"nbextensions/vpython_libraries/glowcomm\");"
      ],
      "text/plain": [
       "<IPython.core.display.Javascript object>"
      ]
     },
     "metadata": {},
     "output_type": "display_data"
    },
    {
     "data": {
      "application/javascript": [
       "require.undef(\"nbextensions/vpython_libraries/jquery-ui.custom.min\");"
      ],
      "text/plain": [
       "<IPython.core.display.Javascript object>"
      ]
     },
     "metadata": {},
     "output_type": "display_data"
    },
    {
     "data": {
      "application/javascript": [
       "require([\"nbextensions/vpython_libraries/glow.min\"], function(){console.log(\"GLOW LOADED\");})"
      ],
      "text/plain": [
       "<IPython.core.display.Javascript object>"
      ]
     },
     "metadata": {},
     "output_type": "display_data"
    },
    {
     "data": {
      "application/javascript": [
       "require([\"nbextensions/vpython_libraries/glowcomm\"], function(){console.log(\"GLOWCOMM LOADED\");})"
      ],
      "text/plain": [
       "<IPython.core.display.Javascript object>"
      ]
     },
     "metadata": {},
     "output_type": "display_data"
    },
    {
     "data": {
      "application/javascript": [
       "require([\"nbextensions/vpython_libraries/jquery-ui.custom.min\"], function(){console.log(\"JQUERY LOADED\");})"
      ],
      "text/plain": [
       "<IPython.core.display.Javascript object>"
      ]
     },
     "metadata": {},
     "output_type": "display_data"
    },
    {
     "data": {
      "text/html": [
       "<div id=\"glowscript\" class=\"glowscript\"></div>"
      ],
      "text/plain": [
       "<IPython.core.display.HTML object>"
      ]
     },
     "metadata": {},
     "output_type": "display_data"
    },
    {
     "data": {
      "application/javascript": [
       "window.__context = { glowscript_container: $(\"#glowscript\").removeAttr(\"id\")}"
      ],
      "text/plain": [
       "<IPython.core.display.Javascript object>"
      ]
     },
     "metadata": {},
     "output_type": "display_data"
    }
   ],
   "source": [
    "from vpython import *\n",
    "scene=canvas\n",
    "\n",
    "side = 4.0\n",
    "thk = 0.3\n",
    "s2 = 2*side - thk\n",
    "s3 = 2*side + thk\n",
    "\n",
    "wallR = box (pos=vector( side, 0, 0), size=vector(thk, s2, s3),  color = color.red)\n",
    "wallL = box (pos=vector(-side, 0, 0), size=vector(thk, s2, s3),  color = color.red)\n",
    "wallB = box (pos=vector(0, -side, 0), size=vector(s3, thk, s3),  color = color.blue)\n",
    "wallT = box (pos=vector(0,  side, 0), size=vector(s3, thk, s3),  color = color.blue)\n",
    "wallBK = box(pos=vector(0, 0, -side), size=vector(s2, s2, thk), color = color.gray(0.7))\n",
    "\n",
    "ball = sphere (color = color.green, radius = 0.4, make_trail=True, retain=200)\n",
    "ball.mass = 1.0\n",
    "ball.p = vector (-0.15, -0.23, +0.27)\n",
    "\n",
    "side = side - thk*0.5 - ball.radius\n",
    "\n",
    "dt = 0.3\n",
    "def move():\n",
    "    rate(200)\n",
    "    ball.pos = ball.pos + (ball.p/ball.mass)*dt\n",
    "    if not (side > ball.pos.x > -side):\n",
    "        ball.p.x = -ball.p.x\n",
    "    if not (side > ball.pos.y > -side):\n",
    "        ball.p.y = -ball.p.y\n",
    "    if not (side > ball.pos.z > -side):\n",
    "        ball.p.z = -ball.p.z\n",
    "\n",
    "move()"
   ]
  },
  {
   "cell_type": "code",
   "execution_count": 1,
   "metadata": {},
   "outputs": [
    {
     "data": {
      "application/javascript": [
       "require.undef(\"nbextensions/vpython_libraries/glow.min\");"
      ],
      "text/plain": [
       "<IPython.core.display.Javascript object>"
      ]
     },
     "metadata": {},
     "output_type": "display_data"
    },
    {
     "data": {
      "application/javascript": [
       "require.undef(\"nbextensions/vpython_libraries/glowcomm\");"
      ],
      "text/plain": [
       "<IPython.core.display.Javascript object>"
      ]
     },
     "metadata": {},
     "output_type": "display_data"
    },
    {
     "data": {
      "application/javascript": [
       "require.undef(\"nbextensions/vpython_libraries/jquery-ui.custom.min\");"
      ],
      "text/plain": [
       "<IPython.core.display.Javascript object>"
      ]
     },
     "metadata": {},
     "output_type": "display_data"
    },
    {
     "data": {
      "application/javascript": [
       "require([\"nbextensions/vpython_libraries/glow.min\"], function(){console.log(\"GLOW LOADED\");})"
      ],
      "text/plain": [
       "<IPython.core.display.Javascript object>"
      ]
     },
     "metadata": {},
     "output_type": "display_data"
    },
    {
     "data": {
      "application/javascript": [
       "require([\"nbextensions/vpython_libraries/glowcomm\"], function(){console.log(\"GLOWCOMM LOADED\");})"
      ],
      "text/plain": [
       "<IPython.core.display.Javascript object>"
      ]
     },
     "metadata": {},
     "output_type": "display_data"
    },
    {
     "data": {
      "application/javascript": [
       "require([\"nbextensions/vpython_libraries/jquery-ui.custom.min\"], function(){console.log(\"JQUERY LOADED\");})"
      ],
      "text/plain": [
       "<IPython.core.display.Javascript object>"
      ]
     },
     "metadata": {},
     "output_type": "display_data"
    },
    {
     "data": {
      "text/html": [
       "<div id=\"glowscript\" class=\"glowscript\"></div>"
      ],
      "text/plain": [
       "<IPython.core.display.HTML object>"
      ]
     },
     "metadata": {},
     "output_type": "display_data"
    },
    {
     "data": {
      "application/javascript": [
       "window.__context = { glowscript_container: $(\"#glowscript\").removeAttr(\"id\")}"
      ],
      "text/plain": [
       "<IPython.core.display.Javascript object>"
      ]
     },
     "metadata": {},
     "output_type": "display_data"
    },
    {
     "ename": "KeyboardInterrupt",
     "evalue": "",
     "output_type": "error",
     "traceback": [
      "\u001b[1;31m---------------------------------------------------------------------------\u001b[0m",
      "\u001b[1;31mKeyboardInterrupt\u001b[0m                         Traceback (most recent call last)",
      "\u001b[1;32m<ipython-input-1-2c6f317c3fd2>\u001b[0m in \u001b[0;36m<module>\u001b[1;34m()\u001b[0m\n\u001b[0;32m     23\u001b[0m \u001b[0mdt\u001b[0m \u001b[1;33m=\u001b[0m \u001b[1;36m0.3\u001b[0m\u001b[1;33m\u001b[0m\u001b[0m\n\u001b[0;32m     24\u001b[0m \u001b[1;32mwhile\u001b[0m \u001b[1;32mTrue\u001b[0m\u001b[1;33m:\u001b[0m\u001b[1;33m\u001b[0m\u001b[0m\n\u001b[1;32m---> 25\u001b[1;33m     \u001b[0mrate\u001b[0m\u001b[1;33m(\u001b[0m\u001b[1;36m200\u001b[0m\u001b[1;33m)\u001b[0m\u001b[1;33m\u001b[0m\u001b[0m\n\u001b[0m\u001b[0;32m     26\u001b[0m     \u001b[0mball\u001b[0m\u001b[1;33m.\u001b[0m\u001b[0mpos\u001b[0m \u001b[1;33m=\u001b[0m \u001b[0mball\u001b[0m\u001b[1;33m.\u001b[0m\u001b[0mpos\u001b[0m \u001b[1;33m+\u001b[0m \u001b[1;33m(\u001b[0m\u001b[0mball\u001b[0m\u001b[1;33m.\u001b[0m\u001b[0mp\u001b[0m\u001b[1;33m/\u001b[0m\u001b[0mball\u001b[0m\u001b[1;33m.\u001b[0m\u001b[0mmass\u001b[0m\u001b[1;33m)\u001b[0m\u001b[1;33m*\u001b[0m\u001b[0mdt\u001b[0m\u001b[1;33m\u001b[0m\u001b[0m\n\u001b[0;32m     27\u001b[0m     \u001b[1;32mif\u001b[0m \u001b[1;32mnot\u001b[0m \u001b[1;33m(\u001b[0m\u001b[0mside\u001b[0m \u001b[1;33m>\u001b[0m \u001b[0mball\u001b[0m\u001b[1;33m.\u001b[0m\u001b[0mpos\u001b[0m\u001b[1;33m.\u001b[0m\u001b[0mx\u001b[0m \u001b[1;33m>\u001b[0m \u001b[1;33m-\u001b[0m\u001b[0mside\u001b[0m\u001b[1;33m)\u001b[0m\u001b[1;33m:\u001b[0m\u001b[1;33m\u001b[0m\u001b[0m\n",
      "\u001b[1;32mc:\\users\\andrzejkrajka\\appdata\\local\\programs\\python\\python36-32\\lib\\site-packages\\vpython\\vpython.py\u001b[0m in \u001b[0;36m__call__\u001b[1;34m(self, N)\u001b[0m\n\u001b[0;32m    213\u001b[0m         \u001b[0mself\u001b[0m\u001b[1;33m.\u001b[0m\u001b[0mrval\u001b[0m \u001b[1;33m=\u001b[0m \u001b[0mN\u001b[0m\u001b[1;33m\u001b[0m\u001b[0m\n\u001b[0;32m    214\u001b[0m         \u001b[1;32mif\u001b[0m \u001b[0mself\u001b[0m\u001b[1;33m.\u001b[0m\u001b[0mrval\u001b[0m \u001b[1;33m<\u001b[0m \u001b[1;36m1\u001b[0m\u001b[1;33m:\u001b[0m \u001b[1;32mraise\u001b[0m \u001b[0mValueError\u001b[0m\u001b[1;33m(\u001b[0m\u001b[1;34m\"rate value must be greater than or equal to 1\"\u001b[0m\u001b[1;33m)\u001b[0m\u001b[1;33m\u001b[0m\u001b[0m\n\u001b[1;32m--> 215\u001b[1;33m         \u001b[0msuper\u001b[0m\u001b[1;33m(\u001b[0m\u001b[0m_RateKeeper2\u001b[0m\u001b[1;33m,\u001b[0m \u001b[0mself\u001b[0m\u001b[1;33m)\u001b[0m\u001b[1;33m.\u001b[0m\u001b[0m__call__\u001b[0m\u001b[1;33m(\u001b[0m\u001b[0mself\u001b[0m\u001b[1;33m.\u001b[0m\u001b[0mrval\u001b[0m\u001b[1;33m)\u001b[0m \u001b[1;31m## calls __call__ in rate_control.py\u001b[0m\u001b[1;33m\u001b[0m\u001b[0m\n\u001b[0m\u001b[0;32m    216\u001b[0m \u001b[1;33m\u001b[0m\u001b[0m\n\u001b[0;32m    217\u001b[0m \u001b[1;32mif\u001b[0m \u001b[0msys\u001b[0m\u001b[1;33m.\u001b[0m\u001b[0mversion\u001b[0m \u001b[1;33m>\u001b[0m \u001b[1;34m'3'\u001b[0m\u001b[1;33m:\u001b[0m\u001b[1;33m\u001b[0m\u001b[0m\n",
      "\u001b[1;32mc:\\users\\andrzejkrajka\\appdata\\local\\programs\\python\\python36-32\\lib\\site-packages\\vpython\\rate_control.py\u001b[0m in \u001b[0;36m__call__\u001b[1;34m(self, maxRate)\u001b[0m\n\u001b[0;32m    205\u001b[0m             \u001b[0mdt\u001b[0m \u001b[1;33m=\u001b[0m \u001b[0mself\u001b[0m\u001b[1;33m.\u001b[0m\u001b[0mlastSleep\u001b[0m \u001b[1;33m+\u001b[0m \u001b[0mself\u001b[0m\u001b[1;33m.\u001b[0m\u001b[0mcalls\u001b[0m\u001b[1;33m*\u001b[0m\u001b[1;33m(\u001b[0m\u001b[0mself\u001b[0m\u001b[1;33m.\u001b[0m\u001b[0muserTime\u001b[0m \u001b[1;33m+\u001b[0m \u001b[0mself\u001b[0m\u001b[1;33m.\u001b[0m\u001b[0mcallTime\u001b[0m \u001b[1;33m+\u001b[0m \u001b[0mself\u001b[0m\u001b[1;33m.\u001b[0m\u001b[0mdelay\u001b[0m\u001b[1;33m)\u001b[0m \u001b[1;33m+\u001b[0m\u001b[0;31m \u001b[0m\u001b[0;31m\\\u001b[0m\u001b[1;33m\u001b[0m\u001b[0m\n\u001b[0;32m    206\u001b[0m                  \u001b[0mrenders\u001b[0m\u001b[1;33m*\u001b[0m\u001b[0mself\u001b[0m\u001b[1;33m.\u001b[0m\u001b[0mrenderTime\u001b[0m \u001b[1;33m+\u001b[0m \u001b[0msleeps\u001b[0m\u001b[1;33m*\u001b[0m\u001b[0mself\u001b[0m\u001b[1;33m.\u001b[0m\u001b[0minteractionPeriod\u001b[0m \u001b[1;33m-\u001b[0m \u001b[0m_clock\u001b[0m\u001b[1;33m(\u001b[0m\u001b[1;33m)\u001b[0m\u001b[1;33m\u001b[0m\u001b[0m\n\u001b[1;32m--> 207\u001b[1;33m             \u001b[0m_sleep\u001b[0m\u001b[1;33m(\u001b[0m\u001b[0mdt\u001b[0m\u001b[1;33m)\u001b[0m\u001b[1;33m\u001b[0m\u001b[0m\n\u001b[0m\u001b[0;32m    208\u001b[0m             \u001b[0mself\u001b[0m\u001b[1;33m.\u001b[0m\u001b[0mlastSleep\u001b[0m \u001b[1;33m=\u001b[0m \u001b[0m_clock\u001b[0m\u001b[1;33m(\u001b[0m\u001b[1;33m)\u001b[0m\u001b[1;33m\u001b[0m\u001b[0m\n\u001b[0;32m    209\u001b[0m             \u001b[0mself\u001b[0m\u001b[1;33m.\u001b[0m\u001b[0mcalls\u001b[0m \u001b[1;33m=\u001b[0m \u001b[1;36m0\u001b[0m\u001b[1;33m\u001b[0m\u001b[0m\n",
      "\u001b[1;32mc:\\users\\andrzejkrajka\\appdata\\local\\programs\\python\\python36-32\\lib\\site-packages\\vpython\\rate_control.py\u001b[0m in \u001b[0;36m_sleep\u001b[1;34m(dt)\u001b[0m\n\u001b[0;32m     47\u001b[0m         \u001b[0mdtsleep\u001b[0m \u001b[1;33m=\u001b[0m \u001b[0mnticks\u001b[0m\u001b[1;33m*\u001b[0m\u001b[0m_tick\u001b[0m\u001b[1;33m\u001b[0m\u001b[0m\n\u001b[0;32m     48\u001b[0m         \u001b[0mt\u001b[0m \u001b[1;33m=\u001b[0m \u001b[0m_clock\u001b[0m\u001b[1;33m(\u001b[0m\u001b[1;33m)\u001b[0m\u001b[1;33m\u001b[0m\u001b[0m\n\u001b[1;32m---> 49\u001b[1;33m         \u001b[0mtime\u001b[0m\u001b[1;33m.\u001b[0m\u001b[0msleep\u001b[0m\u001b[1;33m(\u001b[0m\u001b[0mdtsleep\u001b[0m\u001b[1;33m)\u001b[0m\u001b[1;33m\u001b[0m\u001b[0m\n\u001b[0m\u001b[0;32m     50\u001b[0m         \u001b[0mt\u001b[0m \u001b[1;33m=\u001b[0m \u001b[0m_clock\u001b[0m\u001b[1;33m(\u001b[0m\u001b[1;33m)\u001b[0m\u001b[1;33m-\u001b[0m\u001b[0mt\u001b[0m\u001b[1;33m\u001b[0m\u001b[0m\n\u001b[0;32m     51\u001b[0m         \u001b[0mdt\u001b[0m \u001b[1;33m-=\u001b[0m \u001b[0mt\u001b[0m\u001b[1;33m\u001b[0m\u001b[0m\n",
      "\u001b[1;31mKeyboardInterrupt\u001b[0m: "
     ]
    }
   ],
   "source": [
    "# GlowScript 2.7 VPython\n",
    "from vpython import *\n",
    "scene=canvas\n",
    "scene.center = vector(50,30,0)\n",
    "\n",
    "side = 4.0\n",
    "thk = 0.3\n",
    "s2 = 2*side - thk\n",
    "s3 = 2*side + thk\n",
    "\n",
    "wallR = box (pos=vector( side, 0, 0), size=vector(thk, s2, s3),  color = color.red)\n",
    "wallL = box (pos=vector(-side, 0, 0), size=vector(thk, s2, s3),  color = color.red)\n",
    "wallB = box (pos=vector(0, -side, 0), size=vector(s3, thk, s3),  color = color.blue)\n",
    "wallT = box (pos=vector(0,  side, 0), size=vector(s3, thk, s3),  color = color.blue)\n",
    "wallBK = box(pos=vector(0, 0, -side), size=vector(s2, s2, thk), color = color.gray(0.7))\n",
    "\n",
    "ball = sphere (color = color.green, radius = 0.4, make_trail=True, retain=200)\n",
    "ball.mass = 1.0\n",
    "ball.p = vector (-0.15, -0.23, +0.27)\n",
    "\n",
    "side = side - thk*0.5 - ball.radius\n",
    "\n",
    "dt = 0.3\n",
    "while True:\n",
    "    rate(200)\n",
    "    ball.pos = ball.pos + (ball.p/ball.mass)*dt\n",
    "    if not (side > ball.pos.x > -side):\n",
    "        ball.p.x = -ball.p.x\n",
    "    if not (side > ball.pos.y > -side):\n",
    "        ball.p.y = -ball.p.y\n",
    "    if not (side > ball.pos.z > -side):\n",
    "        ball.p.z = -ball.p.z"
   ]
  },
  {
   "cell_type": "code",
   "execution_count": 1,
   "metadata": {},
   "outputs": [
    {
     "data": {
      "application/javascript": [
       "require.undef(\"nbextensions/vpython_libraries/glow.min\");"
      ],
      "text/plain": [
       "<IPython.core.display.Javascript object>"
      ]
     },
     "metadata": {},
     "output_type": "display_data"
    },
    {
     "data": {
      "application/javascript": [
       "require.undef(\"nbextensions/vpython_libraries/glowcomm\");"
      ],
      "text/plain": [
       "<IPython.core.display.Javascript object>"
      ]
     },
     "metadata": {},
     "output_type": "display_data"
    },
    {
     "data": {
      "application/javascript": [
       "require.undef(\"nbextensions/vpython_libraries/jquery-ui.custom.min\");"
      ],
      "text/plain": [
       "<IPython.core.display.Javascript object>"
      ]
     },
     "metadata": {},
     "output_type": "display_data"
    },
    {
     "data": {
      "application/javascript": [
       "require([\"nbextensions/vpython_libraries/glow.min\"], function(){console.log(\"GLOW LOADED\");})"
      ],
      "text/plain": [
       "<IPython.core.display.Javascript object>"
      ]
     },
     "metadata": {},
     "output_type": "display_data"
    },
    {
     "data": {
      "application/javascript": [
       "require([\"nbextensions/vpython_libraries/glowcomm\"], function(){console.log(\"GLOWCOMM LOADED\");})"
      ],
      "text/plain": [
       "<IPython.core.display.Javascript object>"
      ]
     },
     "metadata": {},
     "output_type": "display_data"
    },
    {
     "data": {
      "application/javascript": [
       "require([\"nbextensions/vpython_libraries/jquery-ui.custom.min\"], function(){console.log(\"JQUERY LOADED\");})"
      ],
      "text/plain": [
       "<IPython.core.display.Javascript object>"
      ]
     },
     "metadata": {},
     "output_type": "display_data"
    },
    {
     "data": {
      "text/html": [
       "<div id=\"glowscript\" class=\"glowscript\"></div>"
      ],
      "text/plain": [
       "<IPython.core.display.HTML object>"
      ]
     },
     "metadata": {},
     "output_type": "display_data"
    },
    {
     "data": {
      "application/javascript": [
       "window.__context = { glowscript_container: $(\"#glowscript\").removeAttr(\"id\")}"
      ],
      "text/plain": [
       "<IPython.core.display.Javascript object>"
      ]
     },
     "metadata": {},
     "output_type": "display_data"
    }
   ],
   "source": [
    "from vpython import *\n",
    "scene=canvas\n",
    "\n",
    "scene.width = 800\n",
    "scene.height = 600\n",
    "\n",
    "scene.autoscale = 0\n",
    "scene.range = (100,100,100)\n",
    "scene.center = (50,40,0)\n",
    "\n",
    "puck = cylinder(pos=vector(0,0,0),axis=vector(0,2,0), radius=2, color=color.green)\n",
    "puck.mass = 1 # kg\n",
    "ground = box(pos=vector(50,-1,0),size=vector(100,2,50))\n",
    "\n",
    "mylabel = label(pos=vector(50,60,0),text=\"velocity x: \",height=10)\n",
    "\n",
    "gravity = 9.8  # m/s**2\n",
    "velocity = 25   # m/s\n",
    "angle = 45     # degrees\n",
    "angle = angle * (pi/180) # converted to radians\n",
    "\n",
    "# sin = opp / hyp\n",
    "# cos = adj / hyp\n",
    "\n",
    "# therefore\n",
    "\n",
    "# opp = hyp * sin\n",
    "# adj = hyp * cos\n",
    "\n",
    "VelocityY = velocity * sin(angle)\n",
    "VelocityX = velocity * cos(angle)\n",
    "VelocityZ = 0\n",
    "\n",
    "VelocityThrown = vector(VelocityX,VelocityY,0)\n",
    "\n",
    "VelocityWind = vector(0,0,0)\n",
    "\n",
    "TotalVelocity = VelocityThrown + VelocityWind\n",
    "puckVelocityY = TotalVelocity.y\n",
    "\n",
    "seconds = 0\n",
    "dt = .01\n",
    "\n",
    "finished = False\n",
    "while not finished:\n",
    "    rate(100) # go thru the loop no more than 100 times/s\n",
    "    seconds += dt\n",
    "\n",
    "    puckY = TotalVelocity.y * seconds - .5 * gravity * seconds**2\n",
    "\n",
    "    if puckY <= 0:\n",
    "        puckY = 0\n",
    "        \n",
    "        # Force Due To Kinetic Friction = Normal Force * CoefficientKinetic\n",
    "        CoefficientOfKineticFriction = .45\n",
    "\n",
    "        # Newton's second law: Force = mass * acceleration\n",
    "        ForceDown = puck.mass * gravity\n",
    "\n",
    "        # Newton's third law: forces come in pairs, and these two\n",
    "        # forces are equal in magnitude and opposite in direction\n",
    "        ForceNormal = ForceDown\n",
    "\n",
    "        ForceKineticFriction = ForceNormal * CoefficientOfKineticFriction\n",
    "\n",
    "        AccelerationDueToKineticForce = ForceKineticFriction / puck.mass\n",
    "\n",
    "        # velocity = initial velocity * acceleration * time\n",
    "        TotalVelocity.x += -AccelerationDueToKineticForce * dt\n",
    "\n",
    "        puckX = puck.pos.x + TotalVelocity.x * dt\n",
    "\n",
    "    else:\n",
    "        puckX = TotalVelocity.x * seconds        \n",
    "    \n",
    "\n",
    "    # position equation: y(t) = y0 + v0*t + .5 * a * t**2\n",
    "\n",
    "\n",
    "    puckZ = TotalVelocity.z * seconds\n",
    "\n",
    "    puckVelocityY += -gravity * dt\n",
    "    \n",
    "    mylabel.text = \"velocity x: \" + str(TotalVelocity.x) + \"\\nvelocity y: \" + str(puckVelocityY)\n",
    "    puck.pos = vector(puckX,puckY,puckZ)\n",
    "\n",
    "    if TotalVelocity.x <= 0:\n",
    "        finished = True"
   ]
  },
  {
   "cell_type": "code",
   "execution_count": 1,
   "metadata": {},
   "outputs": [
    {
     "data": {
      "application/javascript": [
       "require.undef(\"nbextensions/vpython_libraries/glow.min\");"
      ],
      "text/plain": [
       "<IPython.core.display.Javascript object>"
      ]
     },
     "metadata": {},
     "output_type": "display_data"
    },
    {
     "data": {
      "application/javascript": [
       "require.undef(\"nbextensions/vpython_libraries/glowcomm\");"
      ],
      "text/plain": [
       "<IPython.core.display.Javascript object>"
      ]
     },
     "metadata": {},
     "output_type": "display_data"
    },
    {
     "data": {
      "application/javascript": [
       "require.undef(\"nbextensions/vpython_libraries/jquery-ui.custom.min\");"
      ],
      "text/plain": [
       "<IPython.core.display.Javascript object>"
      ]
     },
     "metadata": {},
     "output_type": "display_data"
    },
    {
     "data": {
      "application/javascript": [
       "require([\"nbextensions/vpython_libraries/glow.min\"], function(){console.log(\"GLOW LOADED\");})"
      ],
      "text/plain": [
       "<IPython.core.display.Javascript object>"
      ]
     },
     "metadata": {},
     "output_type": "display_data"
    },
    {
     "data": {
      "application/javascript": [
       "require([\"nbextensions/vpython_libraries/glowcomm\"], function(){console.log(\"GLOWCOMM LOADED\");})"
      ],
      "text/plain": [
       "<IPython.core.display.Javascript object>"
      ]
     },
     "metadata": {},
     "output_type": "display_data"
    },
    {
     "data": {
      "application/javascript": [
       "require([\"nbextensions/vpython_libraries/jquery-ui.custom.min\"], function(){console.log(\"JQUERY LOADED\");})"
      ],
      "text/plain": [
       "<IPython.core.display.Javascript object>"
      ]
     },
     "metadata": {},
     "output_type": "display_data"
    },
    {
     "data": {
      "text/html": [
       "<div id=\"glowscript\" class=\"glowscript\"></div>"
      ],
      "text/plain": [
       "<IPython.core.display.HTML object>"
      ]
     },
     "metadata": {},
     "output_type": "display_data"
    },
    {
     "data": {
      "application/javascript": [
       "window.__context = { glowscript_container: $(\"#glowscript\").removeAttr(\"id\")}"
      ],
      "text/plain": [
       "<IPython.core.display.Javascript object>"
      ]
     },
     "metadata": {},
     "output_type": "display_data"
    },
    {
     "ename": "KeyboardInterrupt",
     "evalue": "",
     "output_type": "error",
     "traceback": [
      "\u001b[1;31m---------------------------------------------------------------------------\u001b[0m",
      "\u001b[1;31mKeyboardInterrupt\u001b[0m                         Traceback (most recent call last)",
      "\u001b[1;32m<ipython-input-1-f603c61cf359>\u001b[0m in \u001b[0;36m<module>\u001b[1;34m()\u001b[0m\n\u001b[0;32m     35\u001b[0m \u001b[0mseconds\u001b[0m \u001b[1;33m=\u001b[0m \u001b[1;36m0\u001b[0m \u001b[1;31m# total time\u001b[0m\u001b[1;33m\u001b[0m\u001b[0m\n\u001b[0;32m     36\u001b[0m \u001b[1;32mwhile\u001b[0m \u001b[1;36m1\u001b[0m\u001b[1;33m:\u001b[0m\u001b[1;33m\u001b[0m\u001b[0m\n\u001b[1;32m---> 37\u001b[1;33m     \u001b[0mrate\u001b[0m\u001b[1;33m(\u001b[0m\u001b[1;36m80\u001b[0m\u001b[1;33m)\u001b[0m\u001b[1;33m\u001b[0m\u001b[0m\n\u001b[0m\u001b[0;32m     38\u001b[0m     \u001b[0mseconds\u001b[0m \u001b[1;33m+=\u001b[0m \u001b[0mdt\u001b[0m\u001b[1;33m\u001b[0m\u001b[0m\n\u001b[0;32m     39\u001b[0m \u001b[1;33m\u001b[0m\u001b[0m\n",
      "\u001b[1;32mc:\\users\\andrzejkrajka\\appdata\\local\\programs\\python\\python36-32\\lib\\site-packages\\vpython\\vpython.py\u001b[0m in \u001b[0;36m__call__\u001b[1;34m(self, N)\u001b[0m\n\u001b[0;32m    213\u001b[0m         \u001b[0mself\u001b[0m\u001b[1;33m.\u001b[0m\u001b[0mrval\u001b[0m \u001b[1;33m=\u001b[0m \u001b[0mN\u001b[0m\u001b[1;33m\u001b[0m\u001b[0m\n\u001b[0;32m    214\u001b[0m         \u001b[1;32mif\u001b[0m \u001b[0mself\u001b[0m\u001b[1;33m.\u001b[0m\u001b[0mrval\u001b[0m \u001b[1;33m<\u001b[0m \u001b[1;36m1\u001b[0m\u001b[1;33m:\u001b[0m \u001b[1;32mraise\u001b[0m \u001b[0mValueError\u001b[0m\u001b[1;33m(\u001b[0m\u001b[1;34m\"rate value must be greater than or equal to 1\"\u001b[0m\u001b[1;33m)\u001b[0m\u001b[1;33m\u001b[0m\u001b[0m\n\u001b[1;32m--> 215\u001b[1;33m         \u001b[0msuper\u001b[0m\u001b[1;33m(\u001b[0m\u001b[0m_RateKeeper2\u001b[0m\u001b[1;33m,\u001b[0m \u001b[0mself\u001b[0m\u001b[1;33m)\u001b[0m\u001b[1;33m.\u001b[0m\u001b[0m__call__\u001b[0m\u001b[1;33m(\u001b[0m\u001b[0mself\u001b[0m\u001b[1;33m.\u001b[0m\u001b[0mrval\u001b[0m\u001b[1;33m)\u001b[0m \u001b[1;31m## calls __call__ in rate_control.py\u001b[0m\u001b[1;33m\u001b[0m\u001b[0m\n\u001b[0m\u001b[0;32m    216\u001b[0m \u001b[1;33m\u001b[0m\u001b[0m\n\u001b[0;32m    217\u001b[0m \u001b[1;32mif\u001b[0m \u001b[0msys\u001b[0m\u001b[1;33m.\u001b[0m\u001b[0mversion\u001b[0m \u001b[1;33m>\u001b[0m \u001b[1;34m'3'\u001b[0m\u001b[1;33m:\u001b[0m\u001b[1;33m\u001b[0m\u001b[0m\n",
      "\u001b[1;32mc:\\users\\andrzejkrajka\\appdata\\local\\programs\\python\\python36-32\\lib\\site-packages\\vpython\\rate_control.py\u001b[0m in \u001b[0;36m__call__\u001b[1;34m(self, maxRate)\u001b[0m\n\u001b[0;32m    205\u001b[0m             \u001b[0mdt\u001b[0m \u001b[1;33m=\u001b[0m \u001b[0mself\u001b[0m\u001b[1;33m.\u001b[0m\u001b[0mlastSleep\u001b[0m \u001b[1;33m+\u001b[0m \u001b[0mself\u001b[0m\u001b[1;33m.\u001b[0m\u001b[0mcalls\u001b[0m\u001b[1;33m*\u001b[0m\u001b[1;33m(\u001b[0m\u001b[0mself\u001b[0m\u001b[1;33m.\u001b[0m\u001b[0muserTime\u001b[0m \u001b[1;33m+\u001b[0m \u001b[0mself\u001b[0m\u001b[1;33m.\u001b[0m\u001b[0mcallTime\u001b[0m \u001b[1;33m+\u001b[0m \u001b[0mself\u001b[0m\u001b[1;33m.\u001b[0m\u001b[0mdelay\u001b[0m\u001b[1;33m)\u001b[0m \u001b[1;33m+\u001b[0m\u001b[0;31m \u001b[0m\u001b[0;31m\\\u001b[0m\u001b[1;33m\u001b[0m\u001b[0m\n\u001b[0;32m    206\u001b[0m                  \u001b[0mrenders\u001b[0m\u001b[1;33m*\u001b[0m\u001b[0mself\u001b[0m\u001b[1;33m.\u001b[0m\u001b[0mrenderTime\u001b[0m \u001b[1;33m+\u001b[0m \u001b[0msleeps\u001b[0m\u001b[1;33m*\u001b[0m\u001b[0mself\u001b[0m\u001b[1;33m.\u001b[0m\u001b[0minteractionPeriod\u001b[0m \u001b[1;33m-\u001b[0m \u001b[0m_clock\u001b[0m\u001b[1;33m(\u001b[0m\u001b[1;33m)\u001b[0m\u001b[1;33m\u001b[0m\u001b[0m\n\u001b[1;32m--> 207\u001b[1;33m             \u001b[0m_sleep\u001b[0m\u001b[1;33m(\u001b[0m\u001b[0mdt\u001b[0m\u001b[1;33m)\u001b[0m\u001b[1;33m\u001b[0m\u001b[0m\n\u001b[0m\u001b[0;32m    208\u001b[0m             \u001b[0mself\u001b[0m\u001b[1;33m.\u001b[0m\u001b[0mlastSleep\u001b[0m \u001b[1;33m=\u001b[0m \u001b[0m_clock\u001b[0m\u001b[1;33m(\u001b[0m\u001b[1;33m)\u001b[0m\u001b[1;33m\u001b[0m\u001b[0m\n\u001b[0;32m    209\u001b[0m             \u001b[0mself\u001b[0m\u001b[1;33m.\u001b[0m\u001b[0mcalls\u001b[0m \u001b[1;33m=\u001b[0m \u001b[1;36m0\u001b[0m\u001b[1;33m\u001b[0m\u001b[0m\n",
      "\u001b[1;32mc:\\users\\andrzejkrajka\\appdata\\local\\programs\\python\\python36-32\\lib\\site-packages\\vpython\\rate_control.py\u001b[0m in \u001b[0;36m_sleep\u001b[1;34m(dt)\u001b[0m\n\u001b[0;32m     47\u001b[0m         \u001b[0mdtsleep\u001b[0m \u001b[1;33m=\u001b[0m \u001b[0mnticks\u001b[0m\u001b[1;33m*\u001b[0m\u001b[0m_tick\u001b[0m\u001b[1;33m\u001b[0m\u001b[0m\n\u001b[0;32m     48\u001b[0m         \u001b[0mt\u001b[0m \u001b[1;33m=\u001b[0m \u001b[0m_clock\u001b[0m\u001b[1;33m(\u001b[0m\u001b[1;33m)\u001b[0m\u001b[1;33m\u001b[0m\u001b[0m\n\u001b[1;32m---> 49\u001b[1;33m         \u001b[0mtime\u001b[0m\u001b[1;33m.\u001b[0m\u001b[0msleep\u001b[0m\u001b[1;33m(\u001b[0m\u001b[0mdtsleep\u001b[0m\u001b[1;33m)\u001b[0m\u001b[1;33m\u001b[0m\u001b[0m\n\u001b[0m\u001b[0;32m     50\u001b[0m         \u001b[0mt\u001b[0m \u001b[1;33m=\u001b[0m \u001b[0m_clock\u001b[0m\u001b[1;33m(\u001b[0m\u001b[1;33m)\u001b[0m\u001b[1;33m-\u001b[0m\u001b[0mt\u001b[0m\u001b[1;33m\u001b[0m\u001b[0m\n\u001b[0;32m     51\u001b[0m         \u001b[0mdt\u001b[0m \u001b[1;33m-=\u001b[0m \u001b[0mt\u001b[0m\u001b[1;33m\u001b[0m\u001b[0m\n",
      "\u001b[1;31mKeyboardInterrupt\u001b[0m: "
     ]
    }
   ],
   "source": [
    "from __future__ import division\n",
    "from vpython import *\n",
    "\n",
    "\n",
    "\n",
    "scene=canvas\n",
    "scene.range = vector(1,1,1)\n",
    "scene.center = vector(0,0,0)\n",
    "scene.width = 800\n",
    "scene.height = 600\n",
    "\n",
    "\n",
    "relaxedlength = vector(.60,0,0) # length of spring when it isn't stretched or compressed\n",
    "spring = helix(pos=vector(-.75,0,0),axis=relaxedlength, radius=.1,coils=8,thickness=.01,color=color.green)\n",
    "spring.constant = 2 # k\n",
    "\n",
    "weight = box(pos=vector(0,0,0),size=vector(.3,.3,.3),color=color.yellow)\n",
    "weight.mass = 10 # kg\n",
    "weight.velocity = vector(0,0,0)\n",
    "weight.acceleration = vector(0,0,0)\n",
    "weight.force = vector(0,0,0)\n",
    "\n",
    "frictionlessSurface = box(size=vector(2,.02,.5),pos=vector(0,-.16,0))\n",
    "wall = box(size=vector(.04,.5,.3),pos=vector(-.77,.1,0),color=color.red)\n",
    "\n",
    "wektor_odkszt=vector(-0.3,0,0)        # !!!!!!!!!!!!!!!!!!!!!!!!!!!!!\n",
    "weight.pos=wektor_odkszt\n",
    "spring.displacement = vector(-0.3,0,0) # the weight starts at (0,0,0) and is attached to spring\n",
    "\n",
    "mylabel = label(pos=vector(0,.4,0))\n",
    "spring.axis = relaxedlength + spring.displacement\n",
    "\n",
    "\n",
    "dt = .01    # seconds\n",
    "seconds = 0 # total time\n",
    "while 1:\n",
    "    rate(80)\n",
    "    seconds += dt\n",
    "    \n",
    "    \n",
    "    SpringForce = -spring.constant * spring.displacement\n",
    "\n",
    "    \n",
    "    weight.force = SpringForce\n",
    "\n",
    "    \n",
    "    weight.acceleration = weight.force/weight.mass\n",
    "    weight.velocity += weight.acceleration * dt\n",
    "    weight.pos += weight.velocity + .5 * weight.acceleration * dt**2\n",
    "\n",
    "    \n",
    "    spring.displacement = weight.pos\n",
    "    spring.axis = relaxedlength + spring.displacement\n",
    "\n",
    "    \n",
    "    message = \"\\nOdkształcenie %.1f\" % spring.displacement.x \n",
    "    message += \"\\nPrędkość %.3f\" % weight.velocity.x  \n",
    "    message += \"\\nPrzyspieszenie %.2f\" % weight.acceleration.x \n",
    "    message += \"\\nSiła % .1f\" % weight.force.x\n",
    "    mylabel.text = message"
   ]
  },
  {
   "cell_type": "code",
   "execution_count": 1,
   "metadata": {},
   "outputs": [
    {
     "data": {
      "application/javascript": [
       "require.undef(\"nbextensions/vpython_libraries/glow.min\");"
      ],
      "text/plain": [
       "<IPython.core.display.Javascript object>"
      ]
     },
     "metadata": {},
     "output_type": "display_data"
    },
    {
     "data": {
      "application/javascript": [
       "require.undef(\"nbextensions/vpython_libraries/glowcomm\");"
      ],
      "text/plain": [
       "<IPython.core.display.Javascript object>"
      ]
     },
     "metadata": {},
     "output_type": "display_data"
    },
    {
     "data": {
      "application/javascript": [
       "require.undef(\"nbextensions/vpython_libraries/jquery-ui.custom.min\");"
      ],
      "text/plain": [
       "<IPython.core.display.Javascript object>"
      ]
     },
     "metadata": {},
     "output_type": "display_data"
    },
    {
     "data": {
      "application/javascript": [
       "require([\"nbextensions/vpython_libraries/glow.min\"], function(){console.log(\"GLOW LOADED\");})"
      ],
      "text/plain": [
       "<IPython.core.display.Javascript object>"
      ]
     },
     "metadata": {},
     "output_type": "display_data"
    },
    {
     "data": {
      "application/javascript": [
       "require([\"nbextensions/vpython_libraries/glowcomm\"], function(){console.log(\"GLOWCOMM LOADED\");})"
      ],
      "text/plain": [
       "<IPython.core.display.Javascript object>"
      ]
     },
     "metadata": {},
     "output_type": "display_data"
    },
    {
     "data": {
      "application/javascript": [
       "require([\"nbextensions/vpython_libraries/jquery-ui.custom.min\"], function(){console.log(\"JQUERY LOADED\");})"
      ],
      "text/plain": [
       "<IPython.core.display.Javascript object>"
      ]
     },
     "metadata": {},
     "output_type": "display_data"
    },
    {
     "data": {
      "text/html": [
       "<div id=\"glowscript\" class=\"glowscript\"></div>"
      ],
      "text/plain": [
       "<IPython.core.display.HTML object>"
      ]
     },
     "metadata": {},
     "output_type": "display_data"
    },
    {
     "data": {
      "application/javascript": [
       "window.__context = { glowscript_container: $(\"#glowscript\").removeAttr(\"id\")}"
      ],
      "text/plain": [
       "<IPython.core.display.Javascript object>"
      ]
     },
     "metadata": {},
     "output_type": "display_data"
    },
    {
     "data": {
      "text/html": [
       "<div id=\"glowscript\" class=\"glowscript\"></div>"
      ],
      "text/plain": [
       "<IPython.core.display.HTML object>"
      ]
     },
     "metadata": {},
     "output_type": "display_data"
    },
    {
     "data": {
      "application/javascript": [
       "window.__context = { glowscript_container: $(\"#glowscript\").removeAttr(\"id\")}"
      ],
      "text/plain": [
       "<IPython.core.display.Javascript object>"
      ]
     },
     "metadata": {},
     "output_type": "display_data"
    },
    {
     "name": "stdout",
     "output_type": "stream",
     "text": [
      "18.382424442300238 ms per loop\n"
     ]
    }
   ],
   "source": [
    "from vpython import *\n",
    "scene=canvas\n",
    "\n",
    "win = 500\n",
    "Natoms = 100  # change this to have more or fewer atoms\n",
    "\n",
    "# Typical values\n",
    "L = 1 # container is a cube L on a side\n",
    "gray = color.gray(0.7) # color of edges of container\n",
    "mass = 4E-3/6E23 # helium mass\n",
    "Ratom = 0.03 # wildly exaggerated size of helium atom\n",
    "k = 1.4E-23 # stała Boltzmann \n",
    "T = 300 # around room temperature\n",
    "dt = 1E-5\n",
    "\n",
    "animation = canvas( width=win, height=win)\n",
    "animation.range = L\n",
    "animation.title = 'A \"hard-sphere\" gas'\n",
    "s = \"\"\"&nbsp;&nbsp;Teoretyczny i przeciętny rozkład szybkości  (meters/sec).\n",
    "&nbsp;&nbsp;Początkowo wszystkie atomy mają tę samą szybkość ale z powodu kolizji \n",
    "&nbsp;&nbsp;zmienia się szybkość zderzających atomów. Jeden atom wybrany pozostawia ślad. \n",
    "&nbsp\n",
    "\"\"\"\n",
    "animation.caption = s\n",
    "\n",
    "d = L/2+Ratom\n",
    "r = 0.005\n",
    "boxbottom = curve(color=gray, radius=r)\n",
    "boxbottom.append([vector(-d,-d,-d), vector(-d,-d,d), vector(d,-d,d), vector(d,-d,-d), vector(-d,-d,-d)])\n",
    "boxtop = curve(color=gray, radius=r)\n",
    "boxtop.append([vector(-d,d,-d), vector(-d,d,d), vector(d,d,d), vector(d,d,-d), vector(-d,d,-d)])\n",
    "vert1 = curve(color=gray, radius=r)\n",
    "vert2 = curve(color=gray, radius=r)\n",
    "vert3 = curve(color=gray, radius=r)\n",
    "vert4 = curve(color=gray, radius=r)\n",
    "vert1.append([vector(-d,-d,-d), vector(-d,d,-d)])\n",
    "vert2.append([vector(-d,-d,d), vector(-d,d,d)])\n",
    "vert3.append([vector(d,-d,d), vector(d,d,d)])\n",
    "vert4.append([vector(d,-d,-d), vector(d,d,-d)])\n",
    "\n",
    "Atoms = []\n",
    "p = []\n",
    "apos = []\n",
    "pavg = sqrt(2*mass*1.5*k*T) # average kinetic energy p**2/(2mass) = (3/2)kT\n",
    "    \n",
    "for i in range(Natoms):\n",
    "    x = L*random()-L/2\n",
    "    y = L*random()-L/2\n",
    "    z = L*random()-L/2\n",
    "    if i == 0:\n",
    "        Atoms.append(sphere(pos=vector(x,y,z), radius=Ratom, color=color.cyan, make_trail=True, retain=100, trail_radius=0.3*Ratom))\n",
    "    else: Atoms.append(sphere(pos=vector(x,y,z), radius=Ratom, color=gray))\n",
    "    apos.append(vec(x,y,z))\n",
    "    theta = pi*random()\n",
    "    phi = 2*pi*random()\n",
    "    px = pavg*sin(theta)*cos(phi)\n",
    "    py = pavg*sin(theta)*sin(phi)\n",
    "    pz = pavg*cos(theta)\n",
    "    p.append(vector(px,py,pz))\n",
    "\n",
    "deltav = 100 # binning for v histogram\n",
    "\n",
    "def barx(v):\n",
    "    return int(v/deltav) # index into bars array\n",
    "\n",
    "nhisto = int(4500/deltav)\n",
    "histo = []\n",
    "for i in range(nhisto): histo.append(0.0)\n",
    "histo[barx(pavg/mass)] = Natoms\n",
    "\n",
    "gg = graph( width=win, height=0.4*win, xmax=3000, xtitle='szybkość, m/s', ytitle='Ilość atomów', ymax=Natoms*deltav/1000)\n",
    "\n",
    "theory = gcurve( color=color.cyan )\n",
    "dv = 10\n",
    "for v in range(0,3001+dv,dv):  # theoretical prediction\n",
    "    theory.plot( v, (deltav/dv)*Natoms*4*pi*((mass/(2*pi*k*T))**1.5) *exp(-0.5*mass*(v**2)/(k*T))*(v**2)*dv )\n",
    "\n",
    "accum = []\n",
    "for i in range(int(3000/deltav)): accum.append([deltav*(i+.5),0])\n",
    "vdist = gvbars(color=color.red, delta=deltav )\n",
    "\n",
    "def interchange(v1, v2):  # remove from v1 bar, add to v2 bar\n",
    "    barx1 = barx(v1)\n",
    "    barx2 = barx(v2)\n",
    "    if barx1 == barx2:  return\n",
    "    histo[barx1] -= 1\n",
    "    histo[barx2] += 1\n",
    "    \n",
    "def checkCollisions():\n",
    "    hitlist = []\n",
    "    r2 = 2*Ratom\n",
    "    r2 *= r2\n",
    "    for i in range(Natoms):\n",
    "        ai = apos[i]\n",
    "        for j in range(i+1, Natoms) :\n",
    "            aj = apos[j]\n",
    "            dr = ai - aj\n",
    "            if mag2(dr) < r2: hitlist.append([i,j])\n",
    "    return hitlist\n",
    "\n",
    "nhisto = 0 # number of histogram snapshots to average\n",
    "count = 0\n",
    "timer = clock()\n",
    "\n",
    "while True:\n",
    "    rate(1000000)\n",
    "    # Accumulate and average histogram snapshots\n",
    "    for i in range(len(accum)): accum[i][1] = (nhisto*accum[i][1] + histo[i])/(nhisto+1)\n",
    "    #if nhisto % 10 == 0:\n",
    "    #    vdist.data = accum\n",
    "    nhisto += 1\n",
    "\n",
    "    # Update all positions\n",
    "    for i in range(Natoms): Atoms[i].pos = apos[i] = apos[i] + (p[i]/mass)*dt\n",
    "    \n",
    "    # Check for collisions\n",
    "    hitlist = checkCollisions()\n",
    "\n",
    "    # If any collisions took place, update momenta of the two atoms\n",
    "    for ij in hitlist:\n",
    "        i = ij[0]\n",
    "        j = ij[1]\n",
    "        ptot = p[i]+p[j]\n",
    "        posi = apos[i]\n",
    "        posj = apos[j]\n",
    "        vi = p[i]/mass\n",
    "        vj = p[j]/mass\n",
    "        vrel = vj-vi\n",
    "        a = vrel.mag2\n",
    "        if a == 0: continue;  # exactly same velocities\n",
    "        rrel = posi-posj\n",
    "        b = 2*rrel.dot(vrel)\n",
    "        c = rrel.mag2-4*Ratom*Ratom\n",
    "        d = b*b-4*a*c\n",
    "        if d < 0: continue  # something wrong; ignore this rare case\n",
    "        deltat = (-b+sqrt(d))/(2*a) # t-deltat is when they made contact\n",
    "        posi = posi-vi*deltat # back up to contact configuration\n",
    "        posj = posj-vj*deltat\n",
    "        mtot = 2*mass\n",
    "        pcmi = p[i]-ptot*mass/mtot # transform momenta to cm frame\n",
    "        pcmj = p[j]-ptot*mass/mtot\n",
    "        rrel = norm(rrel)\n",
    "        pcmi = pcmi-2*pcmi.dot(rrel)*rrel # bounce in cm frame\n",
    "        pcmj = pcmj-2*pcmj.dot(rrel)*rrel\n",
    "        p[i] = pcmi+ptot*mass/mtot # transform momenta back to lab frame\n",
    "        p[j] = pcmj+ptot*mass/mtot\n",
    "        apos[i] = posi+(p[i]/mass)*deltat # move forward deltat in time\n",
    "        apos[j] = posj+(p[j]/mass)*deltat\n",
    "        interchange(vi.mag, p[i].mag/mass)\n",
    "        interchange(vj.mag, p[j].mag/mass)\n",
    "    \n",
    "    for i in range(Natoms):\n",
    "        loc = apos[i]\n",
    "        if abs(loc.x) > L/2:\n",
    "            if loc.x < 0: p[i].x =  abs(p[i].x)\n",
    "            else: p[i].x =  -abs(p[i].x)\n",
    "        \n",
    "        if abs(loc.y) > L/2:\n",
    "            if loc.y < 0: p[i].y = abs(p[i].y)\n",
    "            else: p[i].y =  -abs(p[i].y)\n",
    "        \n",
    "        if abs(loc.z) > L/2:\n",
    "            if loc.z < 0: p[i].z =  abs(p[i].z)\n",
    "            else: p[i].z =  -abs(p[i].z)\n",
    "    \n",
    "    count += 1\n",
    "    if count >= 1000: break\n",
    "timer = clock()-timer\n",
    "print(1000*timer/count, 'ms per loop')\n",
    "vdist.data = accum"
   ]
  },
  {
   "cell_type": "code",
   "execution_count": 1,
   "metadata": {},
   "outputs": [
    {
     "data": {
      "application/javascript": [
       "require.undef(\"nbextensions/vpython_libraries/glow.min\");"
      ],
      "text/plain": [
       "<IPython.core.display.Javascript object>"
      ]
     },
     "metadata": {},
     "output_type": "display_data"
    },
    {
     "data": {
      "application/javascript": [
       "require.undef(\"nbextensions/vpython_libraries/glowcomm\");"
      ],
      "text/plain": [
       "<IPython.core.display.Javascript object>"
      ]
     },
     "metadata": {},
     "output_type": "display_data"
    },
    {
     "data": {
      "application/javascript": [
       "require.undef(\"nbextensions/vpython_libraries/jquery-ui.custom.min\");"
      ],
      "text/plain": [
       "<IPython.core.display.Javascript object>"
      ]
     },
     "metadata": {},
     "output_type": "display_data"
    },
    {
     "data": {
      "application/javascript": [
       "require([\"nbextensions/vpython_libraries/glow.min\"], function(){console.log(\"GLOW LOADED\");})"
      ],
      "text/plain": [
       "<IPython.core.display.Javascript object>"
      ]
     },
     "metadata": {},
     "output_type": "display_data"
    },
    {
     "data": {
      "application/javascript": [
       "require([\"nbextensions/vpython_libraries/glowcomm\"], function(){console.log(\"GLOWCOMM LOADED\");})"
      ],
      "text/plain": [
       "<IPython.core.display.Javascript object>"
      ]
     },
     "metadata": {},
     "output_type": "display_data"
    },
    {
     "data": {
      "application/javascript": [
       "require([\"nbextensions/vpython_libraries/jquery-ui.custom.min\"], function(){console.log(\"JQUERY LOADED\");})"
      ],
      "text/plain": [
       "<IPython.core.display.Javascript object>"
      ]
     },
     "metadata": {},
     "output_type": "display_data"
    },
    {
     "data": {
      "text/html": [
       "<div id=\"glowscript\" class=\"glowscript\"></div>"
      ],
      "text/plain": [
       "<IPython.core.display.HTML object>"
      ]
     },
     "metadata": {},
     "output_type": "display_data"
    },
    {
     "data": {
      "application/javascript": [
       "window.__context = { glowscript_container: $(\"#glowscript\").removeAttr(\"id\")}"
      ],
      "text/plain": [
       "<IPython.core.display.Javascript object>"
      ]
     },
     "metadata": {},
     "output_type": "display_data"
    }
   ],
   "source": [
    "\"\"\"Przyk│ad PY85. Testowanie mo┐liwoťci tworzenia rˇ┐nych wykresˇw w Vpythonie.\"\"\"\n",
    "from vpython import *\n",
    "scene=canvas\n",
    "funct1 = gcurve(color=color.cyan)\n",
    "funct2 = gcurve(color=color.red)\n",
    "funct3 = gcurve(color=color.yellow)\n",
    "\n",
    "for t in arange(-30, 74, 1):\n",
    "    funct1.plot( pos=(t, 5.0+5.0*cos(-0.2*t)*exp(0.015*t)) )\n",
    "    funct2.plot( pos=(t, 2.0+5.0*cos(-0.1*t)*exp(0.015*t)) )\n",
    "    funct3.plot( pos=(t, 5.0*cos(-0.03*t)*exp(0.015*t)) )\n"
   ]
  },
  {
   "cell_type": "code",
   "execution_count": 12,
   "metadata": {
    "collapsed": true
   },
   "outputs": [],
   "source": [
    "#from visual import *\n",
    "from vpython import *\n",
    "scene=canvas\n",
    "strzalka=arrow(pos=vector(0,2,1), axis=vector(5,0,0), shafwidth=1, color=color.cyan)\n",
    "walec=cylinder(pos=vector(-2,2,5), axis=vector(5,0,0),radius=1, color=color.red)\n",
    "stozek=cone(pos=vector(5,-4,0), axis=vector(12,0,0) , radius=1, color=color.blue)\n",
    "ostroslup=pyramid(pos=vector(5,2,3), axis=vector(12,0,0), size=vector(12,6,4), color=color.green)\n",
    "kula = sphere(pos=vector(1,-2,1), radius=0.5, color=color.yellow)\n",
    "pierscien = ring(pos=vector(1,1,1), axis=vector(0,1,0), radius=0.5, thickness=0.1)\n",
    "pudelko = box(pos=vector(3,5,2), length=4, height=3, width=4, color=color.orange)\n",
    "etykieta =label(pos=kula.pos, text='Jowisz', xoffset=20, yoffset=12, space=kula.radius, height=10, border=6, font='sans')"
   ]
  },
  {
   "cell_type": "code",
   "execution_count": 3,
   "metadata": {
    "collapsed": true
   },
   "outputs": [],
   "source": [
    "from vpython import *\n",
    "from random import *\n",
    "scene=canvas\n",
    "# Rozmiary tablicy\n",
    "L=100              \n",
    "\n",
    "tab=[[0 for i in range(L)] for j in range(L)]\n",
    "tkul=[[sphere(pos=vector(-10.0+0.2*i, -10.0+0.2*j,0), color=color.red, radius=0.15) for i in\n",
    "      range(L)] for j in range(L)]\n",
    "direct=[(1,0),(0,1),(-1,0),(0,-1)]\n",
    "i,j=int(L*random()),int(L*random())\n",
    "k=int(4*random()-1)\n",
    "#t=0\n",
    "for t in range(100): \n",
    "    #t+=1\n",
    "    if tab[i][j]==1:\n",
    "        k+=1\n",
    "        tab[i][j]=0\n",
    "        tkul[i][j].color=color.red\n",
    "    else:\n",
    "        k-=1\n",
    "        tab[i][j]=1\n",
    "        tkul[i][j].color=color.cyan\n",
    "    if k<0: k=3\n",
    "    if k>3: k=0\n",
    "    i+=direct[k][0]\n",
    "    if i>=L: i=0\n",
    "    if i<0: i=L-1\n",
    "    j+=direct[k][1]\n",
    "    if j>=L: j=0\n",
    "    if j<0: j=L-1\n",
    "    rate(100) "
   ]
  },
  {
   "cell_type": "code",
   "execution_count": 2,
   "metadata": {},
   "outputs": [
    {
     "data": {
      "text/html": [
       "<div id=\"glowscript\" class=\"glowscript\"></div>"
      ],
      "text/plain": [
       "<IPython.core.display.HTML object>"
      ]
     },
     "metadata": {},
     "output_type": "display_data"
    },
    {
     "data": {
      "application/javascript": [
       "window.__context = { glowscript_container: $(\"#glowscript\").removeAttr(\"id\")}"
      ],
      "text/plain": [
       "<IPython.core.display.Javascript object>"
      ]
     },
     "metadata": {},
     "output_type": "display_data"
    }
   ],
   "source": [
    "from vpython import *\n",
    "scene=canvas\n",
    "animation = canvas( width=600, height=400)\n",
    "animation.range = 1\n",
    "animation.title = 'Przykład'\n",
    "\n",
    "animation.caption = \"Figury VPythona\"\n",
    "strzalka=arrow(pos=vector(0,2,1), axis=vector(5,0,0), shafwidth=1, color=color.cyan)\n",
    "walec=cylinder(pos=vector(-2,2,5), axis=vector(5,0,0),radius=1, color=color.red)\n",
    "stozek=cone(pos=vector(5,-4,0), axis=vector(12,0,0) , radius=1, color=color.blue)\n",
    "ostroslup=pyramid(pos=vector(5,2,3), axis=vector(12,0,0), size=vector(12,6,4), color=color.green)\n",
    "kula = sphere(pos=vector(1,-2,1), radius=0.5, color=color.yellow)\n",
    "pierscien = ring(pos=vector(1,1,1), axis=vector(0,1,0), radius=0.5, thickness=0.1)\n",
    "pudelko = box(pos=vector(3,5,2), length=4, height=3, width=4, color=color.orange)\n",
    "etykieta =label(pos=kula.pos, text='Jowisz', xoffset=20, yoffset=12, space=kula.radius, height=10, border=6, font='sans')"
   ]
  },
  {
   "cell_type": "code",
   "execution_count": null,
   "metadata": {},
   "outputs": [
    {
     "data": {
      "application/javascript": [
       "require.undef(\"nbextensions/vpython_libraries/glow.min\");"
      ],
      "text/plain": [
       "<IPython.core.display.Javascript object>"
      ]
     },
     "metadata": {},
     "output_type": "display_data"
    },
    {
     "data": {
      "application/javascript": [
       "require.undef(\"nbextensions/vpython_libraries/glowcomm\");"
      ],
      "text/plain": [
       "<IPython.core.display.Javascript object>"
      ]
     },
     "metadata": {},
     "output_type": "display_data"
    },
    {
     "data": {
      "application/javascript": [
       "require.undef(\"nbextensions/vpython_libraries/jquery-ui.custom.min\");"
      ],
      "text/plain": [
       "<IPython.core.display.Javascript object>"
      ]
     },
     "metadata": {},
     "output_type": "display_data"
    },
    {
     "data": {
      "application/javascript": [
       "require([\"nbextensions/vpython_libraries/glow.min\"], function(){console.log(\"GLOW LOADED\");})"
      ],
      "text/plain": [
       "<IPython.core.display.Javascript object>"
      ]
     },
     "metadata": {},
     "output_type": "display_data"
    },
    {
     "data": {
      "application/javascript": [
       "require([\"nbextensions/vpython_libraries/glowcomm\"], function(){console.log(\"GLOWCOMM LOADED\");})"
      ],
      "text/plain": [
       "<IPython.core.display.Javascript object>"
      ]
     },
     "metadata": {},
     "output_type": "display_data"
    },
    {
     "data": {
      "application/javascript": [
       "require([\"nbextensions/vpython_libraries/jquery-ui.custom.min\"], function(){console.log(\"JQUERY LOADED\");})"
      ],
      "text/plain": [
       "<IPython.core.display.Javascript object>"
      ]
     },
     "metadata": {},
     "output_type": "display_data"
    },
    {
     "data": {
      "text/html": [
       "<div id=\"glowscript\" class=\"glowscript\"></div>"
      ],
      "text/plain": [
       "<IPython.core.display.HTML object>"
      ]
     },
     "metadata": {},
     "output_type": "display_data"
    },
    {
     "data": {
      "application/javascript": [
       "window.__context = { glowscript_container: $(\"#glowscript\").removeAttr(\"id\")}"
      ],
      "text/plain": [
       "<IPython.core.display.Javascript object>"
      ]
     },
     "metadata": {},
     "output_type": "display_data"
    }
   ],
   "source": [
    "from vpython import *\n",
    "from random import *\n",
    "from copy import *\n",
    "global tab, tkul, L\n",
    "scene=canvas\n",
    "\n",
    "def stan(k,i,j,jl):       \n",
    "        ktab= k % 2        \n",
    "        k=int(k/2)\n",
    "        tab[i][jl]=ktab\n",
    "        tkul[jl][i].color=color.white*(1-ktab)+color.green*ktab\n",
    "        \n",
    "        ktab= k % 2        \n",
    "        k=int(k/2)\n",
    "        tab[i][j+1]=ktab\n",
    "        tkul[j+1][i].color=color.white*(1-ktab)+color.green*ktab\n",
    "        \n",
    "        ktab= k % 2        \n",
    "        k=int(k/2)\n",
    "        tab[i+1][jl]=ktab\n",
    "        tkul[jl][i+1].color=color.white*(1-ktab)+color.green*ktab\n",
    "        \n",
    "        ktab= k % 2        \n",
    "        tab[i+1][j+1]=ktab\n",
    "        tkul[j+1][i+1].color=color.white*(1-ktab)+color.green*ktab\n",
    "\n",
    "def typ(i, j):\n",
    "    if i==L-1:   return\n",
    "    if j==-1:\n",
    "        jl=L-1\n",
    "    else:\n",
    "        jl=j\n",
    "    k=tab[i][jl]+2*tab[i][j+1]+4*tab[i+1][jl]+8*tab[i+1][j+1]\n",
    "    if k==1:  stan(4,i,j,jl)                         # 1->4\n",
    "    if k==2:  stan(8,i,j,jl)                         # 2->8 \n",
    "    # w stan 12 - 3->12 (3 z q), 5->12  6->12  9->12  10->12\n",
    "    if ((k==3) and (random()<q)) or (k in [5, 6, 9, 10]): stan(12,i,j,jl)\n",
    "    if (k==7) and (random()<q):   stan(13,i,j,jl)    # 7->13 z pdp q\n",
    "    if (k==11) and (random()<q):  stan(14,i,j,jl)    # 11->14 z pdp q\n",
    "\n",
    "# PARAMETRY PRACY SYMULACJI\n",
    "#  1 - piasek green     0 - pusta white\n",
    "L=100              # Rozmiary tablicy (musi byc podzielna przez 2\n",
    "p=0.2              # Pocątkowa konfiguracja (prawdopodobieństwo ziarnka piasku)\n",
    "q=1.1              # 1-Pdp zakleszczenia\n",
    "\n",
    "tab=[[int(random()<p) for i in range(L)] for j in range(L)]    # Losowa inicjalizacja     \n",
    "tkul=[[sphere(pos=vector(-10.0+0.2*j, 10.0-0.2*i,0), color=tab[i][j]*color.green+(1-tab[i][j])*color.white, radius=0.15) for i in\n",
    "     range(L)] for j in range(L)]\n",
    "list1=[(i,j) for i in range(0,L,2) for j in range(0,L,2)]\n",
    "list2=[(i,j) for i in range(1,L,2) for j in range(-1,L-1,2)]\n",
    "while 1:\n",
    "    for (i,j) in list1: typ(i,j)\n",
    "    for (i,j) in list2: typ(i,j)\n",
    "    rate(10)"
   ]
  },
  {
   "cell_type": "code",
   "execution_count": null,
   "metadata": {},
   "outputs": [
    {
     "data": {
      "application/javascript": [
       "require.undef(\"nbextensions/vpython_libraries/glow.min\");"
      ],
      "text/plain": [
       "<IPython.core.display.Javascript object>"
      ]
     },
     "metadata": {},
     "output_type": "display_data"
    },
    {
     "data": {
      "application/javascript": [
       "require.undef(\"nbextensions/vpython_libraries/glowcomm\");"
      ],
      "text/plain": [
       "<IPython.core.display.Javascript object>"
      ]
     },
     "metadata": {},
     "output_type": "display_data"
    },
    {
     "data": {
      "application/javascript": [
       "require.undef(\"nbextensions/vpython_libraries/jquery-ui.custom.min\");"
      ],
      "text/plain": [
       "<IPython.core.display.Javascript object>"
      ]
     },
     "metadata": {},
     "output_type": "display_data"
    },
    {
     "data": {
      "application/javascript": [
       "require([\"nbextensions/vpython_libraries/glow.min\"], function(){console.log(\"GLOW LOADED\");})"
      ],
      "text/plain": [
       "<IPython.core.display.Javascript object>"
      ]
     },
     "metadata": {},
     "output_type": "display_data"
    },
    {
     "data": {
      "application/javascript": [
       "require([\"nbextensions/vpython_libraries/glowcomm\"], function(){console.log(\"GLOWCOMM LOADED\");})"
      ],
      "text/plain": [
       "<IPython.core.display.Javascript object>"
      ]
     },
     "metadata": {},
     "output_type": "display_data"
    },
    {
     "data": {
      "application/javascript": [
       "require([\"nbextensions/vpython_libraries/jquery-ui.custom.min\"], function(){console.log(\"JQUERY LOADED\");})"
      ],
      "text/plain": [
       "<IPython.core.display.Javascript object>"
      ]
     },
     "metadata": {},
     "output_type": "display_data"
    },
    {
     "data": {
      "text/html": [
       "<div id=\"glowscript\" class=\"glowscript\"></div>"
      ],
      "text/plain": [
       "<IPython.core.display.HTML object>"
      ]
     },
     "metadata": {},
     "output_type": "display_data"
    },
    {
     "data": {
      "application/javascript": [
       "window.__context = { glowscript_container: $(\"#glowscript\").removeAttr(\"id\")}"
      ],
      "text/plain": [
       "<IPython.core.display.Javascript object>"
      ]
     },
     "metadata": {},
     "output_type": "display_data"
    }
   ],
   "source": [
    "from vpython import *\n",
    "from random import *\n",
    "scene=canvas\n",
    "L=100              # Rozmiary tablicy\n",
    "\n",
    "tab=[[0 for i in range(L)] for j in range(L)]\n",
    "tkul=[[sphere(pos=vector(-10.0+0.2*i, -10.0+0.2*j,0), color=color.red, radius=0.15) for i in\n",
    "      range(L)] for j in range(L)]\n",
    "direct=[(1,0),(0,1),(-1,0),(0,-1)]\n",
    "(i,j)=(int(L*random()),int(L*random()))\n",
    "k=int(4*random()-1)\n",
    "t=0\n",
    "while 1:\n",
    "    t+=1\n",
    "    if tab[i][j]==1:\n",
    "        k+=1\n",
    "        tab[i][j]=0\n",
    "        tkul[i][j].color=color.red\n",
    "    else:\n",
    "        k-=1\n",
    "        tab[i][j]=1\n",
    "        tkul[i][j].color=color.cyan\n",
    "    if k<0: k=3\n",
    "    if k>3: k=0\n",
    "    i+=direct[k][0]\n",
    "    if i>=L: i=0\n",
    "    if i<0: i=L-1\n",
    "    j+=direct[k][1]\n",
    "    if j>=L: j=0\n",
    "    if j<0: j=L-1\n",
    "    rate(100) "
   ]
  },
  {
   "cell_type": "code",
   "execution_count": null,
   "metadata": {},
   "outputs": [
    {
     "data": {
      "application/javascript": [
       "require.undef(\"nbextensions/vpython_libraries/glow.min\");"
      ],
      "text/plain": [
       "<IPython.core.display.Javascript object>"
      ]
     },
     "metadata": {},
     "output_type": "display_data"
    },
    {
     "data": {
      "application/javascript": [
       "require.undef(\"nbextensions/vpython_libraries/glowcomm\");"
      ],
      "text/plain": [
       "<IPython.core.display.Javascript object>"
      ]
     },
     "metadata": {},
     "output_type": "display_data"
    },
    {
     "data": {
      "application/javascript": [
       "require.undef(\"nbextensions/vpython_libraries/jquery-ui.custom.min\");"
      ],
      "text/plain": [
       "<IPython.core.display.Javascript object>"
      ]
     },
     "metadata": {},
     "output_type": "display_data"
    },
    {
     "data": {
      "application/javascript": [
       "require([\"nbextensions/vpython_libraries/glow.min\"], function(){console.log(\"GLOW LOADED\");})"
      ],
      "text/plain": [
       "<IPython.core.display.Javascript object>"
      ]
     },
     "metadata": {},
     "output_type": "display_data"
    },
    {
     "data": {
      "application/javascript": [
       "require([\"nbextensions/vpython_libraries/glowcomm\"], function(){console.log(\"GLOWCOMM LOADED\");})"
      ],
      "text/plain": [
       "<IPython.core.display.Javascript object>"
      ]
     },
     "metadata": {},
     "output_type": "display_data"
    },
    {
     "data": {
      "application/javascript": [
       "require([\"nbextensions/vpython_libraries/jquery-ui.custom.min\"], function(){console.log(\"JQUERY LOADED\");})"
      ],
      "text/plain": [
       "<IPython.core.display.Javascript object>"
      ]
     },
     "metadata": {},
     "output_type": "display_data"
    },
    {
     "data": {
      "text/html": [
       "<div id=\"glowscript\" class=\"glowscript\"></div>"
      ],
      "text/plain": [
       "<IPython.core.display.HTML object>"
      ]
     },
     "metadata": {},
     "output_type": "display_data"
    },
    {
     "data": {
      "application/javascript": [
       "window.__context = { glowscript_container: $(\"#glowscript\").removeAttr(\"id\")}"
      ],
      "text/plain": [
       "<IPython.core.display.Javascript object>"
      ]
     },
     "metadata": {},
     "output_type": "display_data"
    }
   ],
   "source": [
    "from vpython import *\n",
    "scene=canvas\n",
    "\n",
    "\n",
    "scene.width = scene.height = 600\n",
    "\n",
    "# Display text below the 3D graphics:\n",
    "scene.title = \"Stars interacting gravitationally\"\n",
    "\n",
    "scene.caption = \"\"\"Right button drag or Ctrl-drag to rotate \"camera\" to view scene.\n",
    "To zoom, drag with middle button or Alt/Option depressed, or use scroll wheel.\n",
    "  On a two-button mouse, middle is left + right.\n",
    "Touch screen: pinch/extend to zoom, swipe or two-finger rotate.\"\"\"\n",
    "\n",
    "Nstars = 20  # change this to have more or fewer stars\n",
    "\n",
    "G = 6.7e-11 # Universal gravitational constant\n",
    "\n",
    "# Typical values\n",
    "Msun = 2E30\n",
    "Rsun = 2E9\n",
    "L = 4e10\n",
    "vsun = 0.8*sqrt(G*Msun/Rsun)\n",
    "\n",
    "scene.range = 2*L\n",
    "scene.forward = vec(-1,-1,-1)\n",
    "\n",
    "xaxis = curve(color=color.gray(0.5), radius=3e8)\n",
    "xaxis.append(vec(0,0,0))\n",
    "xaxis.append(vec(L,0,0))\n",
    "yaxis = curve(color=color.gray(0.5), radius=3e8)\n",
    "yaxis.append(vec(0,0,0))\n",
    "yaxis.append(vec(0,L,0))\n",
    "zaxis = curve(color=color.gray(0.5), radius=3e8)\n",
    "zaxis.append(vec(0,0,0))\n",
    "zaxis.append(vec(0,0,L))\n",
    "\n",
    "Stars = []\n",
    "star_colors = [color.red, color.green, color.blue,\n",
    "              color.yellow, color.cyan, color.magenta]\n",
    "\n",
    "psum = vec(0,0,0)\n",
    "for i in range(Nstars):\n",
    "    star = sphere(pos=L*vec.random(), make_trail=True, retain=150, trail_radius=3e8)\n",
    "    R = Rsun/2+Rsun*random()\n",
    "    star.radius = R\n",
    "    star.mass = Msun*(R/Rsun)**3\n",
    "    star.momentum = vec.random()*vsun*star.mass\n",
    "    star.color = star.trail_color = star_colors[i % 6]\n",
    "    Stars.append( star )\n",
    "    psum = psum + star.momentum\n",
    "\n",
    "#make total initial momentum equal zero\n",
    "for i in range(Nstars):\n",
    "    Stars[i].momentum = Stars[i].momentum - psum/Nstars\n",
    "\n",
    "dt = 1000\n",
    "hitlist = []\n",
    "\n",
    "def computeForces():\n",
    "    global hitlist, Stars\n",
    "    hitlist = []\n",
    "    N = len(Stars)\n",
    "    for i in range(N):\n",
    "        si = Stars[i]\n",
    "        if si is None: continue\n",
    "        F = vec(0,0,0)\n",
    "        pos1 = si.pos\n",
    "        m1 = si.mass\n",
    "        radius = si.radius\n",
    "        for j in range(N):\n",
    "            if i == j: continue\n",
    "            sj = Stars[j]\n",
    "            if sj is None: continue\n",
    "            r = sj.pos - pos1\n",
    "            rmag2 = mag2(r)\n",
    "            if rmag2 <= (radius+sj.radius)**2: hitlist.append([i,j])\n",
    "            F = F + (G*m1*sj.mass/(rmag2**1.5))*r\n",
    "        si.momentum = si.momentum + F*dt\n",
    "\n",
    "while True:\n",
    "    rate(100)\n",
    "    \n",
    "    # Compute all forces on all stars\n",
    "    computeForces()\n",
    "\n",
    "    # Having updated all momenta, now update all positions\n",
    "    for star in Stars:\n",
    "        if star is None: continue\n",
    "        star.pos = star.pos + star.momentum*(dt/star.mass)\n",
    "\n",
    "    # If any collisions took place, merge those stars\n",
    "    hit = len(hitlist)-1\n",
    "    while hit > 0:\n",
    "        s1 = Stars[hitlist[hit][0]]\n",
    "        s2 = Stars[hitlist[hit][1]]\n",
    "        if (s1 is None) or (s2 is None): continue\n",
    "    \n",
    "        mass = s1.mass + s2.mass\n",
    "        momentum = s1.momentum + s2.momentum\n",
    "        pos = (s1.mass*s1.pos + s2.mass*s2.pos) / mass\n",
    "        s1.color = s1.trail_color = (s1.mass*s1.color + s2.mass*s2.color) / mass\n",
    "        R = Rsun*(mass / Msun)**(1/3)\n",
    "        \n",
    "        s1.clear_trail()\n",
    "        s2.clear_trail()\n",
    "        s2.visible = False\n",
    "        \n",
    "        s1.mass = mass\n",
    "        s1.momentum = momentum\n",
    "        s1.pos = pos\n",
    "        s1.radius = R\n",
    "        Stars[hitlist[hit][1]] = None\n",
    "        hit -= 1\n"
   ]
  },
  {
   "cell_type": "markdown",
   "metadata": {},
   "source": [
    "**povexport-2015-09-04.zip** \n",
    "A module by Ruth Chabay to export a VPython scene to POV-Ray, which can create a high-resolution ray-traced image as a \n",
    "targa file, which can then be further manipulated in image-processing applications such as Photoshop. Markus Gritsch, \n",
    "Bruce Sherwood, Scott David Daniels, Guy Kloss, and John Denker also contributed."
   ]
  },
  {
   "cell_type": "code",
   "execution_count": null,
   "metadata": {},
   "outputs": [],
   "source": []
  }
 ],
 "metadata": {
  "kernelspec": {
   "display_name": "Python 3 (ipykernel)",
   "language": "python",
   "name": "python3"
  },
  "language_info": {
   "codemirror_mode": {
    "name": "ipython",
    "version": 3
   },
   "file_extension": ".py",
   "mimetype": "text/x-python",
   "name": "python",
   "nbconvert_exporter": "python",
   "pygments_lexer": "ipython3",
   "version": "3.10.6"
  }
 },
 "nbformat": 4,
 "nbformat_minor": 2
}
