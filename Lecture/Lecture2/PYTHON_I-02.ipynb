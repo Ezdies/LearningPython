{
 "cells": [
  {
   "cell_type": "markdown",
   "metadata": {},
   "source": [
    "![title](Data/PYTHONI/PY-1.gif)\n",
    "\n",
    "\n",
    "* <a href=\"#et1\">1. None</a>\n",
    "* <a href=\"#et2\">2. Liczby</a>\n",
    "* <a href=\"#et3\">3. Sekwencje</a>\n",
    "* <a href=\"#et4\">3.1. Łańcuchy</a>\n",
    "* <a href=\"#et5\">3.2. Listy</a>\n",
    "* <a href=\"#et6\">3.3. Krotki</a>\n",
    "* <a href=\"#et7\">4. Słowniki</a>\n",
    "* <a href=\"#et8\">5. Zbiory set i frozenset</a>\n",
    "* <a href=\"#et9\">6. Inne typy niestandardowe</a>\n",
    "\n",
    "## Typy PYTHONA\n",
    "### <a name=\"et1\"></a> 1. None"
   ]
  },
  {
   "cell_type": "code",
   "execution_count": 1,
   "metadata": {},
   "outputs": [
    {
     "name": "stdout",
     "output_type": "stream",
     "text": [
      "True\n",
      "(<class 'TypeError'>, TypeError(\"unsupported operand type(s) for +: 'int' and 'NoneType'\",), <traceback object at 0x07891878>)\n",
      "[1, 2, 3, None]\n",
      "True\n"
     ]
    }
   ],
   "source": [
    "\"\"\"Przykład PY-I-01. None\"\"\"\n",
    "import sys\n",
    "a={'1':[0,'b'], 5:'napis', 2-3j:(2,3)}\n",
    "x=a.get(7)\n",
    "print(x is None)\n",
    "try:\n",
    "    print(2+x)\n",
    "except:\n",
    "    print(sys.exc_info())\n",
    "\n",
    "b=[1,2,3,None]\n",
    "print(b)\n",
    "print(b[3] is None)"
   ]
  },
  {
   "cell_type": "markdown",
   "metadata": {},
   "source": [
    "### <a name=\"et2\"></a> 2. Liczby\n",
    "\n",
    "#### Priorytety operacji\n",
    "\n",
    "| Operator | Opis                           |\n",
    "|----------|--------------------------------|\n",
    "| lambda   | Wyrażenie lambda               |\n",
    "| or\t   | Logiczne OR (lub)              |\n",
    "| and      | Logiczne AND (i)               |\n",
    "| not x\t   | Logiczne NOT (nie)             |\n",
    "|in,not in | Testy przynależności           |\n",
    "|is,is not | Testy tożsamości               |\n",
    "|<,<=,>,>=,|                                |\n",
    "|!=, ==\t   | Porównania                     |\n",
    "|  \\\\\t   | Bitowe OR (lub)                |\n",
    "| ^\t       | Bitowe XOR (różnica symetr.)   |\n",
    "| &\t       | Bitowe AND (i)                 |\n",
    "| <<, >>   | Przesunięcia bitowe            |\n",
    "| +, -\t   | Dodawanie i odejmowanie        |\n",
    "| \\*,/,%   |Mnożenie,dzielenie,reszta z dz. |\n",
    "| +x, -x   |   Identyczność, negacja        |\n",
    "| ~x\t   | Bitowe NOT (nie)               |\n",
    "|  **\t   | Potęgowanie                    |\n",
    "|x.atrybut | Odwołanie do atrybutu          |\n",
    "| x\\[ind\\] | Odwołanie do indeksu           |\n",
    "|x\\[i1:i2\\]| Wykrojenie                     |\n",
    "|f(arg...) | Wywołanie funkcji              |\n",
    "|(wyr...)  |Powiązanie lub druk.forma krotki|\n",
    "|\\[wyr...\\]|Drukowalna forma listy          |\n",
    "|{k:d...}  |Drukowalna forma słownika       |\n",
    "|'wyr...'  |  Konwersja napisowa            |\n",
    "|----------|--------------------------------|\n",
    "|          |                                |\n",
    "\n",
    "#### Operacje na liczbach\n",
    "![image.png](Data/PYTHONI/PY-4.png)"
   ]
  },
  {
   "cell_type": "code",
   "execution_count": 2,
   "metadata": {},
   "outputs": [
    {
     "name": "stdout",
     "output_type": "stream",
     "text": [
      "14 -2 276 0.25\n",
      "(3, 2)\n",
      "5\n",
      "243\n",
      "5\n",
      "(3-0.025j)\n"
     ]
    }
   ],
   "source": [
    "\"\"\"Przykład PY-I-02. Przykładowe operacje na liczbach\"\"\"\n",
    "a,b,c,d=12,0,138,0.5\n",
    "a+=2\n",
    "b-=2\n",
    "c*=2\n",
    "d/=2\n",
    "print(a,b,c,d)\n",
    "print(divmod(17,5))\n",
    "print(pow(3,5,7))\n",
    "print(pow(3,5))\n",
    "print(243 % 7)\n",
    "print((3.0+2.5e-2j).conjugate())\n",
    "del a; del b; del c; del d"
   ]
  },
  {
   "cell_type": "markdown",
   "metadata": {},
   "source": [
    "#### Zasięg liczb"
   ]
  },
  {
   "cell_type": "code",
   "execution_count": 3,
   "metadata": {},
   "outputs": [
    {
     "name": "stdout",
     "output_type": "stream",
     "text": [
      "a -  784921595607432810\n",
      "b -  -30041375701338208120000428480567052707602410500942302394907781358416655040122100036869675052199206275512142594921728258468641944213615660108732570904379747955458547200592\n",
      "c -  inf\n",
      "d -  7.847634547858e+46\n",
      "-inf\n",
      "-0.0\n"
     ]
    }
   ],
   "source": [
    "\"\"\"Przykład PY-I-03. Zasięg liczb\"\"\"\n",
    "print(\"a - \",2000403030 * 392381727)\n",
    "print(\"b - \",204589728457238758723520623520376450276405762095609267574027645027360347560236459273604576230645023209578029730240 \\\n",
    "      * 39238172397602345235423542354235423523-87454232436345634563467832376450237605726307560276502673405723037646385670928 \\\n",
    "      * 343509683458763405760833479562323764985762398347857037853094570735786340857407287852737273929)\n",
    "print(\"c - \",2e302 * 3923817273929)\n",
    "print(\"d - \", 2e34 * 3923817273929)\n",
    "a=2e304 * 3923817273929\n",
    "b=-a\n",
    "print(b)                               \n",
    "c=1/b\n",
    "print(c)   "
   ]
  },
  {
   "cell_type": "markdown",
   "metadata": {},
   "source": [
    "#### Operacje na bitach\n",
    "\n",
    "\n",
    "* x|y - Bitowa alternatywa                                              \n",
    "* x^y - Bitowa różnica symetryczna                                      \n",
    "* x&y - Bitowa koniunkcja                                                                \n",
    "* x>>n - Przesunięcie x o n bitów w prawo (podzielenie całkowite przez $2^n$)               \n",
    "* x<<n - Przesunięcie x o n bitów w lewo (pomnożenie przez $2^n$)                           \n",
    "* ~x -  Uzupełnienie bitowe x                                                            \n",
    "\n",
    "\n",
    "**x^y** to nie jest $x^y$ (używaj albo x\\**y albo pow(x,y))\n"
   ]
  },
  {
   "cell_type": "code",
   "execution_count": 4,
   "metadata": {},
   "outputs": [
    {
     "name": "stdout",
     "output_type": "stream",
     "text": [
      "126\n",
      "1\n",
      "15\n",
      "15.875\n"
     ]
    }
   ],
   "source": [
    "\"\"\"Przykład PY-I-04. Operacje na bitach.\"\"\"\n",
    "b=1\n",
    "a=64+32+16+8+4+2+1\n",
    "print(a^b)\n",
    "print(a&b)\n",
    "print(a>>3)\n",
    "print(a/pow(2,3))   "
   ]
  },
  {
   "cell_type": "markdown",
   "metadata": {},
   "source": [
    "#### Liczby zespolone"
   ]
  },
  {
   "cell_type": "code",
   "execution_count": 5,
   "metadata": {},
   "outputs": [
    {
     "name": "stdout",
     "output_type": "stream",
     "text": [
      "(-1+0j)\n",
      "(-1+0j)\n",
      "(3+3j)\n",
      "(9+3j)\n",
      "(1.5+0.5j)\n",
      "1.5\n",
      "0.5\n",
      "(<class 'TypeError'>, TypeError(\"can't convert complex to float\",), <traceback object at 0x075D52D8>)\n",
      "1.5811388300841898\n"
     ]
    }
   ],
   "source": [
    "\"\"\"Przykład PY-I-05. Liczby zespolone\"\"\"\n",
    "import sys\n",
    "print(1j * 1J)\n",
    "print(1j * complex(0,1))\n",
    "print(3+1j*3)\n",
    "print((3+1j)*3)\n",
    "print((1+2j)/(1+1J))           \n",
    "a=1.5+0.5j\n",
    "print(a.real)\n",
    "print(a.imag)\n",
    "a=1.5+0.5j\n",
    "try:\n",
    "    print(float(a))\n",
    "except:\n",
    "    print(sys.exc_info())\n",
    "print(abs(a))   "
   ]
  },
  {
   "cell_type": "markdown",
   "metadata": {},
   "source": [
    "#### Zmienne i stałe logiczne (boolean) "
   ]
  },
  {
   "cell_type": "code",
   "execution_count": 6,
   "metadata": {},
   "outputs": [
    {
     "name": "stdout",
     "output_type": "stream",
     "text": [
      "False\n",
      "(<class 'SyntaxError'>, SyntaxError('invalid syntax', ('<string>', 1, 2, '2=2')), <traceback object at 0x078B39B8>)\n",
      "False\n",
      "True\n",
      "False\n",
      "(<class 'SyntaxError'>, SyntaxError('invalid syntax', ('<string>', 1, 3, '2><4')), <traceback object at 0x078B3990>)\n",
      "True\n",
      "True\n",
      "False\n",
      "True\n",
      "False\n",
      "True\n",
      "False\n",
      "True\n",
      "True\n",
      "False\n",
      "True\n",
      "False\n",
      "False\n",
      "True\n",
      "True\n",
      "False\n",
      "True\n",
      "False\n",
      "True\n",
      "True\n",
      "True\n"
     ]
    }
   ],
   "source": [
    "\"\"\"Przykład PY-I-06. Operacje boolowskie\"\"\"\n",
    "import sys\n",
    "print(2==4)\n",
    "try:\n",
    "    print(eval(\"2=2\"))\n",
    "except:\n",
    "    print(sys.exc_info())\n",
    "try:\n",
    "    print(a==2)\n",
    "except:\n",
    "    print(sys.exc_info())\n",
    "a=2\n",
    "print(a==2)                           \n",
    "print(2!=2)                           \n",
    "try:\n",
    "    print(eval(\"2><4\"))\n",
    "except:\n",
    "    print(sys.exc_info())\n",
    "print(2<=4)                           \n",
    "print('Ala'!='Ola')                   \n",
    "print('Ala'>='Ola')                   \n",
    "print('A'<'Aa')                       \n",
    "print(\"123\">\"14\")                     \n",
    "print(22.0/7>3.14)                    \n",
    "print((1+2+3+4)*0xA==100+6*6)        \n",
    "print('Ala'*2=='Ala'+'Ala')\n",
    "print(1<=3<7)\n",
    "print(1>=1>2)\n",
    "print(2==2>1.1>-1>-10000)\n",
    "print((1==2)==(2<3))\n",
    "print(not 1==1)\n",
    "print(1==2 or 1==3 or 1==1)\n",
    "print('Abc'=='Def' or 7>100 or 1==1)  \n",
    "print(1==1 and 2==3 and 3==3)         \n",
    "print(False and False or True)        \n",
    "print(False and (False or True))      \n",
    "# print(False<12.3<{'1':1}<[1,2,3]<\"Ala\"<(1,2))               \n",
    "print(False<12.3)\n",
    "print([]<[1,2]<[1,4])           # Jak on to porównuje???\n",
    "print(('a')<('b'))"
   ]
  },
  {
   "cell_type": "markdown",
   "metadata": {},
   "source": [
    "### <a name=\"et3\"></a> 3. Sekwencje\n",
    "#### Sekwencje mutowalne i niemutowalne"
   ]
  },
  {
   "cell_type": "code",
   "execution_count": 7,
   "metadata": {},
   "outputs": [
    {
     "name": "stdout",
     "output_type": "stream",
     "text": [
      "[1, 2, 3]\n",
      "[1, 2, 'd']\n",
      "(1, 2, 3)\n",
      "(<class 'TypeError'>, TypeError(\"'tuple' object does not support item assignment\",), <traceback object at 0x07642EE0>)\n",
      "abcd\n",
      "(<class 'TypeError'>, TypeError(\"'str' object does not support item assignment\",), <traceback object at 0x07642EE0>)\n"
     ]
    }
   ],
   "source": [
    "\"\"\"Przykład PY-I-07. Sekwencje mutowalne i niemutowalne.\"\"\"\n",
    "import sys\n",
    "a=[1,2,3]\n",
    "print(a)\n",
    "a[2]='d'\n",
    "print(a)                   \n",
    "a=(1,2,3)\n",
    "print(a)\n",
    "try:\n",
    "    a[2]='d'\n",
    "except:\n",
    "    print(sys.exc_info())\n",
    "a=\"abcd\"\n",
    "print(a)\n",
    "try:\n",
    "    a[2]='e'\n",
    "except:\n",
    "    print(sys.exc_info())"
   ]
  },
  {
   "cell_type": "markdown",
   "metadata": {},
   "source": [
    "#### <a name=\"et4\"></a> 3.1 Łańcuchy (string)\n",
    "\n",
    "#### \"Slicing\" sekwencji\n",
    "\n",
    "| P | Y | T | H | O | N | _ |\n",
    "|---|---|---|---|---|---|---|\n",
    "| 0 | 1 | 2 | 3 | 4 | 5 | 6 |\n",
    "|-6 |-5 | -4|-3 |-2 |-1 | _ | \n"
   ]
  },
  {
   "cell_type": "code",
   "execution_count": 8,
   "metadata": {},
   "outputs": [
    {
     "name": "stdout",
     "output_type": "stream",
     "text": [
      "3\n",
      "string to napis\n",
      "15\n",
      "300\n",
      "string to napisstring to napis\n",
      "c\n",
      "b\n",
      "s\n",
      "stri\n",
      "g to\n",
      "gt \n",
      "string\n",
      "igt \n",
      "[1, 2, 3, 4, 5]\n",
      "('a', 'b', 'c', 'd', 'e')\n",
      "[1, 3]\n",
      "('a', 'c')\n"
     ]
    }
   ],
   "source": [
    "\"\"\"Przykład PY-I-08. Przykłady operowania na wszystkich sekwencjach (string).\"\"\"\n",
    "print(len(\"abc\"))\n",
    "txt=\"string to napis\"\n",
    "print(txt)\n",
    "print(len(txt))\n",
    "print(len(txt*20))\n",
    "print(txt*2)                          \n",
    "print(\"abc\"[-1])\n",
    "print(\"abc\"[-2])\n",
    "print(txt[0])\n",
    "print(txt[:4])\n",
    "print(txt[5:9])\n",
    "print(txt[5:10:2])\n",
    "print(txt[:-9])\n",
    "print(txt[-12:-5:2])\n",
    "a=[1,2,3,4,5]\n",
    "b=('a','b','c','d','e')\n",
    "print(a)\n",
    "print(b)\n",
    "print(a[-5:-1:2])\n",
    "print(b[0:-2:2])"
   ]
  },
  {
   "cell_type": "markdown",
   "metadata": {},
   "source": [
    "#### Łańcuchy (string)\n",
    "\n",
    "* \\\\\\\tOdwrócony ukośnik (\\)\t \n",
    "* \\'\tApostrof (')\t \n",
    "* \\\"\tCudzysłów (\")\t \n",
    "* \\a\tASCII Brzęczyk (BEL)\t \n",
    "* \\b\tASCII Backspace (BS)\t \n",
    "* \\f\tASCII Formfeed (FF)\t \n",
    "* \\n\tASCII Przesunięcie wiersza (LF)\t \n",
    "* \\N{nazwa}\tZnak o nazwie nazwa w bazie danych Unicode (tylko napisy Unicode)\t \n",
    "* \\r\tASCII Powrót kursora (CR)\t \n",
    "* \\t\tASCII Tabulacja pozioma (TAB)\t \n",
    "* \\uxxxx\tZnak o wartości 16-bitowej xxxx zapisanej szesnastkowo (tylko Unicode)\t\n",
    "* \\Uxxxxxxxx\tZnak o wartości 32-bitowej xxxxxxxx zapisanej szesnastkowo (tylko Unicode)\t\n",
    "* \\v\tPionowa tabulacja (VT) w zestawie ASCII\t \n",
    "* \\ooo\tZnak ASCII o kodzie ooo zapisanym ósemkowo\t\n",
    "* \\xhh\tZnak ASCII o kodzie hh zapisanym szesnastkowo\t\n",
    " "
   ]
  },
  {
   "cell_type": "code",
   "execution_count": 9,
   "metadata": {},
   "outputs": [
    {
     "name": "stdout",
     "output_type": "stream",
     "text": [
      "napis\n",
      "inny napis\n",
      "napis z \"apostrofem\" ten\n",
      " Napis w wielu\n",
      "linijkach\n",
      "z 'apostrofem' \n",
      " Ten napis te\\xbf jest wielolinijkowy\n",
      "i ma dwie linijki\n",
      " Ten napis te¿ jest wielolinijkowy\n",
      "i ma dwie linijki\n"
     ]
    }
   ],
   "source": [
    "\"\"\"Przykład PY09. Napisy.\"\"\"\n",
    "print(\"napis\")\n",
    "a='inny napis'\n",
    "print(a)\n",
    "a='napis z \"apostrofem\" ten'\n",
    "print(a)                                          \n",
    "a=\"\"\" Napis w wielu\n",
    "linijkach\n",
    "z 'apostrofem' \"\"\"\n",
    "print(a)\n",
    "a=r\"\"\" Ten napis te\\xbf jest wielolinijkowy\n",
    "i ma dwie linijki\"\"\"\n",
    "print(a)\n",
    "a=\"\"\" Ten napis te\\xbf jest wielolinijkowy\n",
    "i ma dwie linijki\"\"\"\n",
    "print(a)    "
   ]
  },
  {
   "cell_type": "code",
   "execution_count": 10,
   "metadata": {},
   "outputs": [
    {
     "name": "stdout",
     "output_type": "stream",
     "text": [
      "to jest NAPIS\n",
      "To jest napis\n",
      "         to jest NAPIS          \n",
      "                         to jest NAPIS                          \n",
      "*************************to jest NAPIS**************************\n",
      "2\n",
      "10\n",
      "8\n",
      "-1\n",
      "False\n",
      "True\n",
      "False\n",
      "ala ma kota\n",
      "ala,ma,kota\n",
      "***to jest NAPIS***to jest NAPIS***to jest NAPIS***to jest NAPIS***\n",
      "to jest napis\n",
      "to jest tekst\n",
      "to---jest---NAPIS\n",
      "8\n",
      "10\n",
      "-1\n",
      "                   to jest NAPIS\n",
      "                                                   to jest NAPIS\n",
      "...................................................to jest NAPIS\n",
      "['to', 'jest', 'NAPIS']\n",
      "                                                          To\n",
      "                                                        Jest\n",
      "                                                       Napis\n",
      "['032', '345', '231']\n",
      "['to jest NAPIS', 'to jest NAPIS', 'to jest NAPIS', 'to jest NAPIS', 'to jest NAPIS', 'to jest NAPIS', 'to jest NAPIS', 'to jest NAPIS', 'to jest NAPIS', 'to jest NAPIS']\n",
      "TO JEST napis\n",
      "To Jest Napis\n"
     ]
    }
   ],
   "source": [
    "\"\"\"\"Przykład PY10. Metody łańcuchów.\"\"\"\n",
    "s=\"to jest NAPIS\"\n",
    "print(s)\n",
    "print(s.capitalize())\n",
    "print(s.center(32))\n",
    "print(s.center(64))\n",
    "print(s.center(64,'*'))\n",
    "print(s.count('t'))\n",
    "print((s*10).count(s))\n",
    "print(s.find('NAPIS'))\n",
    "print(s.find('napis'))\n",
    "print(s.isdigit())\n",
    "print('18'.isdigit())\n",
    "print('18.2'.isdigit())\n",
    "print(' '.join(['ala','ma','kota']))\n",
    "print(','.join(['ala','ma','kota']))\n",
    "print(s.join(['***']*5))\n",
    "print(s.lower())\n",
    "print(s.replace('NAPIS','tekst'))\n",
    "print(s.replace(' ','---'))\n",
    "print(s.rfind('NAPIS'))\n",
    "print('ala ma kota'.rfind('a'))\n",
    "print(s.rfind('napis'))\n",
    "print(s.rjust(32))\n",
    "print(s.rjust(64))\n",
    "print(s.rjust(64,'.'))\n",
    "print(s.split())\n",
    "for wyraz in s.split():\n",
    "  print(wyraz.capitalize().rjust(60))\n",
    "print('032-345-231'.split('-'))\n",
    "print(((s+'\\n')*10).splitlines())\n",
    "print(s.swapcase())\n",
    "print(s.title( ))"
   ]
  },
  {
   "cell_type": "code",
   "execution_count": 11,
   "metadata": {},
   "outputs": [
    {
     "name": "stdout",
     "output_type": "stream",
     "text": [
      "ajhc\\xf12\\xf33\\xdd\n",
      "ajhcñ2ó3Ý\n",
      "x61 x6a x68 x63 xf1 x32 xf3 x33 xdd\n",
      "\\u0428\\N{GREEK SMALL LETTER ALPHA} as \\u0143\\U0000011f\n",
      "Шα as Ńğ\n",
      "U+101000 U+110001 U+100000 U+100001 U+110011 U+100000 U+000011 U+011111\n"
     ]
    }
   ],
   "source": [
    "\"\"\"Przykład PY11. Łańcuchy UNICODE.\"\"\"\n",
    "def xf(a):\n",
    "    k,b=len(a),\"\"\n",
    "    for i in range (0,k):\n",
    "        b+=\"x%x \" % ord(a[i])\n",
    "    return b.rstrip()\n",
    "def uf(a):\n",
    "    k,b=len(a),\"\"\n",
    "    for i in range(0,k):\n",
    "        l,d=ord(a[i]),\"\"\n",
    "        for j in range(0,6):\n",
    "            l,m=divmod(l,2)\n",
    "            d=str(m)+d\n",
    "            b+=\"U+\"+d+\" \"\n",
    "    return b.rstrip()\n",
    "a=\"ajhc\\xf12\\xf33\\xdd\"\n",
    "print(r\"ajhc\\xf12\\xf33\\xdd\")\n",
    "print(a)\n",
    "print(xf(a))\n",
    "a=u\"\\u0428\\N{GREEK SMALL LETTER ALPHA} as \\u0143\\U0000011f\"\n",
    "print(r\"\\u0428\\N{GREEK SMALL LETTER ALPHA} as \\u0143\\U0000011f\")\n",
    "print(a)\n",
    "print(uf(a))"
   ]
  },
  {
   "cell_type": "code",
   "execution_count": 12,
   "metadata": {},
   "outputs": [
    {
     "name": "stdout",
     "output_type": "stream",
     "text": [
      " !\"#$%&'()*+,-./0123456789:;<=>?@ABCDEFGHIJKLMNOPQRSTUVWXYZ[\\]^_`abcd\n",
      "efghijklmnopqrstuvwxyz{|}~",
      " ¡¢£¤¥¦§¨©ª«¬­®¯°±²³´µ¶·¸¹º»¼½¾¿ÀÁÂÃÄÅÆÇÈ\n",
      "ÉÊËÌÍÎÏÐÑÒÓÔÕÖ×ØÙÚÛÜÝÞßàáâãäåæçèéêëìíîïðñòóôõö÷øùúûüýþÿĀāĂăĄąĆćĈĉĊċČčĎďĐđĒēĔĕĖėĘęĚěĜĝĞğĠġĢģĤĥĦħĨĩĪīĬ\n",
      "ĭĮįİıĲĳĴĵĶķĸĹĺĻļĽľĿŀŁłŃńŅņŇňŉŊŋŌōŎŏŐőŒœŔŕŖŗŘřŚśŜŝŞşŠšŢţŤťŦŧŨũŪūŬŭŮůŰűŲųŴŵŶŷŸŹźŻżŽžſƀƁƂƃƄƅƆƇƈƉƊƋƌƍƎƏƐ\n",
      "ƑƒƓƔƕƖƗƘƙƚƛƜƝƞƟƠơƢƣƤƥƦƧƨƩƪƫƬƭƮƯưƱƲƳƴƵƶƷƸƹƺƻƼƽƾƿǀǁǂǃǄǅǆǇǈǉǊǋǌǍǎǏǐǑǒǓǔǕǖǗǘǙǚǛǜǝǞǟǠǡǢǣǤǥǦǧǨǩǪǫǬǭǮǯǰǱǲǳǴ\n",
      "ǵǶǷǸǹǺǻǼǽǾǿȀȁȂȃȄȅȆȇȈȉȊȋȌȍȎȏȐȑȒȓȔȕȖȗȘșȚțȜȝȞȟȠȡȢȣȤȥȦȧȨȩȪȫȬȭȮȯȰȱȲȳȴȵȶȷȸȹȺȻȼȽȾȿɀɁɂɃɄɅɆɇɈɉɊɋɌɍɎɏɐɑɒɓɔɕɖɗɘ\n",
      "əɚɛɜɝɞɟɠɡɢɣɤɥɦɧɨɩɪɫɬɭɮɯɰɱɲɳɴɵɶɷɸɹɺɻɼɽɾɿʀʁʂʃʄʅʆʇʈʉʊʋʌʍʎʏʐʑʒʓʔʕʖʗʘʙʚʛʜʝʞʟʠʡʢʣʤʥʦʧʨʩʪʫʬʭʮʯʰʱʲʳʴʵʶʷʸʹʺʻʼ\n",
      "ʽʾʿˀˁ˂˃˄˅ˆˇˈˉˊˋˌˍˎˏːˑ˒˓˔˕˖˗˘˙˚˛˜˝˞˟ˠˡˢˣˤ˥˦˧˨˩˪˫ˬ˭ˮ˯˰˱˲˳˴˵˶˷˸˹˺˻˼˽˾˿̛̖̗̘̙̜̝̞̟̠̀́̂̃̄̅̆̇̈̉̊̋̌̍̎̏̐̑̒̓̔̕̚\n",
      "̴̵̶̷̸̡̢̧̨̣̤̥̦̩̪̫̬̭̮̯̰̱̲̳̹̺̻̼͇͈͉͍͎̽̾̿̀́͂̓̈́͆͊͋͌ͅ͏͓͔͕͖͙͚͐͑͒͗͛ͣͤͥͦͧͨͩͪͫͬͭͮͯ͘͜͟͢͝͞͠͡ͰͱͲͳʹ͵Ͷͷ͸͹ͺͻͼͽ;Ϳ΀΁΂΃΄\n",
      "΅Ά·ΈΉΊ΋Ό΍ΎΏΐΑΒΓΔΕΖΗΘΙΚΛΜΝΞΟΠΡ΢ΣΤΥΦΧΨΩΪΫάέήίΰαβγδεζηθικλμνξοπρςστυφχψωϊϋόύώϏϐϑϒϓϔϕϖϗϘϙϚϛϜϝϞϟϠϡϢϣϤϥϦϧϨ\n",
      "ϩϪϫϬϭϮϯϰϱϲϳϴϵ϶ϷϸϹϺϻϼϽϾϿЀЁЂЃЄЅІЇЈЉЊЋЌЍЎЏАБВГДЕЖЗИЙКЛМНОПРСТУФХЦЧШЩЪЫЬЭЮЯабвгдежзийклмнопрстуфхцчшщъыь\n",
      "эюяѐёђѓєѕіїјљњћќѝўџѠѡѢѣѤѥѦѧѨѩѪѫѬѭѮѯѰѱѲѳѴѵѶѷѸѹѺѻѼѽѾѿҀҁ҂҃҄҅҆҇҈҉ҊҋҌҍҎҏҐґҒғҔҕҖҗҘҙҚқҜҝҞҟҠҡҢңҤҥҦҧҨҩҪҫҬҭҮүҰ\n",
      "ұҲҳҴҵҶҷҸҹҺһҼҽҾҿӀӁӂӃӄӅӆӇӈӉӊӋӌӍӎӏӐӑӒӓӔӕӖӗӘәӚӛӜӝӞӟӠӡӢӣӤӥӦӧӨөӪӫӬӭӮӯӰӱӲӳӴӵӶӷӸӹӺӻӼӽӾӿԀԁԂԃԄԅԆԇԈԉԊԋԌԍԎԏԐԑԒԓԔ\n",
      "ԕԖԗԘԙԚԛԜԝԞԟԠԡԢԣԤԥԦԧԨԩԪԫԬԭԮԯ԰ԱԲԳԴԵԶԷԸԹԺԻԼԽԾԿՀՁՂՃՄՅՆՇՈՉՊՋՌՍՎՏՐՑՒՓՔՕՖ՗՘ՙ՚՛՜՝՞՟ՠաբգդեզէըթժիլխծկհձղճմյնշո\n",
      "չպջռսվտրցւփքօֆևֈ։֊֋֌֍֎֏֐ְֱֲֳִֵֶַָֹֺֻּֽ֑֖֛֢֣֤֥֦֧֪֚֭֮֒֓֔֕֗֘֙֜֝֞֟֠֡֨֩֫֬֯־ֿ׀ׁׂ׃ׅׄ׆ׇ׈׉׊׋׌׍׎׏אבגדהוזחטיךכל\n",
      "םמןנסעףפץצקרשת׫׬׭׮ׯװױײ׳״׵׶׷׸׹׺׻׼׽׾׿؀؁؂؃؄؅؆؇؈؉؊؋،؍؎؏ؘؙؚؐؑؒؓؔؕؖؗ؛؜؝؞؟ؠءآأؤإئابةتثجحخدذرزسشصضطظعغػؼؽؾؿـ\n",
      "فقكلمنهوىيًٌٍَُِّْٕٖٜٟٓٔٗ٘ٙٚٛٝٞ٠١٢٣٤٥٦٧٨٩٪٫٬٭ٮٯٰٱٲٳٴٵٶٷٸٹٺٻټٽپٿڀځڂڃڄڅچڇڈډڊڋڌڍڎڏڐڑڒړڔڕږڗژڙښڛڜڝڞڟڠڡڢڣڤ\n",
      "ڥڦڧڨکڪګڬڭڮگڰڱڲڳڴڵڶڷڸڹںڻڼڽھڿۀہۂۃۄۅۆۇۈۉۊۋیۍێۏېۑےۓ۔ەۖۗۘۙۚۛۜ۝۞ۣ۟۠ۡۢۤۥۦۧۨ۩۪ۭ۫۬ۮۯ۰۱۲۳۴۵۶۷۸۹ۺۻۼ۽۾ۿ܀܁܂܃܄܅܆܇܈\n",
      "܉܊܋܌܍܎܏ܐܑܒܓܔܕܖܗܘܙܚܛܜܝܞܟܠܡܢܣܤܥܦܧܨܩܪܫܬܭܮܯܱܴܷܸܹܻܼܾ݂݄݆݈ܰܲܳܵܶܺܽܿ݀݁݃݅݇݉݊݋݌ݍݎݏݐݑݒݓݔݕݖݗݘݙݚݛݜݝݞݟݠݡݢݣݤݥݦݧݨݩݪݫݬ\n",
      "ݭݮݯݰݱݲݳݴݵݶݷݸݹݺݻݼݽݾݿހށނރބޅކއވމފދތލގޏސޑޒޓޔޕޖޗޘޙޚޛޜޝޞޟޠޡޢޣޤޥަާިީުޫެޭޮޯްޱ\n"
     ]
    }
   ],
   "source": [
    "\"\"\"Przykład PY12. Wydruk znaków UNICODE.\"\"\"\n",
    "a=\"\"\n",
    "for i in range(32,1970):\n",
    "  a=a+chr(i)\n",
    "  if i % 100 == 0:\n",
    "    a=a+\"\\n\"\n",
    "print(a)"
   ]
  },
  {
   "cell_type": "code",
   "execution_count": 13,
   "metadata": {},
   "outputs": [
    {
     "name": "stdout",
     "output_type": "stream",
     "text": [
      "\\xf1\\x32as\\x33\n",
      "ñ2as3\n",
      "\\\\xf1\\\\x32as\\\\x33’\\\\xf1\\\\x32as\\\\x33\n",
      "\\xf1\\x32as\\x33’\\xf1\\x32as\\x33\n",
      "\\\\\\xf1\\x32as\\\\x33\n",
      "\\ñ2as\\x33\n",
      "abc\\n\\xf12uu\n",
      "\\u0428\\N{GREEK SMALL LETTER BETA} as \\\\u0143\\U0000011f\n",
      "Шβ as \\u0143ğ\n",
      "\\u0428\\\\N{GREEK SMALL LETTER BETA} as \\\\\\u0143\\U0000011f\n",
      "Ш\\N{GREEK SMALL LETTER BETA} as \\Ńğ\n"
     ]
    }
   ],
   "source": [
    "\"\"\"Przykład PY13. Tryb surowy.\"\"\"\n",
    "a=\"\\xf1\\x32as\\x33\"\n",
    "print(r\"\\xf1\\x32as\\x33\")\n",
    "print(\"\\xf1\\x32as\\x33\")\n",
    "a=r'\\\\xf1\\\\x32as\\\\x33’\\\\xf1\\\\x32as\\\\x33'\n",
    "print(r'\\\\xf1\\\\x32as\\\\x33’\\\\xf1\\\\x32as\\\\x33')\n",
    "print('\\\\xf1\\\\x32as\\\\x33’\\\\xf1\\\\x32as\\\\x33')\n",
    "a=r\"\\\\\\xf1\\x32as\\\\x33\" \n",
    "print(r\"\\\\\\xf1\\x32as\\\\x33\")\n",
    "print(\"\\\\\\xf1\\x32as\\\\x33\")\n",
    "a=r\"abc\\n\\xf1\"\n",
    "b=\"\\x32uu\"\n",
    "c=a+b\n",
    "print(c)\n",
    "print(r\"\\u0428\\N{GREEK SMALL LETTER BETA} as \\\\u0143\\U0000011f\")\n",
    "print(u\"\\u0428\\N{GREEK SMALL LETTER BETA} as \\\\u0143\\U0000011f\")\n",
    "print(r\"\\u0428\\\\N{GREEK SMALL LETTER BETA} as \\\\\\u0143\\U0000011f\")\n",
    "print(u\"\\u0428\\\\N{GREEK SMALL LETTER BETA} as \\\\\\u0143\\U0000011f\")"
   ]
  },
  {
   "cell_type": "markdown",
   "metadata": {},
   "source": [
    "Znaki formatujące:\n",
    "\n",
    "* 'd'\tcałkowita ze znakiem \t \n",
    "* 'i'\tcalkowita ze znakiem\t \n",
    "* 'o'\tósemkowa ze znakiem \n",
    "* 'u'\ttak jak 'd'\n",
    "* 'x'\tszesnastkowa ze znakiem (małe litery) \n",
    "* 'X'\tszesnastkowa ze znakiem (duże litery) \n",
    "* 'e'\tformat zmiennoprzecinkowy wykładniczy (małe litery)\n",
    "* 'E'\tformat zmiennoprzecinkowy wykładniczy (duże litery)\n",
    "* 'f'\tformat zmiennoprzecinkowy dziesiętny (małe litery)\n",
    "* 'F'\tformat zmiennoprzecinkowy dziesiętny (małe litery)\n",
    "* 'g'\tformat zmiennoprzecinkowy dziesiętny lub wykładniczy - gdy wykładnik <-4 (małe litery)\n",
    "* 'G'\tformat zmiennoprzecinkowy dziesiętny lub wykładniczy - gdy wykładnik <-4 (duże litery)\n",
    "* 'c'\tpojedyczny znak (może być liczba całkowita) \t \n",
    "* 'r'\tłańcuch (konwertowany przez repr())\t\n",
    "* 's'\tłańcuch (konwertowany przez str()) \n",
    "* 'a'\tłańcuch (konwertowany przez funkcję ascii()).\t\n",
    "* '%'\tNic nie jest konwertowane, znak '%' "
   ]
  },
  {
   "cell_type": "code",
   "execution_count": 14,
   "metadata": {},
   "outputs": [
    {
     "name": "stdout",
     "output_type": "stream",
     "text": [
      "liczba l do 12\n",
      "  123 12.553210\n",
      "123     1.255321E+01\n",
      "1.23 17   \n",
      "wita tut\n",
      "12.553\n",
      "k = 123\n"
     ]
    }
   ],
   "source": [
    "\"\"\"Przykład PY14. Formatowanie łańcuchów.\"\"\"\n",
    "k=123\n",
    "l=12.55321\n",
    "c=\"witajcie\"\n",
    "d={'u':17, 'v':1.2345, 'z':'tutaj'}\n",
    "print('liczba l do %d' % l)\n",
    "print('%5d %f' % (k,l))\n",
    "print('%-07d %E' % (k,l))\n",
    "print('%(v)0.3g %(u)-5d' % d)\n",
    "print('%0.4s %2.3s' % (c,d['z']))\n",
    "print('%*.*f' % (5,3,l))\n",
    "print('k = %d' % k)"
   ]
  },
  {
   "cell_type": "code",
   "execution_count": 15,
   "metadata": {},
   "outputs": [
    {
     "name": "stdout",
     "output_type": "stream",
     "text": [
      "Drogi Panie Kowalski, \n",
      "\n",
      "     Proszę wysłać mi blender lub zapłacić 200.00 zł. \n",
      "\n",
      "                        Łączę wyrazy szacunku i poważania\n",
      "                        Andrzej Krajka\n",
      "\n",
      "\n",
      "Drogi Panie Kowalski, \n",
      "\n",
      "     Proszę wysłać mi blender lub zapłacić  50.00 zł. \n",
      "\n",
      "                       Łączę wyrazy szacunku i poważania \n",
      "                       Andrzej Krajka\n"
     ]
    }
   ],
   "source": [
    "\"\"\"Przykład PY15. Szablony tekstów.\"\"\"\n",
    "a=u\"\"\"Drogi Panie %(nazwisko)s, \n",
    "\n",
    "     Prosz\\u0119 wys\\u0142a\\u0107 mi %(przedmiot)s lub zap\\u0142aci\\u0107 %(kwota)3.2f z\\u0142. \n",
    "\n",
    "                        \\u0141\\u0105cz\\u0119 wyrazy szacunku i powa\\u017cania\n",
    "                        Andrzej Krajka\n",
    "\n",
    "\"\"\" \n",
    "print(a % {'nazwisko': 'Kowalski', 'przedmiot':'blender', 'kwota':200.00})\n",
    "\n",
    "import string  \n",
    "a = string.Template(u\"\"\"Drogi Panie $nazwisko, \n",
    "\n",
    "     Prosz\\u0119 wys\\u0142a\\u0107 mi $przedmiot lub zap\\u0142aci\\u0107  $kwota z\\u0142. \n",
    "\n",
    "                       \\u0141\\u0105cz\\u0119 wyrazy szacunku i powa\\u017cania \n",
    "                       Andrzej Krajka\"\"\")\n",
    "print(a.substitute({'nazwisko': 'Kowalski', 'przedmiot': 'blender', \\\n",
    "                    'kwota': \"%0.2f\" % 50.0}))"
   ]
  },
  {
   "cell_type": "markdown",
   "metadata": {},
   "source": [
    "#### <a name=\"et5\"></a> 3.2 Listy"
   ]
  },
  {
   "cell_type": "code",
   "execution_count": 16,
   "metadata": {},
   "outputs": [
    {
     "name": "stdout",
     "output_type": "stream",
     "text": [
      "(<class 'TypeError'>, TypeError(\"'list' object is not callable\",), <traceback object at 0x078B38C8>)\n",
      "10\n",
      "9\n",
      "14\n",
      "49\n"
     ]
    }
   ],
   "source": [
    "\"\"\"Przykład PY16. Przykłady nietypowych list.\"\"\"\n",
    "import sys\n",
    "def f1(x):\n",
    "  return x+x\n",
    "def f2(x):\n",
    "  return x*x;\n",
    "a=[f1,f2]\n",
    "try:\n",
    "  print(a(5))\n",
    "except:\n",
    "  print(sys.exc_info())\n",
    "print(a[0](5))\n",
    "print(a[1](3))\n",
    "def b(x):\n",
    "  a=[f1,f2]\n",
    "  for f in a:\n",
    "      yield f(x)\n",
    "for y in b(7):\n",
    "  print(y)"
   ]
  },
  {
   "cell_type": "code",
   "execution_count": 17,
   "metadata": {},
   "outputs": [
    {
     "name": "stdout",
     "output_type": "stream",
     "text": [
      "[0, 3, 6, 9, 12]\n",
      "[13, 10, 7, 4, 1]\n",
      "[0, 3, 6]\n",
      "[7, 4, 1]\n",
      "[0, 1, 2, 3, 4, 5, 6, 7, 8]\n",
      "[13, 12, 11, 10]\n",
      "[9, 10, 11, 12, 13]\n",
      "[9, 8, 7, 6, 5, 4, 3, 2, 1]\n"
     ]
    }
   ],
   "source": [
    "\"\"\"Przykład PY17. Przykłady wycinania.\"\"\"\n",
    "a=[0,1,2,3,4,5,6,7,8,9,10,11,12,13]\n",
    "print(a[::3])\n",
    "print(a[::-3])\n",
    "print(a[0:7:3])\n",
    "print(a[7:0:-3])\n",
    "print(a[:9:1])\n",
    "print(a[:9:-1])\n",
    "print(a[9::1])\n",
    "print(a[9:0:-1])\n"
   ]
  },
  {
   "cell_type": "markdown",
   "metadata": {},
   "source": [
    "Jeszcze o wycinaniu:"
   ]
  },
  {
   "cell_type": "code",
   "execution_count": 18,
   "metadata": {},
   "outputs": [
    {
     "name": "stdout",
     "output_type": "stream",
     "text": [
      "[0, 1, -2, 3, 4, 5]\n",
      "[0, 1, -5, -3, 4, 5]\n",
      "[0, 1, -5, -3, 'a', 4, 5]\n",
      "[0, 1, 'q']\n",
      "[1, 3, 5]\n",
      "[0, 2, 4]\n",
      "[0, 1, 2, 3, 4, 5]\n",
      "[0, 1, 4, 5]\n"
     ]
    }
   ],
   "source": [
    "\"\"\"Przykład PY18. Przykłady wycinania i usuwania.\"\"\"\n",
    "a=[0,1,2,3,4,5]\n",
    "a[2]=-2\n",
    "print(a)\n",
    "a[2:4]=[-5,-3]\n",
    "print(a)\n",
    "a[4:2]='a'\n",
    "print(a)\n",
    "a[2:]=['q']\n",
    "print(a)\n",
    "a=[0,1,2,3,4,5]\n",
    "del a[::2]\n",
    "print(a)\n",
    "a=[0,1,2,3,4,5]\n",
    "del a[::-2]\n",
    "print(a)\n",
    "a=list(range(0,6))\n",
    "del a[3:1:]\n",
    "print(a)\n",
    "del a[3:1:-1]\n",
    "print(a)"
   ]
  },
  {
   "cell_type": "code",
   "execution_count": 19,
   "metadata": {},
   "outputs": [
    {
     "name": "stdout",
     "output_type": "stream",
     "text": [
      "[6, (4-10j), -6.4]\n",
      "[(2-5j), -3.2]\n",
      "[(3, 'a', (2-5j)), (3, 'a', -3.2), (3, 'b', (2-5j)), (3, 'b', -3.2), ((2-5j), 'a', (2-5j)), ((2-5j), 'a', -3.2), ((2-5j), 'b', (2-5j)), ((2-5j), 'b', -3.2), (-3.2, 'a', (2-5j)), (-3.2, 'a', -3.2), (-3.2, 'b', (2-5j)), (-3.2, 'b', -3.2)]\n",
      "<generator object <genexpr> at 0x02B200C0>\n",
      "10\n",
      "20\n",
      "2\n",
      "4\n",
      "9.0\n",
      "0.3333333333333333\n",
      "1.0\n",
      "243.0\n",
      "(<class 'StopIteration'>, StopIteration(), <traceback object at 0x02B3DC60>)\n",
      "<generator object Fib at 0x02B20180>\n",
      "0\n",
      "0\n",
      "0\n",
      "1\n",
      "1\n",
      "2\n",
      "[0, 1, 1, 2, 3, 5, 8, 13, 21, 34, 55]\n",
      "(<class 'TypeError'>, TypeError(\"'range' object is not an iterator\",), <traceback object at 0x02B3DD50>)\n",
      "<range_iterator object at 0x02B24F98>\n",
      "1\n",
      "2\n",
      "a\n",
      "as\n",
      "{1: [1, 2], 2: [1, 2], 'a': [1, 2]}\n"
     ]
    }
   ],
   "source": [
    "\"\"\"Przykład PY19. Listy zasięgu (list comprehensions) i generatory.\"\"\"\n",
    "import math\n",
    "import sys\n",
    "\n",
    "a=[3,2-5J,-3.2]\n",
    "b=\"abcd\"\n",
    "c=[2*s for s in a]\n",
    "print(c)\n",
    "d=[s for s in a if abs(s)>3.1]\n",
    "print(d)\n",
    "e=[(x,y,z) for x in a\n",
    "      for y in b\n",
    "      for z in d\n",
    "      if y<\"c\"]\n",
    "print(e)\n",
    "a=[1,2,4,]\n",
    "b=(10*i for i in a)\n",
    "print(b)\n",
    "print(next(b))          # UWAGA!!! Dawniej print(b.next())\n",
    "print(next(b))\n",
    "a=(1,2,4)\n",
    "b=(2*i for i in a)\n",
    "print(next(b))\n",
    "print(next(b))\n",
    "a=(math.pow(3,y) for y in [2,-1,0,5])\n",
    "print(next(a))\n",
    "print(next(a))\n",
    "print(next(a))\n",
    "print(next(a))\n",
    "try:\n",
    "  print(next(a))\n",
    "except:\n",
    "  print(sys.exc_info())\n",
    "def Fib(n):\n",
    "  x,y=0,1\n",
    "  for i in range(1,n):\n",
    "     yield x\n",
    "     x,y=y,x+y\n",
    "\n",
    "print(Fib(10))\n",
    "print(next(Fib(10)))\n",
    "print(next(Fib(10)))\n",
    "a=Fib(10)\n",
    "print(next(a))\n",
    "print(next(a))\n",
    "print(next(a))\n",
    "print(next(a))\n",
    "a=list(Fib(12))\n",
    "print(a)\n",
    "a=range(20)       # a=xrange(20) było w Pythonie 2.7 teraz range to stare xrange\n",
    "try:\n",
    "  print(next(a))\n",
    "except:\n",
    "  print(sys.exc_info())\n",
    "a=iter(range(1,20))\n",
    "print(a)\n",
    "try:\n",
    "  print(next(a))\n",
    "except:\n",
    "  print(sys.exc_info())\n",
    "try:\n",
    "  print(next(a))\n",
    "except:\n",
    "  print(sys.exc_info())\n",
    "a=iter(\"abasklfd\")\n",
    "print(next(a))\n",
    "a=iter({\"as\":12, \"to\":1-3J})\n",
    "try:\n",
    "  print(next(a))\n",
    "except:\n",
    "  print(sys.exc_info())\n",
    "\n",
    "a=[1,2,'a']\n",
    "b=(3,'aa',[1,2])\n",
    "c={e:f for e in a for f in b if type(e)!=type(f)}    # ? Jak to zadziałało\n",
    "print(c)\n",
    "   "
   ]
  },
  {
   "cell_type": "code",
   "execution_count": 20,
   "metadata": {},
   "outputs": [
    {
     "name": "stdout",
     "output_type": "stream",
     "text": [
      "['aa', 'bb', 2, 5.1, 'dd']\n",
      "['aa', 'bb', 2, 5.1, 'dd', ['pp']]\n",
      "['aa', 'bb', 2, 5.1, 'dd']\n",
      "['aa', 'bb', 5.1, 'dd']\n",
      "(<class 'ValueError'>, ValueError('list.remove(x): x not in list',), <traceback object at 0x078B3288>)\n",
      "5.1\n",
      "['aa', 'bb', 'dd']\n",
      "['aa', 'bb', 'dd', 'pp']\n",
      "['aa', 'bb', 'ww', 'dd', 'pp']\n",
      "['pp', 'dd', 'ww', 'bb', 'aa']\n",
      "['aa', 'bb', 'dd', 'pp', 'ww']\n",
      "2\n",
      "['aa', 'bb', 'dd', 'pp', 'ww', 'hh']\n",
      "['aa', 'bb', 'dd', 'pp', 'ww', 'hh', 'r', 'r']\n",
      "['cc', 0, 'cc', 0, 'cc', 0]\n",
      "['a', 2]\n",
      "{1: [1, 2], 2: [1, 2], 'a': [1, 2]}\n"
     ]
    }
   ],
   "source": [
    "\"\"\"Przykład PY20. Operowanie na listach.\"\"\"\n",
    "import sys\n",
    "\n",
    "list1=[\"aa\", 'bb', 2, 5.1]\n",
    "list1.append('dd')\n",
    "print(list1)\n",
    "list1.append(['pp'])\n",
    "print(list1)\n",
    "list1.remove(['pp'])\n",
    "print(list1)\n",
    "list1.remove(2)\n",
    "print(list1)\n",
    "try:\n",
    "    list1.remove(2)\n",
    "except:\n",
    "    print(sys.exc_info())\n",
    "print(list1.pop(2))\n",
    "print(list1)\n",
    "list1.extend(['pp'])\n",
    "print(list1)\n",
    "list1.insert(2,'ww')\n",
    "print(list1)\n",
    "list1.reverse()\n",
    "print(list1)\n",
    "list1.sort()\n",
    "print(list1)\n",
    "print(list1.index('dd'))\n",
    "list1+=['hh']\n",
    "print(list1)\n",
    "list1+='rr'\n",
    "print(list1)\n",
    "list2=[\"cc\",0]\n",
    "list2*=3\n",
    "print(list2)\n",
    "try:\n",
    "    print(a[9:0:-1])\n",
    "except:\n",
    "    print(sys.exc_info())\n",
    "    \n",
    "a=[1,2,'a']\n",
    "b=(3,'aa',[1,2])\n",
    "c={e:f for e in a for f in b if type(e)!=type(f)}    # ? Jak to zadziałało\n",
    "print(c)\n",
    "           "
   ]
  },
  {
   "cell_type": "code",
   "execution_count": 21,
   "metadata": {},
   "outputs": [
    {
     "name": "stdout",
     "output_type": "stream",
     "text": [
      "['a', 'c', 'b', 'd']\n",
      "['a', 'b', 'c', 'd', 'e', 'f', 'g', 'h', 'i', 'j', 'k', 'l']\n",
      "['l', 'k', 'j', 'i', 'h', 'g', 'f', 'e', 'd', 'c', 'b', 'a']\n",
      "[(4, 3), (1, 2), (1, 5), (7, 12)]\n"
     ]
    }
   ],
   "source": [
    "\"\"\"Przykład PY21. Metoda sort.\"\"\"\n",
    "# ######### Starsza wersja z cmp nieaktualna w 3.6\n",
    "def comp(x,y):\n",
    "    if x in ['a','c','d','e'] and  y in ['b' ,'g','h']: \n",
    "        return -1\n",
    "    else:\n",
    "        if x<y: return -1\n",
    "        if x==y: return 0\n",
    "        if x>y: return 1\n",
    "\n",
    "# ########## Nowsza wersja z key (wrapper)\n",
    "def cmp_to_key(mycmp):\n",
    "    'Convert a cmp= function into a key= function'\n",
    "    class K:\n",
    "        def __init__(self, obj, *args):\n",
    "            self.obj = obj\n",
    "        def __lt__(self, other):\n",
    "            return mycmp(self.obj, other.obj) < 0\n",
    "        def __gt__(self, other):\n",
    "            return mycmp(self.obj, other.obj) > 0\n",
    "        def __eq__(self, other):\n",
    "            return mycmp(self.obj, other.obj) == 0\n",
    "        def __le__(self, other):\n",
    "            return mycmp(self.obj, other.obj) <= 0\n",
    "        def __ge__(self, other):\n",
    "            return mycmp(self.obj, other.obj) >= 0\n",
    "        def __ne__(self, other):\n",
    "            return mycmp(self.obj, other.obj) != 0\n",
    "    return K\n",
    "\n",
    "list1=['d','b','a','c']\n",
    "list1=sorted(list1,key=cmp_to_key(comp))\n",
    "\n",
    "print(list1)\n",
    "list1=list(\"abcdefghijkl\")\n",
    "print(list1)\n",
    "list1.sort(key=lambda x: 4-ord(x)/4)\n",
    "print(list1)\n",
    "\n",
    "# ################# Sortowanie \"podwojnych\" list \n",
    "list1=[(1,2),(1,5),(4,3),(7,12)]\n",
    "list1.sort(key= lambda x: x[1]-x[0])\n",
    "print(list1)\n",
    "\n",
    "# ################## Sortowanie obiektów\n",
    "class Custom(object):\n",
    "    def __init__(self, name, number):\n",
    "        self.name = name\n",
    "        self.number = number\n",
    "        \n",
    "    def gkey(self):                    # To podstawa sumowania\n",
    "        return self.number - 2*len(self.name)\n",
    "\n",
    "def getKey(customobj):\n",
    "    return customobj.gkey()\n",
    "customlist = [\n",
    "    Custom('objekt', 99),\n",
    "    Custom('michał', 1),\n",
    "    Custom('Kazimierz Wielki', 59),\n",
    "    Custom('pomysł', 42)\n",
    "]\n",
    "customlist.sort(key=getKey)"
   ]
  },
  {
   "cell_type": "markdown",
   "metadata": {},
   "source": [
    "#### <a name=\"et6\"></a> 3.3 Krotki (tuple)"
   ]
  },
  {
   "cell_type": "code",
   "execution_count": 22,
   "metadata": {},
   "outputs": [
    {
     "name": "stdout",
     "output_type": "stream",
     "text": [
      "(1, 3, 'u')\n",
      "1 3 u\n",
      "1\n",
      "3\n",
      "(3,)\n",
      "0\n",
      "a\n",
      "('a',)\n",
      "(1, 2, [3, 5])\n",
      "(1, [3, 5])\n",
      "(1, 2, [3, 5], 1, 2, [3, 5])\n",
      "(1, 2, 0, 1, 2, [3, 5])\n",
      "(7, 10, 0)\n",
      "2\n",
      "4\n",
      "4\n"
     ]
    }
   ],
   "source": [
    "\"\"\"Przykład PY22. Przykłady operacji na krotkach i wielokrotne podstawienia.\"\"\"\n",
    "a,b,c=1,3,'u'\n",
    "krotka=(a,b,c)\n",
    "print(krotka)\n",
    "a,b,c=(1,3,'u')\n",
    "print(a,b,c)\n",
    "print(a)\n",
    "a=3\n",
    "print((a))\n",
    "print((a,))\n",
    "krotka=()\n",
    "print(len(krotka))\n",
    "krotka=('a')\n",
    "print(krotka)\n",
    "krotka=('a',)\n",
    "print(krotka)\n",
    "krotka=1,2,[3,5]\n",
    "print(krotka)\n",
    "print(krotka[::2])\n",
    "krotka*=2\n",
    "print(krotka)\n",
    "# krotka[2]=0                     To nie zadziala\n",
    "krotka=krotka[:2]+(0,)+krotka[3:]\n",
    "print(krotka)\n",
    "(x,y,z)=(1,2,3)\n",
    "(x,y,z)=(y+5,z+7, x-1)\n",
    "print((x,y,z))\n",
    "(x,x)=(1,2)\n",
    "print(x)\n",
    "(x,x)=(x+1,x+2)\n",
    "print(x)\n",
    "x=2\n",
    "[x,x]=[x+1,x+2]\n",
    "print(x)"
   ]
  },
  {
   "cell_type": "markdown",
   "metadata": {},
   "source": [
    "### <a name=\"et7\"></a>4. Słowniki (dict)\n",
    "\n",
    "![image.png](Data/PYTHONI/PY-5.png)"
   ]
  },
  {
   "cell_type": "code",
   "execution_count": 24,
   "metadata": {},
   "outputs": [
    {
     "ename": "NameError",
     "evalue": "name 'mail' is not defined",
     "output_type": "error",
     "traceback": [
      "\u001b[1;31m---------------------------------------------------------------------------\u001b[0m",
      "\u001b[1;31mNameError\u001b[0m                                 Traceback (most recent call last)",
      "\u001b[1;32m<ipython-input-24-d16eb49b9be9>\u001b[0m in \u001b[0;36m<module>\u001b[1;34m()\u001b[0m\n\u001b[0;32m     16\u001b[0m     \u001b[0mprint\u001b[0m\u001b[1;33m(\u001b[0m\u001b[0mlen\u001b[0m\u001b[1;33m(\u001b[0m\u001b[0mmail\u001b[0m\u001b[1;33m)\u001b[0m\u001b[1;33m)\u001b[0m\u001b[1;33m\u001b[0m\u001b[0m\n\u001b[0;32m     17\u001b[0m \u001b[1;33m\u001b[0m\u001b[0m\n\u001b[1;32m---> 18\u001b[1;33m \u001b[1;32mfor\u001b[0m \u001b[0mo\u001b[0m \u001b[1;32min\u001b[0m \u001b[0mmail\u001b[0m\u001b[1;33m.\u001b[0m\u001b[0mitervalues\u001b[0m\u001b[1;33m(\u001b[0m\u001b[1;33m)\u001b[0m\u001b[1;33m:\u001b[0m\u001b[1;33m\u001b[0m\u001b[0m\n\u001b[0m\u001b[0;32m     19\u001b[0m     \u001b[0mwyslij_do\u001b[0m\u001b[1;33m(\u001b[0m\u001b[0mo\u001b[0m\u001b[1;33m,\u001b[0m\u001b[0mtresc\u001b[0m\u001b[1;33m)\u001b[0m\u001b[1;33m\u001b[0m\u001b[0m\n",
      "\u001b[1;31mNameError\u001b[0m: name 'mail' is not defined"
     ]
    }
   ],
   "source": [
    "\"\"\"Przykład PY23. Słownik. Przykład interfejsu www do odbierania/wysyłania poczty.\"\"\"\n",
    "# Z pliku wczytujemy dane nazwa email i wpisujemy do slownika\n",
    "def wyslij_do(do,tresc):\n",
    "    print(\"wyslales maila do \",)\n",
    "    print(do,)\n",
    "    print(\"o tresci: \",)\n",
    "    print(tresc)\n",
    "    mail={}\n",
    "    tresc=\"Python jest super\"\n",
    "    infile = file('t.dat', 'r')\n",
    "    # można wczytywać z bazy danych używając np.: MySQLdb\n",
    "    for line in infile:\n",
    "        line=line.strip('\\n').split(' ')\n",
    "        mail[line[0]]=line[1]\n",
    "    print(mail.keys())\n",
    "    print(len(mail))\n",
    "\n",
    "for o in mail.itervalues():\n",
    "    wyslij_do(o,tresc)"
   ]
  },
  {
   "cell_type": "code",
   "execution_count": 19,
   "metadata": {},
   "outputs": [
    {
     "name": "stdout",
     "output_type": "stream",
     "text": [
      "{None: None, 3.25: {'1': 1, '2': 2}, (2-4.3j): (2-4.3j), (1, 2, 3): (1, 2, 3), True: True, frozenset({1, 2, 3}): frozenset({1, 2, 3}), inf: inf} None\n",
      "None 3.25 (2-4.3j) [1, 2, 3] (1, 2, 3) True {'1': 1, '2': 2} {1, 2, 3} frozenset({1, 2, 3}) inf\n",
      "dict_keys([None, 3.25, (2-4.3j), (1, 2, 3), True, frozenset({1, 2, 3}), inf])\n",
      "dict_values([None, {'1': 1, '2': 2}, (2-4.3j), (1, 2, 3), True, frozenset({1, 2, 3}), inf])\n"
     ]
    }
   ],
   "source": [
    "a,b,c=None, 3.25, 2-4.3J \n",
    "d,e,f,g,h,i,j=[1,2,3], (1,2,3), True, {'1':1,'2':2}, set([1,2,3]),frozenset([1,2,3]), 2e302 * 3923817273929\n",
    "x={a:a, b:b, c:c, e:d, e:e, f:f, b:g, i:h, i:i, j:j}\n",
    "print(x, x[None])\n",
    "print(a,b,c,d,e,f,g,h,i,j)\n",
    "print(x.keys())\n",
    "print(x.values())"
   ]
  },
  {
   "cell_type": "code",
   "execution_count": 25,
   "metadata": {},
   "outputs": [
    {
     "data": {
      "text/plain": [
       "5"
      ]
     },
     "execution_count": 25,
     "metadata": {},
     "output_type": "execute_result"
    }
   ],
   "source": [
    "\"\"\"Przykład PY24. Zastosowanie słownika do zapamiętania macierzy rzadkiej (lub grafu o niewielkiej ilości krawędzi).\"\"\"\n",
    "macierz={(1,1):3, (1,4):-2, (2,4):1, (3,2):5}\n",
    "i,j=3,2\n",
    "macierz.get((i,j),0)"
   ]
  },
  {
   "cell_type": "code",
   "execution_count": 26,
   "metadata": {},
   "outputs": [
    {
     "name": "stdout",
     "output_type": "stream",
     "text": [
      "{'A': 1, 'b': 2, 'r': 2, 'a': 4, 'k': 1, 'd': 1}\n"
     ]
    }
   ],
   "source": [
    "\"\"\"Przykład PY25. Zastosowanie słowników do modelowania relacji:  1<->1.\"\"\"\n",
    "tekst_licz = {}\n",
    "for litery in \"Abrakadabra\":\n",
    "  tekst_licz[litery] = tekst_licz.get (litery, 0) + 1\n",
    "print(tekst_licz)"
   ]
  },
  {
   "cell_type": "code",
   "execution_count": 27,
   "metadata": {},
   "outputs": [
    {
     "name": "stdout",
     "output_type": "stream",
     "text": [
      "{('a', 'e', 'o', 'i', 'u', 'y'): 9, ('b', 'c', 'd', 'f', 'g', 'h', 'j', 'k', 'l', 'm', 'n', 'p', 'r', 's', 't', 'w', 'x', 'z'): 12, ('ą', 'ć', 'ę', 'ł', 'ń', 'ó', 'ś', 'ż', 'ź'): 2, ('.', ',', ':', ';'): 3, ('(', ')', '{', '}', '[', ']', '/', '\\\\', '=', '-', '+'): 0}\n"
     ]
    }
   ],
   "source": [
    "\"\"\"Przykład PY26. Zastosowanie słowników do modelowania relacji:  1<->wielu, wielu?<->.\"\"\"\n",
    "tekst_licz={tuple('aeoiuy'):0, tuple('bcdfghjklmnprstwxz'):0, tuple('ąćęłńóśżź'):0, tuple('.,:;'):0, tuple('(){}[]/\\=-+'):0}\n",
    "for litera in \"Jakiś sobie, tam gdzieś, tekst.\":\n",
    "   for c in tekst_licz.keys():\n",
    "       if litera in c:\n",
    "            tekst_licz[c]+=1\n",
    "            break\n",
    "print(tekst_licz)"
   ]
  },
  {
   "cell_type": "code",
   "execution_count": 28,
   "metadata": {},
   "outputs": [
    {
     "name": "stdout",
     "output_type": "stream",
     "text": [
      "{('a', 'e', 'o', 'i', 'u', 'y'): 9, ('b', 'c', 'd', 'f', 'g', 'h', 'j', 'k', 'l', 'm', 'n', 'p', 'r', 's', 't', 'w', 'x', 'z'): 12, ('ą', 'ć', 'ę', 'ł', 'ń', 'ó', 'ś', 'ź', 'ż'): 2, ('.', ',', ':', ';'): 3, ('(', ')', '{', '}', '[', ']', '/', '\\\\', '=', '-', '+'): 0}\n"
     ]
    }
   ],
   "source": [
    "\"\"\"Przykład PY27. Zastosowanie słowników do modelowania relacji:  wielu<->wielu.\"\"\"\n",
    "tekst_licz={tuple('aeoiuy'):0, tuple('bcdfghjklmnprstwxz'):0,  \n",
    "  tuple(u'\\u0105\\u0107\\u0119\\u0142\\u0144\\u00f3\\u015b\\u017a\\u017c'):0, \n",
    "  tuple('.,:;'):0, tuple('(){}[]/\\=-+'):0}\n",
    "for litera in u\"Jaki\\u015b sobie, tam gdzie\\u015b, tekst.\":\n",
    "   for c in tekst_licz.keys():\n",
    "         if litera in c:\n",
    "            tekst_licz[c]+=1\n",
    "            break\n",
    "print(tekst_licz)"
   ]
  },
  {
   "cell_type": "code",
   "execution_count": 29,
   "metadata": {},
   "outputs": [
    {
     "name": "stdout",
     "output_type": "stream",
     "text": [
      "['Biggs N., L.', 'Bollobas B.', 'Bryant V.', 'Cormen Th. H.', 'Leiserson Ch., E.', 'Rivest, R., L.', 'Stein, C.']\n"
     ]
    }
   ],
   "source": [
    "\"\"\"Przykład PY28. Słownik jako naturalne odwzorowanie baz danych.\"\"\"\n",
    "bibliography=[{'Author': 'Biggs N., L.','Title': 'Discrete Mathematics',\\\n",
    "               'Editor':'Oxford University Press','Year':1989},\n",
    "      {'Author':'Bollobas B.','Title':'Modern Graph Theory', \\\n",
    "               'Editor':'Springer','Year':1998},\n",
    "      {'Author':'Bryant V.','Title':'Aspekty kombinatoryki',\\\n",
    "               'Editor': 'Wydawnictwo Naukowo-Techniczne','Year':1977},\n",
    "      {'Author':['Cormen Th. H.','Leiserson Ch., E.',\\\n",
    "                 'Rivest, R., L.','Stein, C.'],'Title':\\\n",
    "                 'Wprowadzenie do algorytmów','Editor':'WNT', 'Year':2004}]\n",
    "index='Author'\n",
    "bt=[]\n",
    "for bibitem in bibliography:\n",
    "  if isinstance(bibitem[index],list):\n",
    "       bt.extend(bibitem[index])\n",
    "  else:\n",
    "       bt.append(bibitem[index])\n",
    "bt.sort\n",
    "print(bt)"
   ]
  },
  {
   "cell_type": "markdown",
   "metadata": {},
   "source": [
    "### <a name=\"et8\"></a>5. Zbiory set i frozenset\n",
    "\n",
    "![image.png](Data/PYTHONI/PY-6.png)"
   ]
  },
  {
   "cell_type": "code",
   "execution_count": 30,
   "metadata": {},
   "outputs": [
    {
     "name": "stdout",
     "output_type": "stream",
     "text": [
      "{1, 2, 3, 4, 'b', 'a'}\n",
      "{1, 2}\n",
      "{3}\n",
      "True\n",
      "True\n",
      "{1, 2, 4, 'a', 'b'}\n",
      "False\n",
      "True\n",
      "3\n",
      "{1, 3}\n",
      "{1, 3, 7}\n",
      "{1, 3, 7, ' ', 'a', 's', 'l', 'm'}\n",
      "(<class 'AttributeError'>, AttributeError(\"'frozenset' object has no attribute 'add'\",), <traceback object at 0x02BE0BE8>)\n",
      "frozenset({1, 2, 3, 8, 9})\n",
      "frozenset({1, 2, 3})\n",
      "frozenset({8, 9})\n",
      "{3}\n",
      "(<class 'TypeError'>, TypeError(\"unhashable type: 'set'\",), <traceback object at 0x02BE0C38>)\n",
      "(<class 'TypeError'>, TypeError(\"unhashable type: 'set'\",), <traceback object at 0x02BE0C38>)\n"
     ]
    }
   ],
   "source": [
    "\"\"\"Przykład PY29. Operacje na zbiorach.\"\"\"\n",
    "import sys\n",
    "\n",
    "a,b=set([1,2,3]),set(['a','b',3,4])\n",
    "c=a|b\n",
    "print(c)\n",
    "c=a-b\n",
    "print(c)\n",
    "c=a&b\n",
    "print(c)\n",
    "print(c<=b)\n",
    "print(c.issubset(a))\n",
    "c=a^b\n",
    "print(c)\n",
    "print('u' in a)\n",
    "print('a' in b)\n",
    "print(len(a))\n",
    "a.discard(2)\n",
    "print(a)\n",
    "a.add(7)\n",
    "print(a)\n",
    "a.update('ala ma asa')\n",
    "print(a)\n",
    "a,b=frozenset([1,2,3]),set(['a','b',3,4])\n",
    "try:\n",
    "    a.add(5)\n",
    "except:\n",
    "    print(sys.exc_info())\n",
    "c=frozenset([8,9])\n",
    "print(a.union(c))\n",
    "print(a)\n",
    "print(c)\n",
    "c=b.intersection(a)\n",
    "print(c)\n",
    "try:\n",
    "    b=set([2,3,set([4,5]),frozenset(['a','b'])])\n",
    "except:\n",
    "    print(sys.exc_info())\n",
    "try:\n",
    "    b=set([2,3,set([4,5]),set(['a','b'])])\n",
    "except:\n",
    "    print(sys.exc_info())\n",
    "b=frozenset([2,3,frozenset([4,5]),frozenset(['a','b'])])"
   ]
  },
  {
   "cell_type": "markdown",
   "metadata": {},
   "source": [
    "### <a name=\"et9\"></a> 6. Inne typy niestandardowe"
   ]
  },
  {
   "cell_type": "code",
   "execution_count": 31,
   "metadata": {},
   "outputs": [
    {
     "name": "stdout",
     "output_type": "stream",
     "text": [
      "[[1 2]\n",
      " [5 7]]\n",
      "[[ 2  4]\n",
      " [10 14]]\n",
      "10\n",
      "[[1.         0.5       ]\n",
      " [0.2        0.14285714]]\n",
      "[[ 1  3]\n",
      " [21 43]]\n",
      "array('l', [2, 5, 8, 11])\n",
      "array('d', [1.0, 3.14, 6.59])\n",
      "3\n",
      "4\n",
      "array('d', [1.0, 3.14, 6.59, 2.0])\n",
      "(<class 'TypeError'>, TypeError('can only extend with array of same kind',), <traceback object at 0x0BE94B70>)\n",
      "array('d', [1.0, 3.14, 6.59, 2.0, 3.56, -1.15])\n",
      "array('d', [1.0, 3.14, 6.59, 2.0, -1.15])\n",
      "1\n",
      "2\n",
      "array('d', [1.0, 3.14, 6.59, -1.15])\n",
      "[-1.15, 1.0, 3.14, 6.59]\n",
      "[6.59, 3.14, 1.0, -1.15]\n"
     ]
    }
   ],
   "source": [
    "\"\"\"Przykład PY30. Tworzenie tablic.\"\"\"\n",
    "import numpy \n",
    "import array\n",
    "import sys\n",
    "\n",
    "a=numpy.array([[1,2],[5,7]], dtype=numpy.int)\n",
    "print(a)\n",
    "print(a+a)\n",
    "b=a+a\n",
    "print(b[1,0])    ### b[1,2] nie ma\n",
    "print(1/a)\n",
    "print(1-a+a*a)\n",
    "\n",
    "\n",
    "b=array.array('l',range(2,12,3))\n",
    "print(b)\n",
    "c=array.array('d',[1.0,3.14,6.59])\n",
    "print(c)\n",
    "print(len(c))\n",
    "print(len(b))\n",
    "c.append(2)\n",
    "print(c)\n",
    "try:\n",
    "    c.extend(b)\n",
    "except:\n",
    "    print(sys.exc_info())\n",
    "c.extend(array.array('d',[3.56, -1.15]))\n",
    "print(c)\n",
    "del(c[4])\n",
    "print(c)\n",
    "print(c.count(3.14))\n",
    "print(c.index(6.59))\n",
    "c.remove(2.0)\n",
    "print(c)\n",
    "c=sorted(c)\n",
    "print(c)\n",
    "c.reverse()\n",
    "print(c)"
   ]
  },
  {
   "cell_type": "code",
   "execution_count": 32,
   "metadata": {},
   "outputs": [
    {
     "name": "stdout",
     "output_type": "stream",
     "text": [
      "-0.19999999999999998\n",
      "-0.2\n",
      "-1/5\n",
      "3/2\n"
     ]
    }
   ],
   "source": [
    "\"\"\"Przykład PY31. Typy biblioteczne Decimal i Fraction\"\"\"\n",
    "from decimal import Decimal\n",
    "from fractions import Fraction\n",
    "\n",
    "print(0.1 - 0.3)\n",
    "print(Decimal('0.1') - Decimal('0.3'))\n",
    "print(Fraction(1, 10) - Fraction(3, 10))\n",
    "print(Fraction(1, 3) + Fraction(7, 6))"
   ]
  }
 ],
 "metadata": {
  "kernelspec": {
   "display_name": "Python 3",
   "language": "python",
   "name": "python3"
  },
  "language_info": {
   "codemirror_mode": {
    "name": "ipython",
    "version": 3
   },
   "file_extension": ".py",
   "mimetype": "text/x-python",
   "name": "python",
   "nbconvert_exporter": "python",
   "pygments_lexer": "ipython3",
   "version": "3.6.4"
  }
 },
 "nbformat": 4,
 "nbformat_minor": 2
}
